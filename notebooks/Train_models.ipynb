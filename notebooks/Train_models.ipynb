{
 "cells": [
  {
   "cell_type": "markdown",
   "metadata": {},
   "source": [
    "### 8. Feature extraction\n",
    "\n",
    "Convert the preprocessed text into numerical features that machine learning models can understand: TF-IDF (Term Frequency-Inverse Document Frequency) to represent each book summary."
   ]
  },
  {
   "cell_type": "code",
   "execution_count": 1,
   "metadata": {},
   "outputs": [],
   "source": [
    "import pandas as pd\n",
    "import numpy as np\n",
    "from matplotlib import pyplot as plt\n",
    "%matplotlib inline\n",
    "%config Inlinebackend.figure_format = 'retina'\n",
    "\n",
    "import seaborn as sns\n",
    "sns.set_context('poster')\n",
    "sns.set(rc={'figure.figsize': (16., 9.)})\n",
    "sns.set_style('whitegrid')\n",
    "import os\n",
    "\n",
    "# Metrics\n",
    "from sklearn.metrics import confusion_matrix\n",
    "from sklearn.metrics import precision_score\n",
    "from sklearn.metrics import accuracy_score\n",
    "from sklearn.metrics import recall_score\n",
    "from sklearn.metrics import f1_score"
   ]
  },
  {
   "cell_type": "code",
   "execution_count": 2,
   "metadata": {},
   "outputs": [],
   "source": [
    "from sklearn.feature_extraction.text import TfidfVectorizer\n",
    "from sklearn.feature_extraction.text import CountVectorizer\n",
    "from sklearn.ensemble import RandomForestClassifier\n",
    "from xgboost import XGBClassifier\n",
    "from sklearn.model_selection import train_test_split"
   ]
  },
  {
   "cell_type": "code",
   "execution_count": 3,
   "metadata": {},
   "outputs": [
    {
     "data": {
      "text/html": [
       "<div>\n",
       "<style scoped>\n",
       "    .dataframe tbody tr th:only-of-type {\n",
       "        vertical-align: middle;\n",
       "    }\n",
       "\n",
       "    .dataframe tbody tr th {\n",
       "        vertical-align: top;\n",
       "    }\n",
       "\n",
       "    .dataframe thead th {\n",
       "        text-align: right;\n",
       "    }\n",
       "</style>\n",
       "<table border=\"1\" class=\"dataframe\">\n",
       "  <thead>\n",
       "    <tr style=\"text-align: right;\">\n",
       "      <th></th>\n",
       "      <th>title</th>\n",
       "      <th>summary</th>\n",
       "      <th>genre</th>\n",
       "      <th>cleaned_summary</th>\n",
       "      <th>entities</th>\n",
       "      <th>word_count</th>\n",
       "      <th>unique_word_count</th>\n",
       "    </tr>\n",
       "  </thead>\n",
       "  <tbody>\n",
       "    <tr>\n",
       "      <th>0</th>\n",
       "      <td>A Clockwork Orange</td>\n",
       "      <td>Alex, a teenager living in near-future Englan...</td>\n",
       "      <td>science fiction</td>\n",
       "      <td>alex teenager living near future england lead ...</td>\n",
       "      <td>[('alex', 'PERSON'), ('england', 'GPE'), ('rus...</td>\n",
       "      <td>588</td>\n",
       "      <td>416</td>\n",
       "    </tr>\n",
       "    <tr>\n",
       "      <th>1</th>\n",
       "      <td>The Plague</td>\n",
       "      <td>The text of The Plague is divided into five p...</td>\n",
       "      <td>literary fiction</td>\n",
       "      <td>text plague divided five part town oran thousa...</td>\n",
       "      <td>[('five', 'CARDINAL'), ('dr bernard rieux', 'P...</td>\n",
       "      <td>609</td>\n",
       "      <td>424</td>\n",
       "    </tr>\n",
       "    <tr>\n",
       "      <th>2</th>\n",
       "      <td>All Quiet on the Western Front</td>\n",
       "      <td>The book tells the story of Paul Bäumer, a Ge...</td>\n",
       "      <td>literary fiction</td>\n",
       "      <td>book tell story paul umer german soldier who u...</td>\n",
       "      <td>[('paul umer', 'PERSON'), ('german', 'NORP'), ...</td>\n",
       "      <td>375</td>\n",
       "      <td>277</td>\n",
       "    </tr>\n",
       "  </tbody>\n",
       "</table>\n",
       "</div>"
      ],
      "text/plain": [
       "                            title  \\\n",
       "0              A Clockwork Orange   \n",
       "1                      The Plague   \n",
       "2  All Quiet on the Western Front   \n",
       "\n",
       "                                             summary             genre  \\\n",
       "0   Alex, a teenager living in near-future Englan...   science fiction   \n",
       "1   The text of The Plague is divided into five p...  literary fiction   \n",
       "2   The book tells the story of Paul Bäumer, a Ge...  literary fiction   \n",
       "\n",
       "                                     cleaned_summary  \\\n",
       "0  alex teenager living near future england lead ...   \n",
       "1  text plague divided five part town oran thousa...   \n",
       "2  book tell story paul umer german soldier who u...   \n",
       "\n",
       "                                            entities  word_count  \\\n",
       "0  [('alex', 'PERSON'), ('england', 'GPE'), ('rus...         588   \n",
       "1  [('five', 'CARDINAL'), ('dr bernard rieux', 'P...         609   \n",
       "2  [('paul umer', 'PERSON'), ('german', 'NORP'), ...         375   \n",
       "\n",
       "   unique_word_count  \n",
       "0                416  \n",
       "1                424  \n",
       "2                277  "
      ]
     },
     "execution_count": 3,
     "metadata": {},
     "output_type": "execute_result"
    }
   ],
   "source": [
    "data = pd.read_csv(\"/Users/usuari/Desktop/Ironhack/BOOTCAMP/projects/final_project/data/model_data.csv\")\n",
    "data.head(3)"
   ]
  },
  {
   "cell_type": "code",
   "execution_count": 4,
   "metadata": {},
   "outputs": [],
   "source": [
    "# I'm going to create a function to modify the column of \"entities\" so that in every row I have the types of entities that appear but not the specific entities.\n",
    "\n",
    "import ast\n",
    "\n",
    "# Function to extract the second element from each tuple in the entities string\n",
    "def extract_element(entities_str):\n",
    "    # Convert the entities string to a list of tuples\n",
    "    entities_list = ast.literal_eval(entities_str)\n",
    "        \n",
    "    # Check if the list is empty\n",
    "    if not entities_list:\n",
    "        return []\n",
    "        \n",
    "    # Extract the second element from each tuple\n",
    "    second_elements = [entity[1] for entity in entities_list]\n",
    "        \n",
    "    return second_elements"
   ]
  },
  {
   "cell_type": "code",
   "execution_count": 5,
   "metadata": {},
   "outputs": [
    {
     "data": {
      "text/html": [
       "<div>\n",
       "<style scoped>\n",
       "    .dataframe tbody tr th:only-of-type {\n",
       "        vertical-align: middle;\n",
       "    }\n",
       "\n",
       "    .dataframe tbody tr th {\n",
       "        vertical-align: top;\n",
       "    }\n",
       "\n",
       "    .dataframe thead th {\n",
       "        text-align: right;\n",
       "    }\n",
       "</style>\n",
       "<table border=\"1\" class=\"dataframe\">\n",
       "  <thead>\n",
       "    <tr style=\"text-align: right;\">\n",
       "      <th></th>\n",
       "      <th>title</th>\n",
       "      <th>summary</th>\n",
       "      <th>genre</th>\n",
       "      <th>cleaned_summary</th>\n",
       "      <th>entities</th>\n",
       "      <th>word_count</th>\n",
       "      <th>unique_word_count</th>\n",
       "    </tr>\n",
       "  </thead>\n",
       "  <tbody>\n",
       "    <tr>\n",
       "      <th>5348</th>\n",
       "      <td>Deliverance</td>\n",
       "      <td>Narrated in the first person by one of the ma...</td>\n",
       "      <td>thriller</td>\n",
       "      <td>narrated first person one main character graph...</td>\n",
       "      <td>[ORDINAL, CARDINAL, CARDINAL, GPE, DATE, GPE, ...</td>\n",
       "      <td>643</td>\n",
       "      <td>393</td>\n",
       "    </tr>\n",
       "    <tr>\n",
       "      <th>4159</th>\n",
       "      <td>Who Killed Kennedy</td>\n",
       "      <td>The book's credited co-writer, fictional jour...</td>\n",
       "      <td>literary fiction</td>\n",
       "      <td>book credited co writer fictional journalist j...</td>\n",
       "      <td>[PERSON, GPE, PERSON]</td>\n",
       "      <td>30</td>\n",
       "      <td>28</td>\n",
       "    </tr>\n",
       "    <tr>\n",
       "      <th>3022</th>\n",
       "      <td>Sharpe's Gold</td>\n",
       "      <td>Major Michael Hogan orders Sharpe to find out...</td>\n",
       "      <td>historical novel</td>\n",
       "      <td>major michael hogan order sharpe find happened...</td>\n",
       "      <td>[PERSON, PERSON, PERSON, NORP, NORP, PERSON, N...</td>\n",
       "      <td>371</td>\n",
       "      <td>231</td>\n",
       "    </tr>\n",
       "    <tr>\n",
       "      <th>2997</th>\n",
       "      <td>The Deviant Strain</td>\n",
       "      <td>The TARDIS lands the Doctor, Rose and Jack at...</td>\n",
       "      <td>science fiction</td>\n",
       "      <td>tardis land doctor rose jack abandoned soviet ...</td>\n",
       "      <td>[ORG, PERSON, NORP, DATE]</td>\n",
       "      <td>27</td>\n",
       "      <td>23</td>\n",
       "    </tr>\n",
       "    <tr>\n",
       "      <th>3799</th>\n",
       "      <td>Mid-Flinx</td>\n",
       "      <td>This novel does little to expand on Flinx’s m...</td>\n",
       "      <td>science fiction</td>\n",
       "      <td>novel little expand flinx much hinted upcoming...</td>\n",
       "      <td>[]</td>\n",
       "      <td>51</td>\n",
       "      <td>45</td>\n",
       "    </tr>\n",
       "  </tbody>\n",
       "</table>\n",
       "</div>"
      ],
      "text/plain": [
       "                   title                                            summary  \\\n",
       "5348         Deliverance   Narrated in the first person by one of the ma...   \n",
       "4159  Who Killed Kennedy   The book's credited co-writer, fictional jour...   \n",
       "3022       Sharpe's Gold   Major Michael Hogan orders Sharpe to find out...   \n",
       "2997  The Deviant Strain   The TARDIS lands the Doctor, Rose and Jack at...   \n",
       "3799           Mid-Flinx   This novel does little to expand on Flinx’s m...   \n",
       "\n",
       "                 genre                                    cleaned_summary  \\\n",
       "5348          thriller  narrated first person one main character graph...   \n",
       "4159  literary fiction  book credited co writer fictional journalist j...   \n",
       "3022  historical novel  major michael hogan order sharpe find happened...   \n",
       "2997   science fiction  tardis land doctor rose jack abandoned soviet ...   \n",
       "3799   science fiction  novel little expand flinx much hinted upcoming...   \n",
       "\n",
       "                                               entities  word_count  \\\n",
       "5348  [ORDINAL, CARDINAL, CARDINAL, GPE, DATE, GPE, ...         643   \n",
       "4159                              [PERSON, GPE, PERSON]          30   \n",
       "3022  [PERSON, PERSON, PERSON, NORP, NORP, PERSON, N...         371   \n",
       "2997                          [ORG, PERSON, NORP, DATE]          27   \n",
       "3799                                                 []          51   \n",
       "\n",
       "      unique_word_count  \n",
       "5348                393  \n",
       "4159                 28  \n",
       "3022                231  \n",
       "2997                 23  \n",
       "3799                 45  "
      ]
     },
     "execution_count": 5,
     "metadata": {},
     "output_type": "execute_result"
    }
   ],
   "source": [
    "data['entities'] = data['entities'].apply(extract_element)\n",
    "data.sample(5)"
   ]
  },
  {
   "cell_type": "code",
   "execution_count": 6,
   "metadata": {},
   "outputs": [],
   "source": [
    "# Now I'm going to convert the lists of entity categories in the column of \"entities\" into strings of tokens separated by spaces.\n",
    "# In this way, we'll have the same format in the columns of \"cleaned_summary\" and \"entities\".\n",
    "\n",
    "\n",
    "# Function to convert a list of strings to lowercase and join them\n",
    "def convert_entities_to_string(entities_list):\n",
    "    return ' '.join(entity.lower() for entity in entities_list)"
   ]
  },
  {
   "cell_type": "code",
   "execution_count": 7,
   "metadata": {},
   "outputs": [
    {
     "data": {
      "text/html": [
       "<div>\n",
       "<style scoped>\n",
       "    .dataframe tbody tr th:only-of-type {\n",
       "        vertical-align: middle;\n",
       "    }\n",
       "\n",
       "    .dataframe tbody tr th {\n",
       "        vertical-align: top;\n",
       "    }\n",
       "\n",
       "    .dataframe thead th {\n",
       "        text-align: right;\n",
       "    }\n",
       "</style>\n",
       "<table border=\"1\" class=\"dataframe\">\n",
       "  <thead>\n",
       "    <tr style=\"text-align: right;\">\n",
       "      <th></th>\n",
       "      <th>title</th>\n",
       "      <th>summary</th>\n",
       "      <th>genre</th>\n",
       "      <th>cleaned_summary</th>\n",
       "      <th>entities</th>\n",
       "      <th>word_count</th>\n",
       "      <th>unique_word_count</th>\n",
       "    </tr>\n",
       "  </thead>\n",
       "  <tbody>\n",
       "    <tr>\n",
       "      <th>2735</th>\n",
       "      <td>The Lady in the Morgue</td>\n",
       "      <td>Throughout the novel the true identity of the...</td>\n",
       "      <td>thriller</td>\n",
       "      <td>throughout novel true identity young attractiv...</td>\n",
       "      <td>gpe</td>\n",
       "      <td>73</td>\n",
       "      <td>66</td>\n",
       "    </tr>\n",
       "    <tr>\n",
       "      <th>7656</th>\n",
       "      <td>Servant of the Empire</td>\n",
       "      <td>Having risen in wealth, power and social stan...</td>\n",
       "      <td>fantasy</td>\n",
       "      <td>risen wealth power social standing still threa...</td>\n",
       "      <td>person person norp gpe person person person no...</td>\n",
       "      <td>199</td>\n",
       "      <td>155</td>\n",
       "    </tr>\n",
       "    <tr>\n",
       "      <th>1231</th>\n",
       "      <td>Netherland</td>\n",
       "      <td>For while the protagonist, Hans van den Broek...</td>\n",
       "      <td>literary fiction</td>\n",
       "      <td>protagonist han van den broek chooses cricket ...</td>\n",
       "      <td>person norp norp gpe gpe cardinal person gpe</td>\n",
       "      <td>64</td>\n",
       "      <td>59</td>\n",
       "    </tr>\n",
       "    <tr>\n",
       "      <th>7594</th>\n",
       "      <td>Friends in Low Places</td>\n",
       "      <td>The story starts in the little town of Menton...</td>\n",
       "      <td>thriller</td>\n",
       "      <td>story start little town menton april angela tu...</td>\n",
       "      <td>cardinal person person person cardinal person ...</td>\n",
       "      <td>499</td>\n",
       "      <td>301</td>\n",
       "    </tr>\n",
       "    <tr>\n",
       "      <th>462</th>\n",
       "      <td>Rainbow Six</td>\n",
       "      <td>Central Intelligence Agency operatives John C...</td>\n",
       "      <td>thriller</td>\n",
       "      <td>central intelligence agency operative john cla...</td>\n",
       "      <td>org person person org person org person person...</td>\n",
       "      <td>369</td>\n",
       "      <td>271</td>\n",
       "    </tr>\n",
       "    <tr>\n",
       "      <th>655</th>\n",
       "      <td>Foundation's Fear</td>\n",
       "      <td>Emperor Cleon I wants to appoint Hari Seldon ...</td>\n",
       "      <td>science fiction</td>\n",
       "      <td>emperor cleon want appoint hari seldon first m...</td>\n",
       "      <td>person person norp person gpe person gpe perso...</td>\n",
       "      <td>219</td>\n",
       "      <td>143</td>\n",
       "    </tr>\n",
       "  </tbody>\n",
       "</table>\n",
       "</div>"
      ],
      "text/plain": [
       "                       title  \\\n",
       "2735  The Lady in the Morgue   \n",
       "7656   Servant of the Empire   \n",
       "1231              Netherland   \n",
       "7594   Friends in Low Places   \n",
       "462              Rainbow Six   \n",
       "655        Foundation's Fear   \n",
       "\n",
       "                                                summary             genre  \\\n",
       "2735   Throughout the novel the true identity of the...          thriller   \n",
       "7656   Having risen in wealth, power and social stan...           fantasy   \n",
       "1231   For while the protagonist, Hans van den Broek...  literary fiction   \n",
       "7594   The story starts in the little town of Menton...          thriller   \n",
       "462    Central Intelligence Agency operatives John C...          thriller   \n",
       "655    Emperor Cleon I wants to appoint Hari Seldon ...   science fiction   \n",
       "\n",
       "                                        cleaned_summary  \\\n",
       "2735  throughout novel true identity young attractiv...   \n",
       "7656  risen wealth power social standing still threa...   \n",
       "1231  protagonist han van den broek chooses cricket ...   \n",
       "7594  story start little town menton april angela tu...   \n",
       "462   central intelligence agency operative john cla...   \n",
       "655   emperor cleon want appoint hari seldon first m...   \n",
       "\n",
       "                                               entities  word_count  \\\n",
       "2735                                                gpe          73   \n",
       "7656  person person norp gpe person person person no...         199   \n",
       "1231       person norp norp gpe gpe cardinal person gpe          64   \n",
       "7594  cardinal person person person cardinal person ...         499   \n",
       "462   org person person org person org person person...         369   \n",
       "655   person person norp person gpe person gpe perso...         219   \n",
       "\n",
       "      unique_word_count  \n",
       "2735                 66  \n",
       "7656                155  \n",
       "1231                 59  \n",
       "7594                301  \n",
       "462                 271  \n",
       "655                 143  "
      ]
     },
     "execution_count": 7,
     "metadata": {},
     "output_type": "execute_result"
    }
   ],
   "source": [
    "data['entities'] = data['entities'].apply(convert_entities_to_string)\n",
    "data.sample(6)"
   ]
  },
  {
   "cell_type": "code",
   "execution_count": 8,
   "metadata": {},
   "outputs": [
    {
     "data": {
      "text/html": [
       "<div>\n",
       "<style scoped>\n",
       "    .dataframe tbody tr th:only-of-type {\n",
       "        vertical-align: middle;\n",
       "    }\n",
       "\n",
       "    .dataframe tbody tr th {\n",
       "        vertical-align: top;\n",
       "    }\n",
       "\n",
       "    .dataframe thead th {\n",
       "        text-align: right;\n",
       "    }\n",
       "</style>\n",
       "<table border=\"1\" class=\"dataframe\">\n",
       "  <thead>\n",
       "    <tr style=\"text-align: right;\">\n",
       "      <th></th>\n",
       "      <th>cleaned_summary</th>\n",
       "      <th>entities</th>\n",
       "      <th>genre</th>\n",
       "    </tr>\n",
       "  </thead>\n",
       "  <tbody>\n",
       "    <tr>\n",
       "      <th>0</th>\n",
       "      <td>alex teenager living near future england lead ...</td>\n",
       "      <td>person gpe norp person ordinal person person p...</td>\n",
       "      <td>science fiction</td>\n",
       "    </tr>\n",
       "    <tr>\n",
       "      <th>1</th>\n",
       "      <td>text plague divided five part town oran thousa...</td>\n",
       "      <td>cardinal person person person person cardinal ...</td>\n",
       "      <td>literary fiction</td>\n",
       "    </tr>\n",
       "    <tr>\n",
       "      <th>2</th>\n",
       "      <td>book tell story paul umer german soldier who u...</td>\n",
       "      <td>person norp norp person org product person per...</td>\n",
       "      <td>literary fiction</td>\n",
       "    </tr>\n",
       "    <tr>\n",
       "      <th>3</th>\n",
       "      <td>ged young boy gont one larger island north arc...</td>\n",
       "      <td>person cardinal loc date org cardinal date car...</td>\n",
       "      <td>fantasy</td>\n",
       "    </tr>\n",
       "    <tr>\n",
       "      <th>4</th>\n",
       "      <td>living mar deckard acting consultant movie cre...</td>\n",
       "      <td>person</td>\n",
       "      <td>science fiction</td>\n",
       "    </tr>\n",
       "    <tr>\n",
       "      <th>...</th>\n",
       "      <td>...</td>\n",
       "      <td>...</td>\n",
       "      <td>...</td>\n",
       "    </tr>\n",
       "    <tr>\n",
       "      <th>11008</th>\n",
       "      <td>atticus sullivan last druid life peacefully ar...</td>\n",
       "      <td>person gpe norp norp date date norp norp norp org</td>\n",
       "      <td>fantasy</td>\n",
       "    </tr>\n",
       "    <tr>\n",
       "      <th>11009</th>\n",
       "      <td>charlie bucket wonderful adventure begin find ...</td>\n",
       "      <td>person cardinal</td>\n",
       "      <td>fantasy</td>\n",
       "    </tr>\n",
       "    <tr>\n",
       "      <th>11010</th>\n",
       "      <td>live dream child born free say like land fathe...</td>\n",
       "      <td>gpe date gpe gpe cardinal</td>\n",
       "      <td>fantasy</td>\n",
       "    </tr>\n",
       "    <tr>\n",
       "      <th>11011</th>\n",
       "      <td>rose love dimitri dimitri might love tasha mas...</td>\n",
       "      <td>person date person person person norp date dat...</td>\n",
       "      <td>fantasy</td>\n",
       "    </tr>\n",
       "    <tr>\n",
       "      <th>11012</th>\n",
       "      <td>prince value brishen khaskem prince kai lived ...</td>\n",
       "      <td>person org person person gpe person cardinal</td>\n",
       "      <td>fantasy</td>\n",
       "    </tr>\n",
       "  </tbody>\n",
       "</table>\n",
       "<p>11013 rows × 3 columns</p>\n",
       "</div>"
      ],
      "text/plain": [
       "                                         cleaned_summary  \\\n",
       "0      alex teenager living near future england lead ...   \n",
       "1      text plague divided five part town oran thousa...   \n",
       "2      book tell story paul umer german soldier who u...   \n",
       "3      ged young boy gont one larger island north arc...   \n",
       "4      living mar deckard acting consultant movie cre...   \n",
       "...                                                  ...   \n",
       "11008  atticus sullivan last druid life peacefully ar...   \n",
       "11009  charlie bucket wonderful adventure begin find ...   \n",
       "11010  live dream child born free say like land fathe...   \n",
       "11011  rose love dimitri dimitri might love tasha mas...   \n",
       "11012  prince value brishen khaskem prince kai lived ...   \n",
       "\n",
       "                                                entities             genre  \n",
       "0      person gpe norp person ordinal person person p...   science fiction  \n",
       "1      cardinal person person person person cardinal ...  literary fiction  \n",
       "2      person norp norp person org product person per...  literary fiction  \n",
       "3      person cardinal loc date org cardinal date car...           fantasy  \n",
       "4                                                 person   science fiction  \n",
       "...                                                  ...               ...  \n",
       "11008  person gpe norp norp date date norp norp norp org           fantasy  \n",
       "11009                                    person cardinal           fantasy  \n",
       "11010                          gpe date gpe gpe cardinal           fantasy  \n",
       "11011  person date person person person norp date dat...           fantasy  \n",
       "11012       person org person person gpe person cardinal           fantasy  \n",
       "\n",
       "[11013 rows x 3 columns]"
      ]
     },
     "execution_count": 8,
     "metadata": {},
     "output_type": "execute_result"
    }
   ],
   "source": [
    "selected_columns = ['cleaned_summary', 'entities', 'genre']\n",
    "before_vect = data[selected_columns].copy()\n",
    "before_vect"
   ]
  },
  {
   "cell_type": "code",
   "execution_count": 9,
   "metadata": {},
   "outputs": [
    {
     "data": {
      "text/html": [
       "<div>\n",
       "<style scoped>\n",
       "    .dataframe tbody tr th:only-of-type {\n",
       "        vertical-align: middle;\n",
       "    }\n",
       "\n",
       "    .dataframe tbody tr th {\n",
       "        vertical-align: top;\n",
       "    }\n",
       "\n",
       "    .dataframe thead th {\n",
       "        text-align: right;\n",
       "    }\n",
       "</style>\n",
       "<table border=\"1\" class=\"dataframe\">\n",
       "  <thead>\n",
       "    <tr style=\"text-align: right;\">\n",
       "      <th></th>\n",
       "      <th>tokens</th>\n",
       "      <th>entities</th>\n",
       "      <th>genre</th>\n",
       "    </tr>\n",
       "  </thead>\n",
       "  <tbody>\n",
       "    <tr>\n",
       "      <th>8271</th>\n",
       "      <td>part arthur liz lucy traveling meet rupert ste...</td>\n",
       "      <td>person person person person person person pers...</td>\n",
       "      <td>fantasy</td>\n",
       "    </tr>\n",
       "    <tr>\n",
       "      <th>10080</th>\n",
       "      <td>born slave circa slave told born plantation ma...</td>\n",
       "      <td>gpe person date ordinal cardinal date person norp</td>\n",
       "      <td>historical novel</td>\n",
       "    </tr>\n",
       "  </tbody>\n",
       "</table>\n",
       "</div>"
      ],
      "text/plain": [
       "                                                  tokens  \\\n",
       "8271   part arthur liz lucy traveling meet rupert ste...   \n",
       "10080  born slave circa slave told born plantation ma...   \n",
       "\n",
       "                                                entities             genre  \n",
       "8271   person person person person person person pers...           fantasy  \n",
       "10080  gpe person date ordinal cardinal date person norp  historical novel  "
      ]
     },
     "execution_count": 9,
     "metadata": {},
     "output_type": "execute_result"
    }
   ],
   "source": [
    "before_vect.rename(columns = {'cleaned_summary':'tokens'}, inplace = True)\n",
    "before_vect.sample(2)"
   ]
  },
  {
   "cell_type": "markdown",
   "metadata": {},
   "source": [
    "Now we're going to use TF-IDF for the \"tokens\" column (the preprocessed summaries) and CountVectorizer for the \"entities\" column.\n",
    "\n",
    "    1. TF-IDF for tokens: TF-IDF (Term Frequency-Inverse Document Frequency) is a technique commonly used in natural language processing to convert a collection of texts into numerical features. It emphasizes the importance of words by considering both their frequency in a text (term frequency) and their rarity across the entire dataset (inverse document frequency).\n",
    "\n",
    "    In the \"tokens\" column, each row represents a summary of a book. TF-IDF helps capture the significance of individual words within each summary and assigns higher weights to words that are frequent in a specific summary but not across all summaries. Summaries often contain words that are indicative of the genre or theme of a book. By using TF-IDF, we can represent each summary as a vector of numerical features that highlight important terms while downplaying common words that may not carry genre-specific information.\n",
    "\n",
    "    2. CountVectorizer for Entities: the \"entities\" column contains information about different types of entities mentioned in each summary. These entities can provide valuable information about the content and themes of the book. CountVectorizer will be used to convert the entity types into numerical features by counting the occurrences of each unique entity type in each row. This results in a matrix where each column represents a unique entity type, and the values indicate the count of occurrences for each entity type in a given book.Counting the occurrences of entity types allows us to capture the prevalence of different types of entities in each book. The resulting feature matrix can help the model learn patterns related to the distribution of entity types, which might be indicative of the genre.\n",
    "\n",
    "After obtaining TF-IDF features for the tokens and count-based features for the entities, we concatenate these features into a single feature matrix. This combined matrix will be used as input to train a machine learning model for predicting book genres. Combining the TF-IDF features with entity count features allows the model to leverage information from both textual content and entity occurrences. This can potentially enhance the model's ability to capture diverse aspects of the book content, leading to a more robust genre prediction."
   ]
  },
  {
   "cell_type": "code",
   "execution_count": 37,
   "metadata": {},
   "outputs": [],
   "source": [
    "\n",
    "# TF-IDF vectorization for tokens\n",
    "tfidf_vectorizer = TfidfVectorizer()\n",
    "tokens_tfidf = tfidf_vectorizer.fit_transform(before_vect['tokens'].astype(str))\n",
    "\n",
    "# CountVectorizer for entities\n",
    "entities_vectorizer = CountVectorizer()\n",
    "entities_matrix = entities_vectorizer.fit_transform(before_vect['entities'].astype(str))\n",
    "\n",
    "# Concatenate TF-IDF and entities features\n",
    "features = pd.concat([pd.DataFrame(tokens_tfidf.toarray(), columns=tfidf_vectorizer.get_feature_names_out()),\n",
    "                     pd.DataFrame(entities_matrix.toarray(), columns=entities_vectorizer.get_feature_names_out())], axis=1)"
   ]
  },
  {
   "cell_type": "markdown",
   "metadata": {},
   "source": [
    "### 9. Train_test split"
   ]
  },
  {
   "cell_type": "code",
   "execution_count": 38,
   "metadata": {},
   "outputs": [],
   "source": [
    "# Split the data into training and testing sets\n",
    "\n",
    "X = features\n",
    "y = before_vect['genre']\n",
    "\n",
    "X_train, X_test, y_train, y_test = train_test_split(X, y, test_size=0.2, random_state=42)"
   ]
  },
  {
   "cell_type": "markdown",
   "metadata": {},
   "source": [
    "### 10. Model 1: train and test\n",
    "\n",
    "First of all I'll try two scikit-learn models for classification:\n",
    "    \n",
    "    - RandomForest classifier\n",
    "    \n",
    "    - Xgboost classifier\n",
    "\n",
    "Afterwards, if time, perhaps I'll try to train a deep learning model."
   ]
  },
  {
   "cell_type": "code",
   "execution_count": 20,
   "metadata": {},
   "outputs": [],
   "source": [
    "# 1. RandomForestClassifier"
   ]
  },
  {
   "cell_type": "code",
   "execution_count": 48,
   "metadata": {},
   "outputs": [
    {
     "data": {
      "image/png": "[encoded data removed]",
      "text/plain": [
       "<Figure size 500x500 with 1 Axes>"
      ]
     },
     "metadata": {},
     "output_type": "display_data"
    }
   ],
   "source": [
    "# Visualising the distribution of the 'genre' samples in the train set.\n",
    "\n",
    "genre_counts = y_train.value_counts()\n",
    "fig, ax = plt.subplots(figsize=(5, 5))\n",
    "ax.pie(genre_counts, labels=genre_counts.index, autopct='%1.1f%%', startangle=90)\n",
    "ax.set_title('Distribution of Genres in the Train Set')\n",
    "plt.show()"
   ]
  },
  {
   "cell_type": "code",
   "execution_count": 50,
   "metadata": {},
   "outputs": [
    {
     "data": {
      "image/png": "[encoded data removed]",
      "text/plain": [
       "<Figure size 500x500 with 1 Axes>"
      ]
     },
     "metadata": {},
     "output_type": "display_data"
    }
   ],
   "source": [
    "# Visualising the distribution of the 'genre' in the test set\n",
    "\n",
    "genre_counts_2 = y_test.value_counts()\n",
    "fig, ax = plt.subplots(figsize=(5, 5))\n",
    "ax.pie(genre_counts_2, labels=genre_counts_2.index, autopct='%1.1f%%', startangle=90)\n",
    "ax.set_title('Distribution of Genres in the Test Set')\n",
    "plt.show()"
   ]
  },
  {
   "cell_type": "code",
   "execution_count": 39,
   "metadata": {},
   "outputs": [],
   "source": [
    "rf_model = RandomForestClassifier(n_estimators=100, random_state=42)"
   ]
  },
  {
   "cell_type": "code",
   "execution_count": 40,
   "metadata": {},
   "outputs": [
    {
     "data": {
      "text/html": [
       "<style>#sk-container-id-1 {color: black;}#sk-container-id-1 pre{padding: 0;}#sk-container-id-1 div.sk-toggleable {background-color: white;}#sk-container-id-1 label.sk-toggleable__label {cursor: pointer;display: block;width: 100%;margin-bottom: 0;padding: 0.3em;box-sizing: border-box;text-align: center;}#sk-container-id-1 label.sk-toggleable__label-arrow:before {content: \"▸\";float: left;margin-right: 0.25em;color: #696969;}#sk-container-id-1 label.sk-toggleable__label-arrow:hover:before {color: black;}#sk-container-id-1 div.sk-estimator:hover label.sk-toggleable__label-arrow:before {color: black;}#sk-container-id-1 div.sk-toggleable__content {max-height: 0;max-width: 0;overflow: hidden;text-align: left;background-color: #f0f8ff;}#sk-container-id-1 div.sk-toggleable__content pre {margin: 0.2em;color: black;border-radius: 0.25em;background-color: #f0f8ff;}#sk-container-id-1 input.sk-toggleable__control:checked~div.sk-toggleable__content {max-height: 200px;max-width: 100%;overflow: auto;}#sk-container-id-1 input.sk-toggleable__control:checked~label.sk-toggleable__label-arrow:before {content: \"▾\";}#sk-container-id-1 div.sk-estimator input.sk-toggleable__control:checked~label.sk-toggleable__label {background-color: #d4ebff;}#sk-container-id-1 div.sk-label input.sk-toggleable__control:checked~label.sk-toggleable__label {background-color: #d4ebff;}#sk-container-id-1 input.sk-hidden--visually {border: 0;clip: rect(1px 1px 1px 1px);clip: rect(1px, 1px, 1px, 1px);height: 1px;margin: -1px;overflow: hidden;padding: 0;position: absolute;width: 1px;}#sk-container-id-1 div.sk-estimator {font-family: monospace;background-color: #f0f8ff;border: 1px dotted black;border-radius: 0.25em;box-sizing: border-box;margin-bottom: 0.5em;}#sk-container-id-1 div.sk-estimator:hover {background-color: #d4ebff;}#sk-container-id-1 div.sk-parallel-item::after {content: \"\";width: 100%;border-bottom: 1px solid gray;flex-grow: 1;}#sk-container-id-1 div.sk-label:hover label.sk-toggleable__label {background-color: #d4ebff;}#sk-container-id-1 div.sk-serial::before {content: \"\";position: absolute;border-left: 1px solid gray;box-sizing: border-box;top: 0;bottom: 0;left: 50%;z-index: 0;}#sk-container-id-1 div.sk-serial {display: flex;flex-direction: column;align-items: center;background-color: white;padding-right: 0.2em;padding-left: 0.2em;position: relative;}#sk-container-id-1 div.sk-item {position: relative;z-index: 1;}#sk-container-id-1 div.sk-parallel {display: flex;align-items: stretch;justify-content: center;background-color: white;position: relative;}#sk-container-id-1 div.sk-item::before, #sk-container-id-1 div.sk-parallel-item::before {content: \"\";position: absolute;border-left: 1px solid gray;box-sizing: border-box;top: 0;bottom: 0;left: 50%;z-index: -1;}#sk-container-id-1 div.sk-parallel-item {display: flex;flex-direction: column;z-index: 1;position: relative;background-color: white;}#sk-container-id-1 div.sk-parallel-item:first-child::after {align-self: flex-end;width: 50%;}#sk-container-id-1 div.sk-parallel-item:last-child::after {align-self: flex-start;width: 50%;}#sk-container-id-1 div.sk-parallel-item:only-child::after {width: 0;}#sk-container-id-1 div.sk-dashed-wrapped {border: 1px dashed gray;margin: 0 0.4em 0.5em 0.4em;box-sizing: border-box;padding-bottom: 0.4em;background-color: white;}#sk-container-id-1 div.sk-label label {font-family: monospace;font-weight: bold;display: inline-block;line-height: 1.2em;}#sk-container-id-1 div.sk-label-container {text-align: center;}#sk-container-id-1 div.sk-container {/* jupyter's `normalize.less` sets `[hidden] { display: none; }` but bootstrap.min.css set `[hidden] { display: none !important; }` so we also need the `!important` here to be able to override the default hidden behavior on the sphinx rendered scikit-learn.org. See: https://github.com/scikit-learn/scikit-learn/issues/21755 */display: inline-block !important;position: relative;}#sk-container-id-1 div.sk-text-repr-fallback {display: none;}</style><div id=\"sk-container-id-1\" class=\"sk-top-container\"><div class=\"sk-text-repr-fallback\"><pre>RandomForestClassifier(random_state=42)</pre><b>In a Jupyter environment, please rerun this cell to show the HTML representation or trust the notebook. <br />On GitHub, the HTML representation is unable to render, please try loading this page with nbviewer.org.</b></div><div class=\"sk-container\" hidden><div class=\"sk-item\"><div class=\"sk-estimator sk-toggleable\"><input class=\"sk-toggleable__control sk-hidden--visually\" id=\"sk-estimator-id-1\" type=\"checkbox\" checked><label for=\"sk-estimator-id-1\" class=\"sk-toggleable__label sk-toggleable__label-arrow\">RandomForestClassifier</label><div class=\"sk-toggleable__content\"><pre>RandomForestClassifier(random_state=42)</pre></div></div></div></div></div>"
      ],
      "text/plain": [
       "RandomForestClassifier(random_state=42)"
      ]
     },
     "execution_count": 40,
     "metadata": {},
     "output_type": "execute_result"
    }
   ],
   "source": [
    "rf_model.fit(X_train, y_train)"
   ]
  },
  {
   "cell_type": "code",
   "execution_count": 45,
   "metadata": {},
   "outputs": [],
   "source": [
    "\n",
    "y_pred_train = rf_model.predict(X_train)"
   ]
  },
  {
   "cell_type": "code",
   "execution_count": 46,
   "metadata": {},
   "outputs": [
    {
     "name": "stdout",
     "output_type": "stream",
     "text": [
      "\n",
      "Classification Report:\n",
      "                  precision    recall  f1-score   support\n",
      "\n",
      "         fantasy       0.99      0.99      0.99      1788\n",
      "historical novel       0.98      0.96      0.97       837\n",
      "literary fiction       1.00      1.00      1.00      2259\n",
      " science fiction       0.99      0.99      0.99      1820\n",
      "        thriller       0.98      0.98      0.98      2104\n",
      "\n",
      "        accuracy                           0.99      8808\n",
      "       macro avg       0.99      0.99      0.99      8808\n",
      "    weighted avg       0.99      0.99      0.99      8808\n",
      "\n",
      "\n",
      "RandomForest Accuracy of the trained data: 0.9896684831970936\n"
     ]
    }
   ],
   "source": [
    "from sklearn.metrics import classification_report\n",
    "\n",
    "# Classification Report (provides precision, recall, f1-score, and support for each class)\n",
    "print(\"\\nClassification Report:\")\n",
    "print(classification_report(y_train, y_pred_train))\n",
    "\n",
    "rf_accuracy_0 = accuracy_score(y_train, y_pred_train)\n",
    "print(f\"\\nRandomForest Accuracy of the trained data: {rf_accuracy_0}\")\n"
   ]
  },
  {
   "cell_type": "code",
   "execution_count": 41,
   "metadata": {},
   "outputs": [],
   "source": [
    "y_pred_test = rf_model.predict(X_test)"
   ]
  },
  {
   "cell_type": "code",
   "execution_count": 43,
   "metadata": {},
   "outputs": [
    {
     "name": "stdout",
     "output_type": "stream",
     "text": [
      "Classification Report:\n",
      "                  precision    recall  f1-score   support\n",
      "\n",
      "         fantasy       0.77      0.71      0.74       421\n",
      "historical novel       0.38      0.04      0.07       211\n",
      "literary fiction       0.54      0.82      0.65       560\n",
      " science fiction       0.80      0.71      0.75       481\n",
      "        thriller       0.73      0.70      0.72       530\n",
      "\n",
      "        accuracy                           0.67      2203\n",
      "       macro avg       0.64      0.60      0.59      2203\n",
      "    weighted avg       0.67      0.67      0.65      2203\n",
      "\n",
      "\n",
      "RandomForest Accuracy: 0.6736268724466636\n"
     ]
    }
   ],
   "source": [
    "# Classification Report (provides precision, recall, f1-score, and support for each class)\n",
    "from sklearn.metrics import classification_report\n",
    "print(\"Classification Report:\")\n",
    "print(classification_report(y_test, y_pred_test))\n",
    "\n",
    "rf_accuracy = accuracy_score(y_test, y_pred_test)\n",
    "print(f\"\\nRandomForest Accuracy: {rf_accuracy}\")"
   ]
  },
  {
   "cell_type": "code",
   "execution_count": 44,
   "metadata": {},
   "outputs": [
    {
     "name": "stdout",
     "output_type": "stream",
     "text": [
      "Accuracy: 67.36268724466636 %\n",
      "Precision: 64.41847415555043 %\n",
      "Recall: 59.78786435271354 %\n",
      "F1 score: 58.6364656254418 %\n"
     ]
    }
   ],
   "source": [
    "# Evaluating metrics\n",
    "accuracy_1 = accuracy_score(y_test, y_pred_test)\n",
    "precision_1 = precision_score(y_test, y_pred_test, average='macro')\n",
    "recall_1 = recall_score(y_test, y_pred_test, average='macro')\n",
    "f1_1 = f1_score(y_test, y_pred_test, average='macro')\n",
    "\n",
    "print(\"Accuracy:\", accuracy_1*100, '%')\n",
    "print(\"Precision:\", precision_1*100, '%')\n",
    "print(\"Recall:\", recall_1*100, '%')\n",
    "print(\"F1 score:\", f1_1*100, '%')"
   ]
  },
  {
   "cell_type": "code",
   "execution_count": 47,
   "metadata": {},
   "outputs": [],
   "source": [
    "import pickle\n",
    "\n",
    "# Save the model to a file using pickle\n",
    "with open('your_rf_model.pkl', 'wb') as file:\n",
    "    pickle.dump(rf_model, file)\n",
    "\n",
    "# Now, you can load the model back\n",
    "# with open('your_rf_model.pkl', 'rb') as file:\n",
    "# loaded_rf_model = pickle.load(file)"
   ]
  },
  {
   "cell_type": "markdown",
   "metadata": {},
   "source": [
    "### 11. Model 2: train and test"
   ]
  },
  {
   "cell_type": "code",
   "execution_count": 10,
   "metadata": {},
   "outputs": [],
   "source": [
    "# 2. XGBoostClassifier\n",
    "# In this case, I'm going to try to train the model only with the tokens of the summaries (without the entities).\n",
    "# I'll to create word embeddings of the tokens with Word2Vec to train the model.\n",
    "# This way, we can check if the model predicts the genre better or worse with only the tokens from the preprocessed summaries, without the entities. "
   ]
  },
  {
   "cell_type": "code",
   "execution_count": 11,
   "metadata": {},
   "outputs": [],
   "source": [
    "# When fitting the XGBoostClassifier it's necessary to convert categorical labels into numerical values. \n",
    "# So we're going to convert the genres into numerical categories. \n",
    "\n",
    "from sklearn.preprocessing import OneHotEncoder\n",
    "\n",
    "y_encoded = pd.get_dummies(before_vect['genre'], drop_first=True)"
   ]
  },
  {
   "cell_type": "code",
   "execution_count": 16,
   "metadata": {},
   "outputs": [
    {
     "name": "stdout",
     "output_type": "stream",
     "text": [
      "Collecting gensim\n",
      "  Obtaining dependency information for gensim from https://files.pythonhosted.org/packages/99/f5/8d2cb0b2628bb6482baafbf0ff7262c11fc46e98b23ee79234828b927e8d/gensim-4.3.2-cp311-cp311-macosx_10_9_x86_64.whl.metadata\n",
      "  Downloading gensim-4.3.2-cp311-cp311-macosx_10_9_x86_64.whl.metadata (8.3 kB)\n",
      "Requirement already satisfied: numpy>=1.18.5 in /Users/usuari/miniconda3/envs/ironhack/lib/python3.11/site-packages (from gensim) (1.26.1)\n",
      "Requirement already satisfied: scipy>=1.7.0 in /Users/usuari/miniconda3/envs/ironhack/lib/python3.11/site-packages (from gensim) (1.11.3)\n",
      "Requirement already satisfied: smart-open>=1.8.1 in /Users/usuari/miniconda3/envs/ironhack/lib/python3.11/site-packages (from gensim) (6.4.0)\n",
      "Downloading gensim-4.3.2-cp311-cp311-macosx_10_9_x86_64.whl (24.1 MB)\n",
      "\u001b[2K   \u001b[90m━━━━━━━━━━━━━━━━━━━━━━━━━━━━━━━━━━━━━━━━\u001b[0m \u001b[32m24.1/24.1 MB\u001b[0m \u001b[31m612.5 kB/s\u001b[0m eta \u001b[36m0:00:00\u001b[0m00:01\u001b[0m00:02\u001b[0m\n",
      "\u001b[?25hInstalling collected packages: gensim\n",
      "Successfully installed gensim-4.3.2\n"
     ]
    }
   ],
   "source": [
    "!pip install gensim"
   ]
  },
  {
   "cell_type": "code",
   "execution_count": 20,
   "metadata": {},
   "outputs": [
    {
     "data": {
      "text/plain": [
       "tokens      2\n",
       "entities    0\n",
       "genre       0\n",
       "dtype: int64"
      ]
     },
     "execution_count": 20,
     "metadata": {},
     "output_type": "execute_result"
    }
   ],
   "source": [
    "before_vect.isna().sum()"
   ]
  },
  {
   "cell_type": "code",
   "execution_count": 31,
   "metadata": {},
   "outputs": [],
   "source": [
    "# I create my Word2Vec model\n",
    "\n",
    "from gensim.models import Word2Vec\n",
    "\n",
    "# Drop rows with NaN values in the 'tokens' column\n",
    "before_vect_nn = before_vect.dropna(subset=['tokens'])\n",
    "\n",
    "# If 'tokens' column contains strings, split them into lists of tokens\n",
    "tokens = before_vect_nn['tokens'].apply(lambda x: x.split() if isinstance(x, str) else x).tolist()\n",
    "\n",
    "# Train Word2Vec model for tokens\n",
    "word2vec_model_tokens = Word2Vec(tokens, vector_size=100, window=5, min_count=1, workers=4)\n",
    "\n",
    "# Save the trained Word2Vec model for tokens\n",
    "word2vec_model_tokens.save(\"word2vec_tokens.model\")"
   ]
  },
  {
   "cell_type": "code",
   "execution_count": 34,
   "metadata": {},
   "outputs": [
    {
     "ename": "KeyError",
     "evalue": "\"Key 'alex teenager living near future england lead gang nightly orgy opportunistic random ultra violence alex friend droogs novel anglo russian slang nadsat dim slow witted bruiser gang muscle georgie ambitious second in command pete mostly play along droogs indulge taste ultra violence characterized sociopath hardened juvenile delinquent alex also intelligent quick witted sophisticated taste music particularly fond beethoven lovely ludwig van novel begin droogs sitting favorite hangout korova milkbar drinking milk drug cocktail called milk plus hype night mayhem assault scholar walking home public library rob store leaving owner wife bloodied unconscious stomp panhandling derelict scuffle rival gang joyriding countryside stolen car break isolated cottage maul young couple living beating husband raping wife metafictional touch husband writer working manuscript called clockwork orange alex contemptuously read paragraph state novel main theme shredding manuscript back milk bar alex punishes dim crude behaviour strain within gang become apparent home dreary flat alex play classical music top volume fantasizing even orgiastic violence alex skip school next day following unexpected visit deltoid post corrective advisor alex meet pair ten year old girl take back parent flat administers hard drug rape evening alex find droogs mutinous mood georgie challenge alex leadership gang demanding pull man sized job alex quells rebellion slashing dim hand fighting georgie show generosity take bar alex insists following georgie idea burgle home wealthy old woman break in start farce end tragic pathos alex attack kill elderly woman escape blocked dim attack alex leaving incapacitated front step police arrive sentenced prison murder alex get job wing chapel playing religious music stereo service well singing hymn prison chaplain mistake alex bible study stirring faith alex actually reading scripture violent passage alex fellow cellmates blame beating troublesome cellmate death agrees undergo experimental behaviour modification treatment called ludovico technique technique form aversion therapy alex receives injection make feel sick watching graphically violent film eventually conditioning suffer crippling bout nausea mere thought violence unintended consequence soundtrack one films beethoven fifth symphony renders alex unable listen beloved classical music effectiveness technique demonstrated group vip watch alex collapse walloping bully aba scantily clad young woman whose presence aroused predatory sexual inclination though prison chaplain accuses state stripping alex free government official scene pleased result alex released society since parent renting room lodger alex wanders street enters public library hope learn painless way commit suicide accidentally encounter old scholar assaulted earlier book keen revenge beat alex help friend policeman come alex rescue turn none dim former gang rival billyboy two policeman take alex outside town beat dazed bloodied alex collapse door isolated cottage realizing late house droogs invaded first half story gang wore mask assault writer recognize alex writer whose name revealed alexander shelter alex question conditioning sequence revealed mrs alexander died injury inflicted gang rape husband decided continue living fragrant memory persists despite horrid memory alexander critic government hope use alex symbol state brutality thereby prevent incumbent government re elected eventually begin realize alex role happening night two year ago one alexander radical associate manages extract confession alex removing alexander home lock flatblock near former home alex subjected relentless barrage classical music prompting attempt suicide leaping high window alex wake hospital courted government official anxious counter bad publicity created suicide attempt alexander safely packed mental institution alex offered well paying job agrees side government photographer snap picture alex daydream orgiastic violence realizes ludovico conditioning reversed cured right final chapter alex new trio droogs find beginning outgrow taste violence chance encounter pete married settled inspires alex seek wife family contemplates likelihood future son delinquent prospect alex view fatalistically' not present\"",
     "output_type": "error",
     "traceback": [
      "\u001b[0;31m---------------------------------------------------------------------------\u001b[0m",
      "\u001b[0;31mKeyError\u001b[0m                                  Traceback (most recent call last)",
      "\u001b[1;32m/Users/usuari/Desktop/Ironhack/BOOTCAMP/projects/final_project/notebooks/Train_models.ipynb Cell 29\u001b[0m line \u001b[0;36m9\n\u001b[1;32m      <a href='vscode-notebook-cell:/Users/usuari/Desktop/Ironhack/BOOTCAMP/projects/final_project/notebooks/Train_models.ipynb#X66sZmlsZQ%3D%3D?line=5'>6</a>\u001b[0m word2vec_model_tokens \u001b[39m=\u001b[39m Word2Vec\u001b[39m.\u001b[39mload(\u001b[39m\"\u001b[39m\u001b[39mword2vec_tokens.model\u001b[39m\u001b[39m\"\u001b[39m)\n\u001b[1;32m      <a href='vscode-notebook-cell:/Users/usuari/Desktop/Ironhack/BOOTCAMP/projects/final_project/notebooks/Train_models.ipynb#X66sZmlsZQ%3D%3D?line=7'>8</a>\u001b[0m \u001b[39m# Apply the previous function\u001b[39;00m\n\u001b[0;32m----> <a href='vscode-notebook-cell:/Users/usuari/Desktop/Ironhack/BOOTCAMP/projects/final_project/notebooks/Train_models.ipynb#X66sZmlsZQ%3D%3D?line=8'>9</a>\u001b[0m tokens_embeddings \u001b[39m=\u001b[39m get_embeddings(before_vect_nn[\u001b[39m'\u001b[39m\u001b[39mtokens\u001b[39m\u001b[39m'\u001b[39m], word2vec_model_tokens)\n",
      "\u001b[1;32m/Users/usuari/Desktop/Ironhack/BOOTCAMP/projects/final_project/notebooks/Train_models.ipynb Cell 29\u001b[0m line \u001b[0;36m3\n\u001b[1;32m      <a href='vscode-notebook-cell:/Users/usuari/Desktop/Ironhack/BOOTCAMP/projects/final_project/notebooks/Train_models.ipynb#X66sZmlsZQ%3D%3D?line=1'>2</a>\u001b[0m \u001b[39mdef\u001b[39;00m \u001b[39mget_embeddings\u001b[39m(text_column, word2vec_model):\n\u001b[0;32m----> <a href='vscode-notebook-cell:/Users/usuari/Desktop/Ironhack/BOOTCAMP/projects/final_project/notebooks/Train_models.ipynb#X66sZmlsZQ%3D%3D?line=2'>3</a>\u001b[0m     \u001b[39mreturn\u001b[39;00m text_column\u001b[39m.\u001b[39mapply(\u001b[39mlambda\u001b[39;00m text: word2vec_model\u001b[39m.\u001b[39mwv[text])\n",
      "File \u001b[0;32m~/miniconda3/envs/ironhack/lib/python3.11/site-packages/pandas/core/series.py:4760\u001b[0m, in \u001b[0;36mSeries.apply\u001b[0;34m(self, func, convert_dtype, args, by_row, **kwargs)\u001b[0m\n\u001b[1;32m   4625\u001b[0m \u001b[39mdef\u001b[39;00m \u001b[39mapply\u001b[39m(\n\u001b[1;32m   4626\u001b[0m     \u001b[39mself\u001b[39m,\n\u001b[1;32m   4627\u001b[0m     func: AggFuncType,\n\u001b[0;32m   (...)\u001b[0m\n\u001b[1;32m   4632\u001b[0m     \u001b[39m*\u001b[39m\u001b[39m*\u001b[39mkwargs,\n\u001b[1;32m   4633\u001b[0m ) \u001b[39m-\u001b[39m\u001b[39m>\u001b[39m DataFrame \u001b[39m|\u001b[39m Series:\n\u001b[1;32m   4634\u001b[0m \u001b[39m    \u001b[39m\u001b[39m\"\"\"\u001b[39;00m\n\u001b[1;32m   4635\u001b[0m \u001b[39m    Invoke function on values of Series.\u001b[39;00m\n\u001b[1;32m   4636\u001b[0m \n\u001b[0;32m   (...)\u001b[0m\n\u001b[1;32m   4751\u001b[0m \u001b[39m    dtype: float64\u001b[39;00m\n\u001b[1;32m   4752\u001b[0m \u001b[39m    \"\"\"\u001b[39;00m\n\u001b[1;32m   4753\u001b[0m     \u001b[39mreturn\u001b[39;00m SeriesApply(\n\u001b[1;32m   4754\u001b[0m         \u001b[39mself\u001b[39m,\n\u001b[1;32m   4755\u001b[0m         func,\n\u001b[1;32m   4756\u001b[0m         convert_dtype\u001b[39m=\u001b[39mconvert_dtype,\n\u001b[1;32m   4757\u001b[0m         by_row\u001b[39m=\u001b[39mby_row,\n\u001b[1;32m   4758\u001b[0m         args\u001b[39m=\u001b[39margs,\n\u001b[1;32m   4759\u001b[0m         kwargs\u001b[39m=\u001b[39mkwargs,\n\u001b[0;32m-> 4760\u001b[0m     )\u001b[39m.\u001b[39mapply()\n",
      "File \u001b[0;32m~/miniconda3/envs/ironhack/lib/python3.11/site-packages/pandas/core/apply.py:1207\u001b[0m, in \u001b[0;36mSeriesApply.apply\u001b[0;34m(self)\u001b[0m\n\u001b[1;32m   1204\u001b[0m     \u001b[39mreturn\u001b[39;00m \u001b[39mself\u001b[39m\u001b[39m.\u001b[39mapply_compat()\n\u001b[1;32m   1206\u001b[0m \u001b[39m# self.func is Callable\u001b[39;00m\n\u001b[0;32m-> 1207\u001b[0m \u001b[39mreturn\u001b[39;00m \u001b[39mself\u001b[39m\u001b[39m.\u001b[39mapply_standard()\n",
      "File \u001b[0;32m~/miniconda3/envs/ironhack/lib/python3.11/site-packages/pandas/core/apply.py:1287\u001b[0m, in \u001b[0;36mSeriesApply.apply_standard\u001b[0;34m(self)\u001b[0m\n\u001b[1;32m   1281\u001b[0m \u001b[39m# row-wise access\u001b[39;00m\n\u001b[1;32m   1282\u001b[0m \u001b[39m# apply doesn't have a `na_action` keyword and for backward compat reasons\u001b[39;00m\n\u001b[1;32m   1283\u001b[0m \u001b[39m# we need to give `na_action=\"ignore\"` for categorical data.\u001b[39;00m\n\u001b[1;32m   1284\u001b[0m \u001b[39m# TODO: remove the `na_action=\"ignore\"` when that default has been changed in\u001b[39;00m\n\u001b[1;32m   1285\u001b[0m \u001b[39m#  Categorical (GH51645).\u001b[39;00m\n\u001b[1;32m   1286\u001b[0m action \u001b[39m=\u001b[39m \u001b[39m\"\u001b[39m\u001b[39mignore\u001b[39m\u001b[39m\"\u001b[39m \u001b[39mif\u001b[39;00m \u001b[39misinstance\u001b[39m(obj\u001b[39m.\u001b[39mdtype, CategoricalDtype) \u001b[39melse\u001b[39;00m \u001b[39mNone\u001b[39;00m\n\u001b[0;32m-> 1287\u001b[0m mapped \u001b[39m=\u001b[39m obj\u001b[39m.\u001b[39m_map_values(\n\u001b[1;32m   1288\u001b[0m     mapper\u001b[39m=\u001b[39mcurried, na_action\u001b[39m=\u001b[39maction, convert\u001b[39m=\u001b[39m\u001b[39mself\u001b[39m\u001b[39m.\u001b[39mconvert_dtype\n\u001b[1;32m   1289\u001b[0m )\n\u001b[1;32m   1291\u001b[0m \u001b[39mif\u001b[39;00m \u001b[39mlen\u001b[39m(mapped) \u001b[39mand\u001b[39;00m \u001b[39misinstance\u001b[39m(mapped[\u001b[39m0\u001b[39m], ABCSeries):\n\u001b[1;32m   1292\u001b[0m     \u001b[39m# GH#43986 Need to do list(mapped) in order to get treated as nested\u001b[39;00m\n\u001b[1;32m   1293\u001b[0m     \u001b[39m#  See also GH#25959 regarding EA support\u001b[39;00m\n\u001b[1;32m   1294\u001b[0m     \u001b[39mreturn\u001b[39;00m obj\u001b[39m.\u001b[39m_constructor_expanddim(\u001b[39mlist\u001b[39m(mapped), index\u001b[39m=\u001b[39mobj\u001b[39m.\u001b[39mindex)\n",
      "File \u001b[0;32m~/miniconda3/envs/ironhack/lib/python3.11/site-packages/pandas/core/base.py:921\u001b[0m, in \u001b[0;36mIndexOpsMixin._map_values\u001b[0;34m(self, mapper, na_action, convert)\u001b[0m\n\u001b[1;32m    918\u001b[0m \u001b[39mif\u001b[39;00m \u001b[39misinstance\u001b[39m(arr, ExtensionArray):\n\u001b[1;32m    919\u001b[0m     \u001b[39mreturn\u001b[39;00m arr\u001b[39m.\u001b[39mmap(mapper, na_action\u001b[39m=\u001b[39mna_action)\n\u001b[0;32m--> 921\u001b[0m \u001b[39mreturn\u001b[39;00m algorithms\u001b[39m.\u001b[39mmap_array(arr, mapper, na_action\u001b[39m=\u001b[39mna_action, convert\u001b[39m=\u001b[39mconvert)\n",
      "File \u001b[0;32m~/miniconda3/envs/ironhack/lib/python3.11/site-packages/pandas/core/algorithms.py:1814\u001b[0m, in \u001b[0;36mmap_array\u001b[0;34m(arr, mapper, na_action, convert)\u001b[0m\n\u001b[1;32m   1812\u001b[0m values \u001b[39m=\u001b[39m arr\u001b[39m.\u001b[39mastype(\u001b[39mobject\u001b[39m, copy\u001b[39m=\u001b[39m\u001b[39mFalse\u001b[39;00m)\n\u001b[1;32m   1813\u001b[0m \u001b[39mif\u001b[39;00m na_action \u001b[39mis\u001b[39;00m \u001b[39mNone\u001b[39;00m:\n\u001b[0;32m-> 1814\u001b[0m     \u001b[39mreturn\u001b[39;00m lib\u001b[39m.\u001b[39mmap_infer(values, mapper, convert\u001b[39m=\u001b[39mconvert)\n\u001b[1;32m   1815\u001b[0m \u001b[39melse\u001b[39;00m:\n\u001b[1;32m   1816\u001b[0m     \u001b[39mreturn\u001b[39;00m lib\u001b[39m.\u001b[39mmap_infer_mask(\n\u001b[1;32m   1817\u001b[0m         values, mapper, mask\u001b[39m=\u001b[39misna(values)\u001b[39m.\u001b[39mview(np\u001b[39m.\u001b[39muint8), convert\u001b[39m=\u001b[39mconvert\n\u001b[1;32m   1818\u001b[0m     )\n",
      "File \u001b[0;32mlib.pyx:2917\u001b[0m, in \u001b[0;36mpandas._libs.lib.map_infer\u001b[0;34m()\u001b[0m\n",
      "\u001b[1;32m/Users/usuari/Desktop/Ironhack/BOOTCAMP/projects/final_project/notebooks/Train_models.ipynb Cell 29\u001b[0m line \u001b[0;36m3\n\u001b[1;32m      <a href='vscode-notebook-cell:/Users/usuari/Desktop/Ironhack/BOOTCAMP/projects/final_project/notebooks/Train_models.ipynb#X66sZmlsZQ%3D%3D?line=1'>2</a>\u001b[0m \u001b[39mdef\u001b[39;00m \u001b[39mget_embeddings\u001b[39m(text_column, word2vec_model):\n\u001b[0;32m----> <a href='vscode-notebook-cell:/Users/usuari/Desktop/Ironhack/BOOTCAMP/projects/final_project/notebooks/Train_models.ipynb#X66sZmlsZQ%3D%3D?line=2'>3</a>\u001b[0m     \u001b[39mreturn\u001b[39;00m text_column\u001b[39m.\u001b[39mapply(\u001b[39mlambda\u001b[39;00m text: word2vec_model\u001b[39m.\u001b[39mwv[text])\n",
      "File \u001b[0;32m~/miniconda3/envs/ironhack/lib/python3.11/site-packages/gensim/models/keyedvectors.py:403\u001b[0m, in \u001b[0;36mKeyedVectors.__getitem__\u001b[0;34m(self, key_or_keys)\u001b[0m\n\u001b[1;32m    389\u001b[0m \u001b[39m\u001b[39m\u001b[39m\"\"\"Get vector representation of `key_or_keys`.\u001b[39;00m\n\u001b[1;32m    390\u001b[0m \n\u001b[1;32m    391\u001b[0m \u001b[39mParameters\u001b[39;00m\n\u001b[0;32m   (...)\u001b[0m\n\u001b[1;32m    400\u001b[0m \n\u001b[1;32m    401\u001b[0m \u001b[39m\"\"\"\u001b[39;00m\n\u001b[1;32m    402\u001b[0m \u001b[39mif\u001b[39;00m \u001b[39misinstance\u001b[39m(key_or_keys, _KEY_TYPES):\n\u001b[0;32m--> 403\u001b[0m     \u001b[39mreturn\u001b[39;00m \u001b[39mself\u001b[39m\u001b[39m.\u001b[39mget_vector(key_or_keys)\n\u001b[1;32m    405\u001b[0m \u001b[39mreturn\u001b[39;00m vstack([\u001b[39mself\u001b[39m\u001b[39m.\u001b[39mget_vector(key) \u001b[39mfor\u001b[39;00m key \u001b[39min\u001b[39;00m key_or_keys])\n",
      "File \u001b[0;32m~/miniconda3/envs/ironhack/lib/python3.11/site-packages/gensim/models/keyedvectors.py:446\u001b[0m, in \u001b[0;36mKeyedVectors.get_vector\u001b[0;34m(self, key, norm)\u001b[0m\n\u001b[1;32m    422\u001b[0m \u001b[39mdef\u001b[39;00m \u001b[39mget_vector\u001b[39m(\u001b[39mself\u001b[39m, key, norm\u001b[39m=\u001b[39m\u001b[39mFalse\u001b[39;00m):\n\u001b[1;32m    423\u001b[0m \u001b[39m    \u001b[39m\u001b[39m\"\"\"Get the key's vector, as a 1D numpy array.\u001b[39;00m\n\u001b[1;32m    424\u001b[0m \n\u001b[1;32m    425\u001b[0m \u001b[39m    Parameters\u001b[39;00m\n\u001b[0;32m   (...)\u001b[0m\n\u001b[1;32m    444\u001b[0m \n\u001b[1;32m    445\u001b[0m \u001b[39m    \"\"\"\u001b[39;00m\n\u001b[0;32m--> 446\u001b[0m     index \u001b[39m=\u001b[39m \u001b[39mself\u001b[39m\u001b[39m.\u001b[39mget_index(key)\n\u001b[1;32m    447\u001b[0m     \u001b[39mif\u001b[39;00m norm:\n\u001b[1;32m    448\u001b[0m         \u001b[39mself\u001b[39m\u001b[39m.\u001b[39mfill_norms()\n",
      "File \u001b[0;32m~/miniconda3/envs/ironhack/lib/python3.11/site-packages/gensim/models/keyedvectors.py:420\u001b[0m, in \u001b[0;36mKeyedVectors.get_index\u001b[0;34m(self, key, default)\u001b[0m\n\u001b[1;32m    418\u001b[0m     \u001b[39mreturn\u001b[39;00m default\n\u001b[1;32m    419\u001b[0m \u001b[39melse\u001b[39;00m:\n\u001b[0;32m--> 420\u001b[0m     \u001b[39mraise\u001b[39;00m \u001b[39mKeyError\u001b[39;00m(\u001b[39mf\u001b[39m\u001b[39m\"\u001b[39m\u001b[39mKey \u001b[39m\u001b[39m'\u001b[39m\u001b[39m{\u001b[39;00mkey\u001b[39m}\u001b[39;00m\u001b[39m'\u001b[39m\u001b[39m not present\u001b[39m\u001b[39m\"\u001b[39m)\n",
      "\u001b[0;31mKeyError\u001b[0m: \"Key 'alex teenager living near future england lead gang nightly orgy opportunistic random ultra violence alex friend droogs novel anglo russian slang nadsat dim slow witted bruiser gang muscle georgie ambitious second in command pete mostly play along droogs indulge taste ultra violence characterized sociopath hardened juvenile delinquent alex also intelligent quick witted sophisticated taste music particularly fond beethoven lovely ludwig van novel begin droogs sitting favorite hangout korova milkbar drinking milk drug cocktail called milk plus hype night mayhem assault scholar walking home public library rob store leaving owner wife bloodied unconscious stomp panhandling derelict scuffle rival gang joyriding countryside stolen car break isolated cottage maul young couple living beating husband raping wife metafictional touch husband writer working manuscript called clockwork orange alex contemptuously read paragraph state novel main theme shredding manuscript back milk bar alex punishes dim crude behaviour strain within gang become apparent home dreary flat alex play classical music top volume fantasizing even orgiastic violence alex skip school next day following unexpected visit deltoid post corrective advisor alex meet pair ten year old girl take back parent flat administers hard drug rape evening alex find droogs mutinous mood georgie challenge alex leadership gang demanding pull man sized job alex quells rebellion slashing dim hand fighting georgie show generosity take bar alex insists following georgie idea burgle home wealthy old woman break in start farce end tragic pathos alex attack kill elderly woman escape blocked dim attack alex leaving incapacitated front step police arrive sentenced prison murder alex get job wing chapel playing religious music stereo service well singing hymn prison chaplain mistake alex bible study stirring faith alex actually reading scripture violent passage alex fellow cellmates blame beating troublesome cellmate death agrees undergo experimental behaviour modification treatment called ludovico technique technique form aversion therapy alex receives injection make feel sick watching graphically violent film eventually conditioning suffer crippling bout nausea mere thought violence unintended consequence soundtrack one films beethoven fifth symphony renders alex unable listen beloved classical music effectiveness technique demonstrated group vip watch alex collapse walloping bully aba scantily clad young woman whose presence aroused predatory sexual inclination though prison chaplain accuses state stripping alex free government official scene pleased result alex released society since parent renting room lodger alex wanders street enters public library hope learn painless way commit suicide accidentally encounter old scholar assaulted earlier book keen revenge beat alex help friend policeman come alex rescue turn none dim former gang rival billyboy two policeman take alex outside town beat dazed bloodied alex collapse door isolated cottage realizing late house droogs invaded first half story gang wore mask assault writer recognize alex writer whose name revealed alexander shelter alex question conditioning sequence revealed mrs alexander died injury inflicted gang rape husband decided continue living fragrant memory persists despite horrid memory alexander critic government hope use alex symbol state brutality thereby prevent incumbent government re elected eventually begin realize alex role happening night two year ago one alexander radical associate manages extract confession alex removing alexander home lock flatblock near former home alex subjected relentless barrage classical music prompting attempt suicide leaping high window alex wake hospital courted government official anxious counter bad publicity created suicide attempt alexander safely packed mental institution alex offered well paying job agrees side government photographer snap picture alex daydream orgiastic violence realizes ludovico conditioning reversed cured right final chapter alex new trio droogs find beginning outgrow taste violence chance encounter pete married settled inspires alex seek wife family contemplates likelihood future son delinquent prospect alex view fatalistically' not present\""
     ]
    }
   ],
   "source": [
    "# Function to get embeddings for a given text column and Word2Vec model\n",
    "def get_embeddings(text_column, word2vec_model):\n",
    "    return text_column.apply(lambda text: word2vec_model.wv[text])\n",
    "\n",
    "# Load Word2Vec model for tokens\n",
    "word2vec_model_tokens = Word2Vec.load(\"word2vec_tokens.model\")\n",
    "\n",
    "# Apply the previous function\n",
    "tokens_embeddings = get_embeddings(before_vect_nn['tokens'], word2vec_model_tokens)"
   ]
  },
  {
   "cell_type": "code",
   "execution_count": null,
   "metadata": {},
   "outputs": [],
   "source": [
    "# Split the data again with this last change:\n",
    "\n",
    "X = features_2\n",
    "y = y_encoded\n",
    "\n",
    "X_train, X_test, y_train, y_test = train_test_split(X, y, test_size=0.2, random_state=42)"
   ]
  },
  {
   "cell_type": "code",
   "execution_count": null,
   "metadata": {},
   "outputs": [],
   "source": [
    "# Set up your features and target variable\n",
    "X_train, X_test, y_train, y_test = train_test_split(combined_embeddings, target, test_size=0.2, random_state=42)\n",
    "\n",
    "# Create XGBoost DMatrix\n",
    "dtrain = xgb.DMatrix(X_train, label=y_train)\n",
    "dtest = xgb.DMatrix(X_test, label=y_test)\n",
    "\n",
    "# Set XGBoost parameters\n",
    "params = {'objective': 'multi:softmax', 'num_class': num_classes, 'seed': 42}\n",
    "\n",
    "# Train the XGBoost model\n",
    "model = xgb.train(params, dtrain, num_boost_round=100, evals=[(dtest, 'eval')], early_stopping_rounds=10)\n",
    "\n",
    "# Make predictions\n",
    "predictions = model.predict(dtest)"
   ]
  },
  {
   "cell_type": "code",
   "execution_count": 14,
   "metadata": {},
   "outputs": [],
   "source": [
    "xgb_model = XGBClassifier(random_state=42)"
   ]
  },
  {
   "cell_type": "code",
   "execution_count": 15,
   "metadata": {},
   "outputs": [
    {
     "ename": "KeyboardInterrupt",
     "evalue": "",
     "output_type": "error",
     "traceback": [
      "\u001b[0;31m---------------------------------------------------------------------------\u001b[0m",
      "\u001b[0;31mKeyboardInterrupt\u001b[0m                         Traceback (most recent call last)",
      "\u001b[1;32m/Users/usuari/Desktop/Ironhack/BOOTCAMP/projects/final_project/notebooks/Train_models.ipynb Cell 29\u001b[0m line \u001b[0;36m1\n\u001b[0;32m----> <a href='vscode-notebook-cell:/Users/usuari/Desktop/Ironhack/BOOTCAMP/projects/final_project/notebooks/Train_models.ipynb#X61sZmlsZQ%3D%3D?line=0'>1</a>\u001b[0m xgb_model\u001b[39m.\u001b[39mfit(X_train, y_train)\n",
      "File \u001b[0;32m~/miniconda3/envs/ironhack/lib/python3.11/site-packages/xgboost/core.py:729\u001b[0m, in \u001b[0;36mrequire_keyword_args.<locals>.throw_if.<locals>.inner_f\u001b[0;34m(*args, **kwargs)\u001b[0m\n\u001b[1;32m    727\u001b[0m \u001b[39mfor\u001b[39;00m k, arg \u001b[39min\u001b[39;00m \u001b[39mzip\u001b[39m(sig\u001b[39m.\u001b[39mparameters, args):\n\u001b[1;32m    728\u001b[0m     kwargs[k] \u001b[39m=\u001b[39m arg\n\u001b[0;32m--> 729\u001b[0m \u001b[39mreturn\u001b[39;00m func(\u001b[39m*\u001b[39m\u001b[39m*\u001b[39mkwargs)\n",
      "File \u001b[0;32m~/miniconda3/envs/ironhack/lib/python3.11/site-packages/xgboost/sklearn.py:1515\u001b[0m, in \u001b[0;36mXGBClassifier.fit\u001b[0;34m(self, X, y, sample_weight, base_margin, eval_set, eval_metric, early_stopping_rounds, verbose, xgb_model, sample_weight_eval_set, base_margin_eval_set, feature_weights, callbacks)\u001b[0m\n\u001b[1;32m   1487\u001b[0m (\n\u001b[1;32m   1488\u001b[0m     model,\n\u001b[1;32m   1489\u001b[0m     metric,\n\u001b[0;32m   (...)\u001b[0m\n\u001b[1;32m   1494\u001b[0m     xgb_model, eval_metric, params, early_stopping_rounds, callbacks\n\u001b[1;32m   1495\u001b[0m )\n\u001b[1;32m   1496\u001b[0m train_dmatrix, evals \u001b[39m=\u001b[39m _wrap_evaluation_matrices(\n\u001b[1;32m   1497\u001b[0m     missing\u001b[39m=\u001b[39m\u001b[39mself\u001b[39m\u001b[39m.\u001b[39mmissing,\n\u001b[1;32m   1498\u001b[0m     X\u001b[39m=\u001b[39mX,\n\u001b[0;32m   (...)\u001b[0m\n\u001b[1;32m   1512\u001b[0m     feature_types\u001b[39m=\u001b[39m\u001b[39mself\u001b[39m\u001b[39m.\u001b[39mfeature_types,\n\u001b[1;32m   1513\u001b[0m )\n\u001b[0;32m-> 1515\u001b[0m \u001b[39mself\u001b[39m\u001b[39m.\u001b[39m_Booster \u001b[39m=\u001b[39m train(\n\u001b[1;32m   1516\u001b[0m     params,\n\u001b[1;32m   1517\u001b[0m     train_dmatrix,\n\u001b[1;32m   1518\u001b[0m     \u001b[39mself\u001b[39m\u001b[39m.\u001b[39mget_num_boosting_rounds(),\n\u001b[1;32m   1519\u001b[0m     evals\u001b[39m=\u001b[39mevals,\n\u001b[1;32m   1520\u001b[0m     early_stopping_rounds\u001b[39m=\u001b[39mearly_stopping_rounds,\n\u001b[1;32m   1521\u001b[0m     evals_result\u001b[39m=\u001b[39mevals_result,\n\u001b[1;32m   1522\u001b[0m     obj\u001b[39m=\u001b[39mobj,\n\u001b[1;32m   1523\u001b[0m     custom_metric\u001b[39m=\u001b[39mmetric,\n\u001b[1;32m   1524\u001b[0m     verbose_eval\u001b[39m=\u001b[39mverbose,\n\u001b[1;32m   1525\u001b[0m     xgb_model\u001b[39m=\u001b[39mmodel,\n\u001b[1;32m   1526\u001b[0m     callbacks\u001b[39m=\u001b[39mcallbacks,\n\u001b[1;32m   1527\u001b[0m )\n\u001b[1;32m   1529\u001b[0m \u001b[39mif\u001b[39;00m \u001b[39mnot\u001b[39;00m \u001b[39mcallable\u001b[39m(\u001b[39mself\u001b[39m\u001b[39m.\u001b[39mobjective):\n\u001b[1;32m   1530\u001b[0m     \u001b[39mself\u001b[39m\u001b[39m.\u001b[39mobjective \u001b[39m=\u001b[39m params[\u001b[39m\"\u001b[39m\u001b[39mobjective\u001b[39m\u001b[39m\"\u001b[39m]\n",
      "File \u001b[0;32m~/miniconda3/envs/ironhack/lib/python3.11/site-packages/xgboost/core.py:729\u001b[0m, in \u001b[0;36mrequire_keyword_args.<locals>.throw_if.<locals>.inner_f\u001b[0;34m(*args, **kwargs)\u001b[0m\n\u001b[1;32m    727\u001b[0m \u001b[39mfor\u001b[39;00m k, arg \u001b[39min\u001b[39;00m \u001b[39mzip\u001b[39m(sig\u001b[39m.\u001b[39mparameters, args):\n\u001b[1;32m    728\u001b[0m     kwargs[k] \u001b[39m=\u001b[39m arg\n\u001b[0;32m--> 729\u001b[0m \u001b[39mreturn\u001b[39;00m func(\u001b[39m*\u001b[39m\u001b[39m*\u001b[39mkwargs)\n",
      "File \u001b[0;32m~/miniconda3/envs/ironhack/lib/python3.11/site-packages/xgboost/training.py:181\u001b[0m, in \u001b[0;36mtrain\u001b[0;34m(params, dtrain, num_boost_round, evals, obj, feval, maximize, early_stopping_rounds, evals_result, verbose_eval, xgb_model, callbacks, custom_metric)\u001b[0m\n\u001b[1;32m    179\u001b[0m \u001b[39mif\u001b[39;00m cb_container\u001b[39m.\u001b[39mbefore_iteration(bst, i, dtrain, evals):\n\u001b[1;32m    180\u001b[0m     \u001b[39mbreak\u001b[39;00m\n\u001b[0;32m--> 181\u001b[0m bst\u001b[39m.\u001b[39mupdate(dtrain, i, obj)\n\u001b[1;32m    182\u001b[0m \u001b[39mif\u001b[39;00m cb_container\u001b[39m.\u001b[39mafter_iteration(bst, i, dtrain, evals):\n\u001b[1;32m    183\u001b[0m     \u001b[39mbreak\u001b[39;00m\n",
      "File \u001b[0;32m~/miniconda3/envs/ironhack/lib/python3.11/site-packages/xgboost/core.py:2050\u001b[0m, in \u001b[0;36mBooster.update\u001b[0;34m(self, dtrain, iteration, fobj)\u001b[0m\n\u001b[1;32m   2046\u001b[0m \u001b[39mself\u001b[39m\u001b[39m.\u001b[39m_assign_dmatrix_features(dtrain)\n\u001b[1;32m   2048\u001b[0m \u001b[39mif\u001b[39;00m fobj \u001b[39mis\u001b[39;00m \u001b[39mNone\u001b[39;00m:\n\u001b[1;32m   2049\u001b[0m     _check_call(\n\u001b[0;32m-> 2050\u001b[0m         _LIB\u001b[39m.\u001b[39mXGBoosterUpdateOneIter(\n\u001b[1;32m   2051\u001b[0m             \u001b[39mself\u001b[39m\u001b[39m.\u001b[39mhandle, ctypes\u001b[39m.\u001b[39mc_int(iteration), dtrain\u001b[39m.\u001b[39mhandle\n\u001b[1;32m   2052\u001b[0m         )\n\u001b[1;32m   2053\u001b[0m     )\n\u001b[1;32m   2054\u001b[0m \u001b[39melse\u001b[39;00m:\n\u001b[1;32m   2055\u001b[0m     pred \u001b[39m=\u001b[39m \u001b[39mself\u001b[39m\u001b[39m.\u001b[39mpredict(dtrain, output_margin\u001b[39m=\u001b[39m\u001b[39mTrue\u001b[39;00m, training\u001b[39m=\u001b[39m\u001b[39mTrue\u001b[39;00m)\n",
      "\u001b[0;31mKeyboardInterrupt\u001b[0m: "
     ]
    }
   ],
   "source": [
    "xgb_model.fit(X_train, y_train)"
   ]
  },
  {
   "cell_type": "code",
   "execution_count": null,
   "metadata": {},
   "outputs": [],
   "source": [
    "\n",
    "\n",
    "\n",
    "xgb_predictions = xgb_model.predict(X_test)\n",
    "xgb_accuracy = accuracy_score(y_test, xgb_predictions)\n",
    "print(f\"XGBoost Accuracy: {xgb_accuracy}\")"
   ]
  },
  {
   "cell_type": "code",
   "execution_count": null,
   "metadata": {},
   "outputs": [],
   "source": []
  },
  {
   "cell_type": "code",
   "execution_count": null,
   "metadata": {},
   "outputs": [],
   "source": []
  },
  {
   "cell_type": "code",
   "execution_count": null,
   "metadata": {},
   "outputs": [],
   "source": []
  },
  {
   "cell_type": "code",
   "execution_count": null,
   "metadata": {},
   "outputs": [],
   "source": []
  },
  {
   "cell_type": "code",
   "execution_count": null,
   "metadata": {},
   "outputs": [],
   "source": [
    "# I'm going to ensure that all feature names are unique so that the Xgboost model works better. \n",
    "\n",
    "# TF-IDF vectorization for tokens\n",
    "tfidf_vectorizer = TfidfVectorizer()\n",
    "tokens_tfidf = tfidf_vectorizer.fit_transform(before_vect['tokens'].astype(str))\n",
    "\n",
    "# CountVectorizer for entities\n",
    "entities_vectorizer = CountVectorizer()\n",
    "entities_matrix = entities_vectorizer.fit_transform(before_vect['entities'].astype(str))\n",
    "\n",
    "# Get unique names for tokens and entities features\n",
    "tokens_feature_names = [f'token_{name}' for name in tfidf_vectorizer.get_feature_names_out()]\n",
    "entities_feature_names = [f'entity_{name}' for name in entities_vectorizer.get_feature_names_out()]\n",
    "\n",
    "# Rename columns with unique names\n",
    "tokens_df = pd.DataFrame(tokens_tfidf.toarray(), columns=tokens_feature_names)\n",
    "entities_df = pd.DataFrame(entities_matrix.toarray(), columns=entities_feature_names)\n",
    "\n",
    "# Concatenate TF-IDF and entities features\n",
    "features_2 = pd.concat([tokens_df, entities_df], axis=1)"
   ]
  }
 ],
 "metadata": {
  "kernelspec": {
   "display_name": "ironhack",
   "language": "python",
   "name": "python3"
  },
  "language_info": {
   "codemirror_mode": {
    "name": "ipython",
    "version": 3
   },
   "file_extension": ".py",
   "mimetype": "text/x-python",
   "name": "python",
   "nbconvert_exporter": "python",
   "pygments_lexer": "ipython3",
   "version": "3.11.5"
  }
 },
 "nbformat": 4,
 "nbformat_minor": 2
}
