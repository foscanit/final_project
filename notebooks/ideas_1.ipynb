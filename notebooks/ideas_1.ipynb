{
 "cells": [
  {
   "cell_type": "markdown",
   "id": "1eff5886",
   "metadata": {},
   "source": [
    "## Whether a language persists and survives the digital age is directly related to its presence in language technologies."
   ]
  },
  {
   "cell_type": "markdown",
   "id": "03f25953",
   "metadata": {},
   "source": [
    "1. Local News Analysis: analyze sentiment or topics in local news articles written in a language other than English."
   ]
  },
  {
   "cell_type": "markdown",
   "id": "56dc1d7c",
   "metadata": {},
   "source": [
    "2. Named Entity Recognition (NER): develop a NER model that can identify entities (e.g., people, organizations, locations) in texts written in a specific language."
   ]
  },
  {
   "cell_type": "code",
   "execution_count": 1,
   "id": "bbcf33f0",
   "metadata": {},
   "outputs": [
    {
     "name": "stdout",
     "output_type": "stream",
     "text": [
      "Requirement already satisfied: spacy in /Users/usuari/miniconda3/envs/ironhack/lib/python3.11/site-packages (3.7.2)\n",
      "Requirement already satisfied: spacy-legacy<3.1.0,>=3.0.11 in /Users/usuari/miniconda3/envs/ironhack/lib/python3.11/site-packages (from spacy) (3.0.12)\n",
      "Requirement already satisfied: spacy-loggers<2.0.0,>=1.0.0 in /Users/usuari/miniconda3/envs/ironhack/lib/python3.11/site-packages (from spacy) (1.0.5)\n",
      "Requirement already satisfied: murmurhash<1.1.0,>=0.28.0 in /Users/usuari/miniconda3/envs/ironhack/lib/python3.11/site-packages (from spacy) (1.0.10)\n",
      "Requirement already satisfied: cymem<2.1.0,>=2.0.2 in /Users/usuari/miniconda3/envs/ironhack/lib/python3.11/site-packages (from spacy) (2.0.8)\n",
      "Requirement already satisfied: preshed<3.1.0,>=3.0.2 in /Users/usuari/miniconda3/envs/ironhack/lib/python3.11/site-packages (from spacy) (3.0.9)\n",
      "Requirement already satisfied: thinc<8.3.0,>=8.1.8 in /Users/usuari/miniconda3/envs/ironhack/lib/python3.11/site-packages (from spacy) (8.2.1)\n",
      "Requirement already satisfied: wasabi<1.2.0,>=0.9.1 in /Users/usuari/miniconda3/envs/ironhack/lib/python3.11/site-packages (from spacy) (1.1.2)\n",
      "Requirement already satisfied: srsly<3.0.0,>=2.4.3 in /Users/usuari/miniconda3/envs/ironhack/lib/python3.11/site-packages (from spacy) (2.4.8)\n",
      "Requirement already satisfied: catalogue<2.1.0,>=2.0.6 in /Users/usuari/miniconda3/envs/ironhack/lib/python3.11/site-packages (from spacy) (2.0.10)\n",
      "Requirement already satisfied: weasel<0.4.0,>=0.1.0 in /Users/usuari/miniconda3/envs/ironhack/lib/python3.11/site-packages (from spacy) (0.3.3)\n",
      "Requirement already satisfied: typer<0.10.0,>=0.3.0 in /Users/usuari/miniconda3/envs/ironhack/lib/python3.11/site-packages (from spacy) (0.9.0)\n",
      "Requirement already satisfied: smart-open<7.0.0,>=5.2.1 in /Users/usuari/miniconda3/envs/ironhack/lib/python3.11/site-packages (from spacy) (6.4.0)\n",
      "Requirement already satisfied: tqdm<5.0.0,>=4.38.0 in /Users/usuari/miniconda3/envs/ironhack/lib/python3.11/site-packages (from spacy) (4.66.1)\n",
      "Requirement already satisfied: requests<3.0.0,>=2.13.0 in /Users/usuari/miniconda3/envs/ironhack/lib/python3.11/site-packages (from spacy) (2.31.0)\n",
      "Requirement already satisfied: pydantic!=1.8,!=1.8.1,<3.0.0,>=1.7.4 in /Users/usuari/miniconda3/envs/ironhack/lib/python3.11/site-packages (from spacy) (2.4.2)\n",
      "Requirement already satisfied: jinja2 in /Users/usuari/miniconda3/envs/ironhack/lib/python3.11/site-packages (from spacy) (2.11.3)\n",
      "Requirement already satisfied: setuptools in /Users/usuari/miniconda3/envs/ironhack/lib/python3.11/site-packages (from spacy) (68.0.0)\n",
      "Requirement already satisfied: packaging>=20.0 in /Users/usuari/miniconda3/envs/ironhack/lib/python3.11/site-packages (from spacy) (23.1)\n",
      "Requirement already satisfied: langcodes<4.0.0,>=3.2.0 in /Users/usuari/miniconda3/envs/ironhack/lib/python3.11/site-packages (from spacy) (3.3.0)\n",
      "Requirement already satisfied: numpy>=1.19.0 in /Users/usuari/miniconda3/envs/ironhack/lib/python3.11/site-packages (from spacy) (1.26.1)\n",
      "Requirement already satisfied: annotated-types>=0.4.0 in /Users/usuari/miniconda3/envs/ironhack/lib/python3.11/site-packages (from pydantic!=1.8,!=1.8.1,<3.0.0,>=1.7.4->spacy) (0.6.0)\n",
      "Requirement already satisfied: pydantic-core==2.10.1 in /Users/usuari/miniconda3/envs/ironhack/lib/python3.11/site-packages (from pydantic!=1.8,!=1.8.1,<3.0.0,>=1.7.4->spacy) (2.10.1)\n",
      "Requirement already satisfied: typing-extensions>=4.6.1 in /Users/usuari/miniconda3/envs/ironhack/lib/python3.11/site-packages (from pydantic!=1.8,!=1.8.1,<3.0.0,>=1.7.4->spacy) (4.7.1)\n",
      "Requirement already satisfied: charset-normalizer<4,>=2 in /Users/usuari/miniconda3/envs/ironhack/lib/python3.11/site-packages (from requests<3.0.0,>=2.13.0->spacy) (2.0.4)\n",
      "Requirement already satisfied: idna<4,>=2.5 in /Users/usuari/miniconda3/envs/ironhack/lib/python3.11/site-packages (from requests<3.0.0,>=2.13.0->spacy) (3.4)\n",
      "Requirement already satisfied: urllib3<3,>=1.21.1 in /Users/usuari/miniconda3/envs/ironhack/lib/python3.11/site-packages (from requests<3.0.0,>=2.13.0->spacy) (1.26.16)\n",
      "Requirement already satisfied: certifi>=2017.4.17 in /Users/usuari/miniconda3/envs/ironhack/lib/python3.11/site-packages (from requests<3.0.0,>=2.13.0->spacy) (2023.7.22)\n",
      "Requirement already satisfied: blis<0.8.0,>=0.7.8 in /Users/usuari/miniconda3/envs/ironhack/lib/python3.11/site-packages (from thinc<8.3.0,>=8.1.8->spacy) (0.7.11)\n",
      "Requirement already satisfied: confection<1.0.0,>=0.0.1 in /Users/usuari/miniconda3/envs/ironhack/lib/python3.11/site-packages (from thinc<8.3.0,>=8.1.8->spacy) (0.1.3)\n",
      "Requirement already satisfied: click<9.0.0,>=7.1.1 in /Users/usuari/miniconda3/envs/ironhack/lib/python3.11/site-packages (from typer<0.10.0,>=0.3.0->spacy) (8.1.7)\n",
      "Requirement already satisfied: cloudpathlib<0.17.0,>=0.7.0 in /Users/usuari/miniconda3/envs/ironhack/lib/python3.11/site-packages (from weasel<0.4.0,>=0.1.0->spacy) (0.16.0)\n",
      "Requirement already satisfied: MarkupSafe>=0.23 in /Users/usuari/miniconda3/envs/ironhack/lib/python3.11/site-packages (from jinja2->spacy) (2.0.1)\n"
     ]
    }
   ],
   "source": [
    "!pip install spacy"
   ]
  },
  {
   "cell_type": "code",
   "execution_count": 6,
   "id": "9b8aa09b",
   "metadata": {},
   "outputs": [
    {
     "name": "stdout",
     "output_type": "stream",
     "text": [
      "Collecting ca-fasttext-wiki-md==1.0.0\n",
      "  Downloading https://github.com/ccoreilly/spacy-catala/releases/download/ca_fasttext_wiki_md-1.0.0/ca_fasttext_wiki_md-1.0.0-py3-none-any.whl (68.1 MB)\n",
      "\u001b[2K     \u001b[38;2;114;156;31m━━━━━━━━━━━━━━━━━━━━━━━━━━━━━━━━━━━━━━━━\u001b[0m \u001b[32m68.1/68.1 MB\u001b[0m \u001b[31m8.7 MB/s\u001b[0m eta \u001b[36m0:00:00\u001b[0m0m eta \u001b[36m0:00:01\u001b[0m[36m0:00:01\u001b[0m\n",
      "\u001b[?25hRequirement already satisfied: spacy>=2.3.2 in /Users/usuari/miniconda3/envs/ironhack/lib/python3.11/site-packages (from ca-fasttext-wiki-md==1.0.0) (3.7.2)\n",
      "Requirement already satisfied: spacy-legacy<3.1.0,>=3.0.11 in /Users/usuari/miniconda3/envs/ironhack/lib/python3.11/site-packages (from spacy>=2.3.2->ca-fasttext-wiki-md==1.0.0) (3.0.12)\n",
      "Requirement already satisfied: spacy-loggers<2.0.0,>=1.0.0 in /Users/usuari/miniconda3/envs/ironhack/lib/python3.11/site-packages (from spacy>=2.3.2->ca-fasttext-wiki-md==1.0.0) (1.0.5)\n",
      "Requirement already satisfied: murmurhash<1.1.0,>=0.28.0 in /Users/usuari/miniconda3/envs/ironhack/lib/python3.11/site-packages (from spacy>=2.3.2->ca-fasttext-wiki-md==1.0.0) (1.0.10)\n",
      "Requirement already satisfied: cymem<2.1.0,>=2.0.2 in /Users/usuari/miniconda3/envs/ironhack/lib/python3.11/site-packages (from spacy>=2.3.2->ca-fasttext-wiki-md==1.0.0) (2.0.8)\n",
      "Requirement already satisfied: preshed<3.1.0,>=3.0.2 in /Users/usuari/miniconda3/envs/ironhack/lib/python3.11/site-packages (from spacy>=2.3.2->ca-fasttext-wiki-md==1.0.0) (3.0.9)\n",
      "Requirement already satisfied: thinc<8.3.0,>=8.1.8 in /Users/usuari/miniconda3/envs/ironhack/lib/python3.11/site-packages (from spacy>=2.3.2->ca-fasttext-wiki-md==1.0.0) (8.2.1)\n",
      "Requirement already satisfied: wasabi<1.2.0,>=0.9.1 in /Users/usuari/miniconda3/envs/ironhack/lib/python3.11/site-packages (from spacy>=2.3.2->ca-fasttext-wiki-md==1.0.0) (1.1.2)\n",
      "Requirement already satisfied: srsly<3.0.0,>=2.4.3 in /Users/usuari/miniconda3/envs/ironhack/lib/python3.11/site-packages (from spacy>=2.3.2->ca-fasttext-wiki-md==1.0.0) (2.4.8)\n",
      "Requirement already satisfied: catalogue<2.1.0,>=2.0.6 in /Users/usuari/miniconda3/envs/ironhack/lib/python3.11/site-packages (from spacy>=2.3.2->ca-fasttext-wiki-md==1.0.0) (2.0.10)\n",
      "Requirement already satisfied: weasel<0.4.0,>=0.1.0 in /Users/usuari/miniconda3/envs/ironhack/lib/python3.11/site-packages (from spacy>=2.3.2->ca-fasttext-wiki-md==1.0.0) (0.3.3)\n",
      "Requirement already satisfied: typer<0.10.0,>=0.3.0 in /Users/usuari/miniconda3/envs/ironhack/lib/python3.11/site-packages (from spacy>=2.3.2->ca-fasttext-wiki-md==1.0.0) (0.9.0)\n",
      "Requirement already satisfied: smart-open<7.0.0,>=5.2.1 in /Users/usuari/miniconda3/envs/ironhack/lib/python3.11/site-packages (from spacy>=2.3.2->ca-fasttext-wiki-md==1.0.0) (6.4.0)\n",
      "Requirement already satisfied: tqdm<5.0.0,>=4.38.0 in /Users/usuari/miniconda3/envs/ironhack/lib/python3.11/site-packages (from spacy>=2.3.2->ca-fasttext-wiki-md==1.0.0) (4.66.1)\n",
      "Requirement already satisfied: requests<3.0.0,>=2.13.0 in /Users/usuari/miniconda3/envs/ironhack/lib/python3.11/site-packages (from spacy>=2.3.2->ca-fasttext-wiki-md==1.0.0) (2.31.0)\n",
      "Requirement already satisfied: pydantic!=1.8,!=1.8.1,<3.0.0,>=1.7.4 in /Users/usuari/miniconda3/envs/ironhack/lib/python3.11/site-packages (from spacy>=2.3.2->ca-fasttext-wiki-md==1.0.0) (2.4.2)\n",
      "Requirement already satisfied: jinja2 in /Users/usuari/miniconda3/envs/ironhack/lib/python3.11/site-packages (from spacy>=2.3.2->ca-fasttext-wiki-md==1.0.0) (2.11.3)\n",
      "Requirement already satisfied: setuptools in /Users/usuari/miniconda3/envs/ironhack/lib/python3.11/site-packages (from spacy>=2.3.2->ca-fasttext-wiki-md==1.0.0) (68.0.0)\n",
      "Requirement already satisfied: packaging>=20.0 in /Users/usuari/miniconda3/envs/ironhack/lib/python3.11/site-packages (from spacy>=2.3.2->ca-fasttext-wiki-md==1.0.0) (23.1)\n",
      "Requirement already satisfied: langcodes<4.0.0,>=3.2.0 in /Users/usuari/miniconda3/envs/ironhack/lib/python3.11/site-packages (from spacy>=2.3.2->ca-fasttext-wiki-md==1.0.0) (3.3.0)\n",
      "Requirement already satisfied: numpy>=1.19.0 in /Users/usuari/miniconda3/envs/ironhack/lib/python3.11/site-packages (from spacy>=2.3.2->ca-fasttext-wiki-md==1.0.0) (1.26.1)\n",
      "Requirement already satisfied: annotated-types>=0.4.0 in /Users/usuari/miniconda3/envs/ironhack/lib/python3.11/site-packages (from pydantic!=1.8,!=1.8.1,<3.0.0,>=1.7.4->spacy>=2.3.2->ca-fasttext-wiki-md==1.0.0) (0.6.0)\n",
      "Requirement already satisfied: pydantic-core==2.10.1 in /Users/usuari/miniconda3/envs/ironhack/lib/python3.11/site-packages (from pydantic!=1.8,!=1.8.1,<3.0.0,>=1.7.4->spacy>=2.3.2->ca-fasttext-wiki-md==1.0.0) (2.10.1)\n",
      "Requirement already satisfied: typing-extensions>=4.6.1 in /Users/usuari/miniconda3/envs/ironhack/lib/python3.11/site-packages (from pydantic!=1.8,!=1.8.1,<3.0.0,>=1.7.4->spacy>=2.3.2->ca-fasttext-wiki-md==1.0.0) (4.7.1)\n",
      "Requirement already satisfied: charset-normalizer<4,>=2 in /Users/usuari/miniconda3/envs/ironhack/lib/python3.11/site-packages (from requests<3.0.0,>=2.13.0->spacy>=2.3.2->ca-fasttext-wiki-md==1.0.0) (2.0.4)\n",
      "Requirement already satisfied: idna<4,>=2.5 in /Users/usuari/miniconda3/envs/ironhack/lib/python3.11/site-packages (from requests<3.0.0,>=2.13.0->spacy>=2.3.2->ca-fasttext-wiki-md==1.0.0) (3.4)\n",
      "Requirement already satisfied: urllib3<3,>=1.21.1 in /Users/usuari/miniconda3/envs/ironhack/lib/python3.11/site-packages (from requests<3.0.0,>=2.13.0->spacy>=2.3.2->ca-fasttext-wiki-md==1.0.0) (1.26.16)\n",
      "Requirement already satisfied: certifi>=2017.4.17 in /Users/usuari/miniconda3/envs/ironhack/lib/python3.11/site-packages (from requests<3.0.0,>=2.13.0->spacy>=2.3.2->ca-fasttext-wiki-md==1.0.0) (2023.7.22)\n",
      "Requirement already satisfied: blis<0.8.0,>=0.7.8 in /Users/usuari/miniconda3/envs/ironhack/lib/python3.11/site-packages (from thinc<8.3.0,>=8.1.8->spacy>=2.3.2->ca-fasttext-wiki-md==1.0.0) (0.7.11)\n",
      "Requirement already satisfied: confection<1.0.0,>=0.0.1 in /Users/usuari/miniconda3/envs/ironhack/lib/python3.11/site-packages (from thinc<8.3.0,>=8.1.8->spacy>=2.3.2->ca-fasttext-wiki-md==1.0.0) (0.1.3)\n",
      "Requirement already satisfied: click<9.0.0,>=7.1.1 in /Users/usuari/miniconda3/envs/ironhack/lib/python3.11/site-packages (from typer<0.10.0,>=0.3.0->spacy>=2.3.2->ca-fasttext-wiki-md==1.0.0) (8.1.7)\n",
      "Requirement already satisfied: cloudpathlib<0.17.0,>=0.7.0 in /Users/usuari/miniconda3/envs/ironhack/lib/python3.11/site-packages (from weasel<0.4.0,>=0.1.0->spacy>=2.3.2->ca-fasttext-wiki-md==1.0.0) (0.16.0)\n",
      "Requirement already satisfied: MarkupSafe>=0.23 in /Users/usuari/miniconda3/envs/ironhack/lib/python3.11/site-packages (from jinja2->spacy>=2.3.2->ca-fasttext-wiki-md==1.0.0) (2.0.1)\n",
      "Installing collected packages: ca-fasttext-wiki-md\n",
      "Successfully installed ca-fasttext-wiki-md-1.0.0\n",
      "\u001b[31mDeprecationWarning: The command 'link' is deprecated.\u001b[0m\n",
      "\u001b[38;5;3m⚠ As of spaCy v3.0, model symlinks are not supported anymore. You can\n",
      "load trained pipeline packages using their full names or from a directory\n",
      "path.\u001b[0m\n"
     ]
    }
   ],
   "source": [
    "!pip install https://github.com/ccoreilly/spacy-catala/releases/download/ca_fasttext_wiki_md-1.0.0/ca_fasttext_wiki_md-1.0.0-py3-none-any.whl\n",
    "!python -m spacy link ca_fasttext_wiki_md ca"
   ]
  },
  {
   "cell_type": "code",
   "execution_count": 8,
   "id": "1a1a8593",
   "metadata": {},
   "outputs": [
    {
     "ename": "OSError",
     "evalue": "[E053] Could not read config file from /Users/usuari/miniconda3/envs/ironhack/lib/python3.11/site-packages/ca_fasttext_wiki_md/ca_fasttext_wiki_md-1.0.0/config.cfg",
     "output_type": "error",
     "traceback": [
      "\u001b[0;31m---------------------------------------------------------------------------\u001b[0m",
      "\u001b[0;31mOSError\u001b[0m                                   Traceback (most recent call last)",
      "Cell \u001b[0;32mIn[8], line 2\u001b[0m\n\u001b[1;32m      1\u001b[0m \u001b[38;5;28;01mimport\u001b[39;00m \u001b[38;5;21;01mspacy\u001b[39;00m\n\u001b[0;32m----> 2\u001b[0m pln_cat \u001b[38;5;241m=\u001b[39m spacy\u001b[38;5;241m.\u001b[39mload(\u001b[38;5;124m\"\u001b[39m\u001b[38;5;124mca_fasttext_wiki_md\u001b[39m\u001b[38;5;124m\"\u001b[39m)\n",
      "File \u001b[0;32m~/miniconda3/envs/ironhack/lib/python3.11/site-packages/spacy/__init__.py:51\u001b[0m, in \u001b[0;36mload\u001b[0;34m(name, vocab, disable, enable, exclude, config)\u001b[0m\n\u001b[1;32m     27\u001b[0m \u001b[38;5;28;01mdef\u001b[39;00m \u001b[38;5;21mload\u001b[39m(\n\u001b[1;32m     28\u001b[0m     name: Union[\u001b[38;5;28mstr\u001b[39m, Path],\n\u001b[1;32m     29\u001b[0m     \u001b[38;5;241m*\u001b[39m,\n\u001b[0;32m   (...)\u001b[0m\n\u001b[1;32m     34\u001b[0m     config: Union[Dict[\u001b[38;5;28mstr\u001b[39m, Any], Config] \u001b[38;5;241m=\u001b[39m util\u001b[38;5;241m.\u001b[39mSimpleFrozenDict(),\n\u001b[1;32m     35\u001b[0m ) \u001b[38;5;241m-\u001b[39m\u001b[38;5;241m>\u001b[39m Language:\n\u001b[1;32m     36\u001b[0m \u001b[38;5;250m    \u001b[39m\u001b[38;5;124;03m\"\"\"Load a spaCy model from an installed package or a local path.\u001b[39;00m\n\u001b[1;32m     37\u001b[0m \n\u001b[1;32m     38\u001b[0m \u001b[38;5;124;03m    name (str): Package name or model path.\u001b[39;00m\n\u001b[0;32m   (...)\u001b[0m\n\u001b[1;32m     49\u001b[0m \u001b[38;5;124;03m    RETURNS (Language): The loaded nlp object.\u001b[39;00m\n\u001b[1;32m     50\u001b[0m \u001b[38;5;124;03m    \"\"\"\u001b[39;00m\n\u001b[0;32m---> 51\u001b[0m     \u001b[38;5;28;01mreturn\u001b[39;00m util\u001b[38;5;241m.\u001b[39mload_model(\n\u001b[1;32m     52\u001b[0m         name,\n\u001b[1;32m     53\u001b[0m         vocab\u001b[38;5;241m=\u001b[39mvocab,\n\u001b[1;32m     54\u001b[0m         disable\u001b[38;5;241m=\u001b[39mdisable,\n\u001b[1;32m     55\u001b[0m         enable\u001b[38;5;241m=\u001b[39menable,\n\u001b[1;32m     56\u001b[0m         exclude\u001b[38;5;241m=\u001b[39mexclude,\n\u001b[1;32m     57\u001b[0m         config\u001b[38;5;241m=\u001b[39mconfig,\n\u001b[1;32m     58\u001b[0m     )\n",
      "File \u001b[0;32m~/miniconda3/envs/ironhack/lib/python3.11/site-packages/spacy/util.py:465\u001b[0m, in \u001b[0;36mload_model\u001b[0;34m(name, vocab, disable, enable, exclude, config)\u001b[0m\n\u001b[1;32m    463\u001b[0m     \u001b[38;5;28;01mreturn\u001b[39;00m get_lang_class(name\u001b[38;5;241m.\u001b[39mreplace(\u001b[38;5;124m\"\u001b[39m\u001b[38;5;124mblank:\u001b[39m\u001b[38;5;124m\"\u001b[39m, \u001b[38;5;124m\"\u001b[39m\u001b[38;5;124m\"\u001b[39m))()\n\u001b[1;32m    464\u001b[0m \u001b[38;5;28;01mif\u001b[39;00m is_package(name):  \u001b[38;5;66;03m# installed as package\u001b[39;00m\n\u001b[0;32m--> 465\u001b[0m     \u001b[38;5;28;01mreturn\u001b[39;00m load_model_from_package(name, \u001b[38;5;241m*\u001b[39m\u001b[38;5;241m*\u001b[39mkwargs)  \u001b[38;5;66;03m# type: ignore[arg-type]\u001b[39;00m\n\u001b[1;32m    466\u001b[0m \u001b[38;5;28;01mif\u001b[39;00m Path(name)\u001b[38;5;241m.\u001b[39mexists():  \u001b[38;5;66;03m# path to model data directory\u001b[39;00m\n\u001b[1;32m    467\u001b[0m     \u001b[38;5;28;01mreturn\u001b[39;00m load_model_from_path(Path(name), \u001b[38;5;241m*\u001b[39m\u001b[38;5;241m*\u001b[39mkwargs)  \u001b[38;5;66;03m# type: ignore[arg-type]\u001b[39;00m\n",
      "File \u001b[0;32m~/miniconda3/envs/ironhack/lib/python3.11/site-packages/spacy/util.py:501\u001b[0m, in \u001b[0;36mload_model_from_package\u001b[0;34m(name, vocab, disable, enable, exclude, config)\u001b[0m\n\u001b[1;32m    484\u001b[0m \u001b[38;5;250m\u001b[39m\u001b[38;5;124;03m\"\"\"Load a model from an installed package.\u001b[39;00m\n\u001b[1;32m    485\u001b[0m \n\u001b[1;32m    486\u001b[0m \u001b[38;5;124;03mname (str): The package name.\u001b[39;00m\n\u001b[0;32m   (...)\u001b[0m\n\u001b[1;32m    498\u001b[0m \u001b[38;5;124;03mRETURNS (Language): The loaded nlp object.\u001b[39;00m\n\u001b[1;32m    499\u001b[0m \u001b[38;5;124;03m\"\"\"\u001b[39;00m\n\u001b[1;32m    500\u001b[0m \u001b[38;5;28mcls\u001b[39m \u001b[38;5;241m=\u001b[39m importlib\u001b[38;5;241m.\u001b[39mimport_module(name)\n\u001b[0;32m--> 501\u001b[0m \u001b[38;5;28;01mreturn\u001b[39;00m \u001b[38;5;28mcls\u001b[39m\u001b[38;5;241m.\u001b[39mload(vocab\u001b[38;5;241m=\u001b[39mvocab, disable\u001b[38;5;241m=\u001b[39mdisable, enable\u001b[38;5;241m=\u001b[39menable, exclude\u001b[38;5;241m=\u001b[39mexclude, config\u001b[38;5;241m=\u001b[39mconfig)\n",
      "File \u001b[0;32m~/miniconda3/envs/ironhack/lib/python3.11/site-packages/ca_fasttext_wiki_md/__init__.py:12\u001b[0m, in \u001b[0;36mload\u001b[0;34m(**overrides)\u001b[0m\n\u001b[1;32m     11\u001b[0m \u001b[38;5;28;01mdef\u001b[39;00m \u001b[38;5;21mload\u001b[39m(\u001b[38;5;241m*\u001b[39m\u001b[38;5;241m*\u001b[39moverrides):\n\u001b[0;32m---> 12\u001b[0m     \u001b[38;5;28;01mreturn\u001b[39;00m load_model_from_init_py(\u001b[38;5;18m__file__\u001b[39m, \u001b[38;5;241m*\u001b[39m\u001b[38;5;241m*\u001b[39moverrides)\n",
      "File \u001b[0;32m~/miniconda3/envs/ironhack/lib/python3.11/site-packages/spacy/util.py:682\u001b[0m, in \u001b[0;36mload_model_from_init_py\u001b[0;34m(init_file, vocab, disable, enable, exclude, config)\u001b[0m\n\u001b[1;32m    680\u001b[0m \u001b[38;5;28;01mif\u001b[39;00m \u001b[38;5;129;01mnot\u001b[39;00m model_path\u001b[38;5;241m.\u001b[39mexists():\n\u001b[1;32m    681\u001b[0m     \u001b[38;5;28;01mraise\u001b[39;00m \u001b[38;5;167;01mIOError\u001b[39;00m(Errors\u001b[38;5;241m.\u001b[39mE052\u001b[38;5;241m.\u001b[39mformat(path\u001b[38;5;241m=\u001b[39mdata_path))\n\u001b[0;32m--> 682\u001b[0m \u001b[38;5;28;01mreturn\u001b[39;00m load_model_from_path(\n\u001b[1;32m    683\u001b[0m     data_path,\n\u001b[1;32m    684\u001b[0m     vocab\u001b[38;5;241m=\u001b[39mvocab,\n\u001b[1;32m    685\u001b[0m     meta\u001b[38;5;241m=\u001b[39mmeta,\n\u001b[1;32m    686\u001b[0m     disable\u001b[38;5;241m=\u001b[39mdisable,\n\u001b[1;32m    687\u001b[0m     enable\u001b[38;5;241m=\u001b[39menable,\n\u001b[1;32m    688\u001b[0m     exclude\u001b[38;5;241m=\u001b[39mexclude,\n\u001b[1;32m    689\u001b[0m     config\u001b[38;5;241m=\u001b[39mconfig,\n\u001b[1;32m    690\u001b[0m )\n",
      "File \u001b[0;32m~/miniconda3/envs/ironhack/lib/python3.11/site-packages/spacy/util.py:538\u001b[0m, in \u001b[0;36mload_model_from_path\u001b[0;34m(model_path, meta, vocab, disable, enable, exclude, config)\u001b[0m\n\u001b[1;32m    536\u001b[0m config_path \u001b[38;5;241m=\u001b[39m model_path \u001b[38;5;241m/\u001b[39m \u001b[38;5;124m\"\u001b[39m\u001b[38;5;124mconfig.cfg\u001b[39m\u001b[38;5;124m\"\u001b[39m\n\u001b[1;32m    537\u001b[0m overrides \u001b[38;5;241m=\u001b[39m dict_to_dot(config, for_overrides\u001b[38;5;241m=\u001b[39m\u001b[38;5;28;01mTrue\u001b[39;00m)\n\u001b[0;32m--> 538\u001b[0m config \u001b[38;5;241m=\u001b[39m load_config(config_path, overrides\u001b[38;5;241m=\u001b[39moverrides)\n\u001b[1;32m    539\u001b[0m nlp \u001b[38;5;241m=\u001b[39m load_model_from_config(\n\u001b[1;32m    540\u001b[0m     config,\n\u001b[1;32m    541\u001b[0m     vocab\u001b[38;5;241m=\u001b[39mvocab,\n\u001b[0;32m   (...)\u001b[0m\n\u001b[1;32m    545\u001b[0m     meta\u001b[38;5;241m=\u001b[39mmeta,\n\u001b[1;32m    546\u001b[0m )\n\u001b[1;32m    547\u001b[0m \u001b[38;5;28;01mreturn\u001b[39;00m nlp\u001b[38;5;241m.\u001b[39mfrom_disk(model_path, exclude\u001b[38;5;241m=\u001b[39mexclude, overrides\u001b[38;5;241m=\u001b[39moverrides)\n",
      "File \u001b[0;32m~/miniconda3/envs/ironhack/lib/python3.11/site-packages/spacy/util.py:714\u001b[0m, in \u001b[0;36mload_config\u001b[0;34m(path, overrides, interpolate)\u001b[0m\n\u001b[1;32m    712\u001b[0m \u001b[38;5;28;01melse\u001b[39;00m:\n\u001b[1;32m    713\u001b[0m     \u001b[38;5;28;01mif\u001b[39;00m \u001b[38;5;129;01mnot\u001b[39;00m config_path \u001b[38;5;129;01mor\u001b[39;00m \u001b[38;5;129;01mnot\u001b[39;00m config_path\u001b[38;5;241m.\u001b[39mis_file():\n\u001b[0;32m--> 714\u001b[0m         \u001b[38;5;28;01mraise\u001b[39;00m \u001b[38;5;167;01mIOError\u001b[39;00m(Errors\u001b[38;5;241m.\u001b[39mE053\u001b[38;5;241m.\u001b[39mformat(path\u001b[38;5;241m=\u001b[39mconfig_path, name\u001b[38;5;241m=\u001b[39m\u001b[38;5;124m\"\u001b[39m\u001b[38;5;124mconfig file\u001b[39m\u001b[38;5;124m\"\u001b[39m))\n\u001b[1;32m    715\u001b[0m     \u001b[38;5;28;01mreturn\u001b[39;00m config\u001b[38;5;241m.\u001b[39mfrom_disk(\n\u001b[1;32m    716\u001b[0m         config_path, overrides\u001b[38;5;241m=\u001b[39moverrides, interpolate\u001b[38;5;241m=\u001b[39minterpolate\n\u001b[1;32m    717\u001b[0m     )\n",
      "\u001b[0;31mOSError\u001b[0m: [E053] Could not read config file from /Users/usuari/miniconda3/envs/ironhack/lib/python3.11/site-packages/ca_fasttext_wiki_md/ca_fasttext_wiki_md-1.0.0/config.cfg"
     ]
    }
   ],
   "source": [
    "import spacy\n",
    "pln_cat = spacy.load(\"ca_fasttext_wiki_md\")"
   ]
  },
  {
   "cell_type": "code",
   "execution_count": null,
   "id": "1646fef0",
   "metadata": {},
   "outputs": [],
   "source": []
  },
  {
   "cell_type": "code",
   "execution_count": null,
   "id": "709059db",
   "metadata": {},
   "outputs": [],
   "source": []
  }
 ],
 "metadata": {
  "kernelspec": {
   "display_name": "ironhack",
   "language": "python",
   "name": "ironhack"
  },
  "language_info": {
   "codemirror_mode": {
    "name": "ipython",
    "version": 3
   },
   "file_extension": ".py",
   "mimetype": "text/x-python",
   "name": "python",
   "nbconvert_exporter": "python",
   "pygments_lexer": "ipython3",
   "version": "3.11.5"
  }
 },
 "nbformat": 4,
 "nbformat_minor": 5
}
