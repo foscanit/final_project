{
 "cells": [
  {
   "cell_type": "markdown",
   "id": "1aef3581",
   "metadata": {},
   "source": [
    "# Selenium - Book genres"
   ]
  },
  {
   "cell_type": "code",
   "execution_count": 9,
   "id": "6ce617e6",
   "metadata": {},
   "outputs": [
    {
     "data": {
      "text/plain": [
       "False"
      ]
     },
     "execution_count": 9,
     "metadata": {},
     "output_type": "execute_result"
    }
   ],
   "source": [
    "import os\n",
    "import time\n",
    "import pandas as pd\n",
    "\n",
    "# pip install selenium\n",
    "from selenium import webdriver\n",
    "from selenium.webdriver.common.keys import Keys\n",
    "from selenium.webdriver.common.by import By\n",
    "from selenium.webdriver.support.ui import WebDriverWait\n",
    "from selenium.webdriver.support import expected_conditions as EC\n",
    "from selenium import webdriver\n",
    "from selenium.webdriver.support.ui import Select\n",
    "from selenium import webdriver\n",
    "\n",
    "\n",
    "from nltk.sentiment.vader import SentimentIntensityAnalyzer # pip install nltk\n",
    "from bs4 import BeautifulSoup # pip install beautifulsoup4\n",
    "import re\n",
    "import requests\n",
    "from bs4 import BeautifulSoup\n",
    "\n",
    "from dotenv import load_dotenv # pip install python-dotenv\n",
    "load_dotenv()"
   ]
  },
  {
   "cell_type": "code",
   "execution_count": 14,
   "id": "930e64b2",
   "metadata": {},
   "outputs": [
    {
     "data": {
      "text/plain": [
       "['',\n",
       " 'Novel·la contemporània',\n",
       " 'Novel·la literària',\n",
       " 'Novel·la històrica',\n",
       " 'Novel·la negra',\n",
       " 'Terror',\n",
       " 'Novel·la romàntica',\n",
       " 'Teatre',\n",
       " 'Poesia',\n",
       " '']"
      ]
     },
     "execution_count": 14,
     "metadata": {},
     "output_type": "execute_result"
    }
   ],
   "source": [
    "url = \"https://www.grup62.cat/llibres\"\n",
    "\n",
    "res = requests.get(url)\n",
    "res.raise_for_status()  # Check for request success\n",
    "time.sleep(2)\n",
    "soup = BeautifulSoup(res.content, 'html.parser')\n",
    "lit_raw = soup.find(\"div\", {\"class\": \"tematiques\"})\n",
    "lit = lit_raw.getText().split('\\n')\n",
    "lit"
   ]
  },
  {
   "cell_type": "code",
   "execution_count": 15,
   "id": "547f1053",
   "metadata": {},
   "outputs": [],
   "source": [
    "url = \"https://www.grup62.cat/llibres\"\n",
    "driver = webdriver.Chrome()\n",
    "driver.get(url)"
   ]
  },
  {
   "cell_type": "code",
   "execution_count": null,
   "id": "70618a06",
   "metadata": {},
   "outputs": [],
   "source": [
    "# Selenium tests\n",
    "\n",
    "url = \"https://www.grup62.cat/llibres\"\n",
    "driver = webdriver.Chrome()\n",
    "driver.get(url)\n",
    "\n",
    "genres = driver.find_elements(By.XPATH, '//div[@class=\"graella-amb-llista\"]')\n",
    "genres_html = genres_element.get_attribute(\"outerHTML\")\n"
   ]
  },
  {
   "cell_type": "code",
   "execution_count": null,
   "id": "08380cfe",
   "metadata": {},
   "outputs": [],
   "source": [
    "# Selenium function\n",
    "\n",
    "url = \"https://www.grup62.cat/llibres\"\n",
    "\n",
    "def explore_publishing_company(url):\n",
    "    # Create a WebDriver object (e.g., ChromeDriver)\n",
    "    driver = webdriver.Chrome()\n",
    "\n",
    "    try:\n",
    "        # Open the URL\n",
    "        driver.get(url)\n",
    "\n",
    "        # Wait for the page to load (adjust the timeout as needed)\n",
    "        WebDriverWait(driver, 10).until(EC.presence_of_element_located((By.XPATH, '//*[@id=\"your_element_id_here\"]')))\n",
    "\n",
    "        # Extract genres\n",
    "        genres = driver.find_elements(By.XPATH, '//*[@id=\"your_genres_xpath_here\"]')\n",
    "        \n",
    "        for genre in genres:\n",
    "            # Click on the genre to navigate\n",
    "            genre.click()\n",
    "\n",
    "            # Wait for the page to load (adjust the timeout as needed)\n",
    "            WebDriverWait(driver, 10).until(EC.presence_of_element_located((By.XPATH, '//*[@id=\"your_element_id_for_titles\"]')))\n",
    "\n",
    "            # Extract titles\n",
    "            titles = driver.find_elements(By.XPATH, '//*[@id=\"your_titles_xpath_here\"]')\n",
    "\n",
    "            for title in titles:\n",
    "                # Click on the title to navigate\n",
    "                title.click()\n",
    "\n",
    "                # Wait for the page to load (adjust the timeout as needed)\n",
    "                WebDriverWait(driver, 10).until(EC.presence_of_element_located((By.XPATH, '//*[@id=\"your_element_id_for_description\"]')))\n",
    "\n",
    "                # Extract the book description\n",
    "                description_element = driver.find_element(By.XPATH, '//*[@id=\"your_description_xpath_here\"]')\n",
    "                description_html = description_element.get_attribute(\"outerHTML\")\n",
    "\n",
    "                # Use BeautifulSoup to parse the HTML\n",
    "                description_soup = BeautifulSoup(description_html, \"html.parser\")\n",
    "\n",
    "                # Now you can work with the BeautifulSoup object (description_soup) as needed\n",
    "                # For example, print the text content of the description\n",
    "                print(description_soup.get_text())\n",
    "\n",
    "                # Navigate back to the titles page\n",
    "                driver.back()\n",
    "\n",
    "            # Navigate back to the genres page\n",
    "            driver.back()\n",
    "\n",
    "    finally:\n",
    "        # Close the browser\n",
    "        driver.quit()"
   ]
  },
  {
   "cell_type": "code",
   "execution_count": 7,
   "id": "192b6061",
   "metadata": {},
   "outputs": [
    {
     "name": "stdout",
     "output_type": "stream",
     "text": [
      "<selenium.webdriver.remote.webelement.WebElement (session=\"6e12f0acebb92c24edee70ce4bb24830\", element=\"4A5163860E0976E215846FFA4FA0B92C_element_32\")>\n"
     ]
    }
   ],
   "source": [
    "# Selenium 2\n",
    "\n",
    "driver = webdriver.Chrome()\n",
    "driver.get(url)\n",
    "time_sleep = 2\n",
    "\n",
    "element = driver.find_element(By.CLASS_NAME, \"tematiques\")\n",
    "html_content = element.get_attribute(\"outerHTML\")\n",
    "soup = BeautifulSoup(html_content, \"html.parser\")\n",
    "print(soup)"
   ]
  },
  {
   "cell_type": "code",
   "execution_count": null,
   "id": "c1a5f8b1",
   "metadata": {},
   "outputs": [],
   "source": []
  },
  {
   "cell_type": "code",
   "execution_count": null,
   "id": "801e2096",
   "metadata": {},
   "outputs": [],
   "source": []
  },
  {
   "cell_type": "code",
   "execution_count": null,
   "id": "d3c345d5",
   "metadata": {},
   "outputs": [],
   "source": []
  }
 ],
 "metadata": {
  "kernelspec": {
   "display_name": "ironhack",
   "language": "python",
   "name": "ironhack"
  },
  "language_info": {
   "codemirror_mode": {
    "name": "ipython",
    "version": 3
   },
   "file_extension": ".py",
   "mimetype": "text/x-python",
   "name": "python",
   "nbconvert_exporter": "python",
   "pygments_lexer": "ipython3",
   "version": "3.11.5"
  }
 },
 "nbformat": 4,
 "nbformat_minor": 5
}
