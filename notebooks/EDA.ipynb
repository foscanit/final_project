{
 "cells": [
  {
   "cell_type": "markdown",
   "id": "784e9938",
   "metadata": {},
   "source": [
    "## Final project: Book Genre Classification\n",
    "\n",
    "---------------------------\n",
    "\n",
    "Clàudia Pintos Relat\n",
    "\n",
    "---------------------------\n",
    "\n"
   ]
  },
  {
   "cell_type": "markdown",
   "id": "9850538b",
   "metadata": {},
   "source": [
    "### 1. Introduction / overview\n",
    "\n",
    "The aim of this project is to build a system that can identify the genre of a book based on its synopsis. To develop a book classification task I used a dataset with the summaries of each title (https://www.kaggle.com/datasets/ymaricar/cmu-book-summary-dataset/data) and I tried to identify a set of features that establish the genre of a particular book."
   ]
  },
  {
   "cell_type": "markdown",
   "id": "61ca78d4",
   "metadata": {},
   "source": [
    "### 2. Workflow:\n",
    "\n",
    "1. Import libraries and the dataset.\n",
    "2. Clean and standardize the data.\n",
    "    - Data exploration\n",
    "    - Drop unnecessary columns\n",
    "    - Rename columns\n",
    "    - Create a function to classify the different genres between \"fiction\" and \"non fiction\".\n",
    "    - Visualize the count of each group\n",
    "    - Create a subset with only the category with more samples.\n",
    "    - Make a function to standardize the genre column.\n",
    "    - Check the value_counts for each genre and plot it.\n",
    "    - Keep only the genres that have enough data.\n",
    "    - If necessary, import another book dataset to add more samples to each genre. \n",
    "3. Text preprocessing with nltk.\n",
    "4. Descriptive analysis of the contents with Spacy\n",
    "5. Import dataset into MySQLWorkbench and make some queries\n",
    "6. Feature Extraction:\n",
    "    - Convert the preprocessed text into numerical features that machine learning models can understand.\n",
    "        - TF-IDF (Term Frequency-Inverse Document Frequency) to represent each book summary.\n",
    "7. Train-test split.\n",
    "8. Choose the models.\n",
    "9. Model 1: train and test.\n",
    "10. Model 2: train and test.\n",
    "11. Model 3: train and test.\n",
    "12. Evaluation: compare the performance and the results of each model: accuracy, precision, recall and F1 score.\n",
    "13. Next steps (hyperparameter tuning, ensemble methods) or possible errors or bias to be considered.\n",
    "14. Conclusions.\n"
   ]
  },
  {
   "cell_type": "markdown",
   "id": "92773c81",
   "metadata": {},
   "source": [
    "### 3. Import libraries and the dataset"
   ]
  },
  {
   "cell_type": "code",
   "execution_count": 1,
   "id": "a987f566",
   "metadata": {},
   "outputs": [],
   "source": [
    "# Import libraries\n",
    "\n",
    "import matplotlib.pyplot as plt\n",
    "from matplotlib.pyplot import figure\n",
    "%matplotlib inline\n",
    "%config Inlinebackend.figure_format = 'retina'\n",
    "\n",
    "import seaborn as sns\n",
    "sns.set_context('poster')\n",
    "sns.set(rc={'figure.figsize': (16., 9.)})\n",
    "sns.set_style('whitegrid')\n",
    "import seaborn as sns\n",
    "import numpy as np\n",
    "import re\n",
    "import os"
   ]
  },
  {
   "cell_type": "code",
   "execution_count": 2,
   "id": "312c1364",
   "metadata": {
    "scrolled": true
   },
   "outputs": [
    {
     "name": "stderr",
     "output_type": "stream",
     "text": [
      "16559it [00:00, 27674.52it/s]\n"
     ]
    },
    {
     "data": {
      "text/html": [
       "<div>\n",
       "<style scoped>\n",
       "    .dataframe tbody tr th:only-of-type {\n",
       "        vertical-align: middle;\n",
       "    }\n",
       "\n",
       "    .dataframe tbody tr th {\n",
       "        vertical-align: top;\n",
       "    }\n",
       "\n",
       "    .dataframe thead th {\n",
       "        text-align: right;\n",
       "    }\n",
       "</style>\n",
       "<table border=\"1\" class=\"dataframe\">\n",
       "  <thead>\n",
       "    <tr style=\"text-align: right;\">\n",
       "      <th></th>\n",
       "      <th>0</th>\n",
       "      <th>1</th>\n",
       "      <th>2</th>\n",
       "      <th>3</th>\n",
       "      <th>4</th>\n",
       "      <th>5</th>\n",
       "      <th>6</th>\n",
       "    </tr>\n",
       "  </thead>\n",
       "  <tbody>\n",
       "    <tr>\n",
       "      <th>0</th>\n",
       "      <td>620</td>\n",
       "      <td>/m/0hhy</td>\n",
       "      <td>Animal Farm</td>\n",
       "      <td>George Orwell</td>\n",
       "      <td>1945-08-17</td>\n",
       "      <td>{\"/m/016lj8\": \"Roman \\u00e0 clef\", \"/m/06nbt\":...</td>\n",
       "      <td>Old Major, the old boar on the Manor Farm, ca...</td>\n",
       "    </tr>\n",
       "    <tr>\n",
       "      <th>1</th>\n",
       "      <td>843</td>\n",
       "      <td>/m/0k36</td>\n",
       "      <td>A Clockwork Orange</td>\n",
       "      <td>Anthony Burgess</td>\n",
       "      <td>1962</td>\n",
       "      <td>{\"/m/06n90\": \"Science Fiction\", \"/m/0l67h\": \"N...</td>\n",
       "      <td>Alex, a teenager living in near-future Englan...</td>\n",
       "    </tr>\n",
       "    <tr>\n",
       "      <th>2</th>\n",
       "      <td>986</td>\n",
       "      <td>/m/0ldx</td>\n",
       "      <td>The Plague</td>\n",
       "      <td>Albert Camus</td>\n",
       "      <td>1947</td>\n",
       "      <td>{\"/m/02m4t\": \"Existentialism\", \"/m/02xlf\": \"Fi...</td>\n",
       "      <td>The text of The Plague is divided into five p...</td>\n",
       "    </tr>\n",
       "    <tr>\n",
       "      <th>3</th>\n",
       "      <td>1756</td>\n",
       "      <td>/m/0sww</td>\n",
       "      <td>An Enquiry Concerning Human Understanding</td>\n",
       "      <td>David Hume</td>\n",
       "      <td></td>\n",
       "      <td></td>\n",
       "      <td>The argument of the Enquiry proceeds by a ser...</td>\n",
       "    </tr>\n",
       "    <tr>\n",
       "      <th>4</th>\n",
       "      <td>2080</td>\n",
       "      <td>/m/0wkt</td>\n",
       "      <td>A Fire Upon the Deep</td>\n",
       "      <td>Vernor Vinge</td>\n",
       "      <td></td>\n",
       "      <td>{\"/m/03lrw\": \"Hard science fiction\", \"/m/06n90...</td>\n",
       "      <td>The novel posits that space around the Milky ...</td>\n",
       "    </tr>\n",
       "  </tbody>\n",
       "</table>\n",
       "</div>"
      ],
      "text/plain": [
       "      0        1                                          2                3  \\\n",
       "0   620  /m/0hhy                                Animal Farm    George Orwell   \n",
       "1   843  /m/0k36                         A Clockwork Orange  Anthony Burgess   \n",
       "2   986  /m/0ldx                                 The Plague     Albert Camus   \n",
       "3  1756  /m/0sww  An Enquiry Concerning Human Understanding       David Hume   \n",
       "4  2080  /m/0wkt                       A Fire Upon the Deep     Vernor Vinge   \n",
       "\n",
       "            4                                                  5  \\\n",
       "0  1945-08-17  {\"/m/016lj8\": \"Roman \\u00e0 clef\", \"/m/06nbt\":...   \n",
       "1        1962  {\"/m/06n90\": \"Science Fiction\", \"/m/0l67h\": \"N...   \n",
       "2        1947  {\"/m/02m4t\": \"Existentialism\", \"/m/02xlf\": \"Fi...   \n",
       "3                                                                  \n",
       "4              {\"/m/03lrw\": \"Hard science fiction\", \"/m/06n90...   \n",
       "\n",
       "                                                   6  \n",
       "0   Old Major, the old boar on the Manor Farm, ca...  \n",
       "1   Alex, a teenager living in near-future Englan...  \n",
       "2   The text of The Plague is divided into five p...  \n",
       "3   The argument of the Enquiry proceeds by a ser...  \n",
       "4   The novel posits that space around the Milky ...  "
      ]
     },
     "execution_count": 2,
     "metadata": {},
     "output_type": "execute_result"
    }
   ],
   "source": [
    "# Import more libraries and create a dataframe with a txt file\n",
    "\n",
    "import pandas as pd\n",
    "import csv\n",
    "from tqdm import tqdm\n",
    "\n",
    "file_path = \"/Users/usuari/Desktop/Ironhack/BOOTCAMP/projects/final_project/data/booksummaries.txt\"\n",
    "\n",
    "# Initialize an empty list to store data\n",
    "sm = []\n",
    "\n",
    "with open(file_path) as f:\n",
    "    reader = csv.reader(f, dialect='excel-tab')\n",
    "    for row in tqdm(reader):\n",
    "        # Append the row to the list\n",
    "        sm.append(row)\n",
    "\n",
    "# Convert the list of lists to a DataFrame\n",
    "sums = pd.DataFrame(sm)\n",
    "\n",
    "# Display the DataFrame\n",
    "sums.head()"
   ]
  },
  {
   "cell_type": "markdown",
   "id": "9540d261",
   "metadata": {},
   "source": [
    "### 4. Explore and preprocess the dataframe"
   ]
  },
  {
   "cell_type": "code",
   "execution_count": 3,
   "id": "376ca993",
   "metadata": {},
   "outputs": [
    {
     "data": {
      "text/plain": [
       "(16559, 7)"
      ]
     },
     "execution_count": 3,
     "metadata": {},
     "output_type": "execute_result"
    }
   ],
   "source": [
    "sums.shape"
   ]
  },
  {
   "cell_type": "code",
   "execution_count": 4,
   "id": "87ef0a72",
   "metadata": {},
   "outputs": [
    {
     "data": {
      "text/plain": [
       "0    object\n",
       "1    object\n",
       "2    object\n",
       "3    object\n",
       "4    object\n",
       "5    object\n",
       "6    object\n",
       "dtype: object"
      ]
     },
     "execution_count": 4,
     "metadata": {},
     "output_type": "execute_result"
    }
   ],
   "source": [
    "sums.dtypes"
   ]
  },
  {
   "cell_type": "code",
   "execution_count": 5,
   "id": "74d241d2",
   "metadata": {},
   "outputs": [
    {
     "name": "stdout",
     "output_type": "stream",
     "text": [
      "<class 'pandas.core.frame.DataFrame'>\n",
      "RangeIndex: 16559 entries, 0 to 16558\n",
      "Data columns (total 7 columns):\n",
      " #   Column  Non-Null Count  Dtype \n",
      "---  ------  --------------  ----- \n",
      " 0   0       16559 non-null  object\n",
      " 1   1       16559 non-null  object\n",
      " 2   2       16559 non-null  object\n",
      " 3   3       16559 non-null  object\n",
      " 4   4       16559 non-null  object\n",
      " 5   5       16559 non-null  object\n",
      " 6   6       16559 non-null  object\n",
      "dtypes: object(7)\n",
      "memory usage: 905.7+ KB\n"
     ]
    }
   ],
   "source": [
    "sums.info()"
   ]
  },
  {
   "cell_type": "code",
   "execution_count": 6,
   "id": "0544ff1a",
   "metadata": {
    "scrolled": true
   },
   "outputs": [
    {
     "data": {
      "text/plain": [
       "0    0\n",
       "1    0\n",
       "2    0\n",
       "3    0\n",
       "4    0\n",
       "5    0\n",
       "6    0\n",
       "dtype: int64"
      ]
     },
     "execution_count": 6,
     "metadata": {},
     "output_type": "execute_result"
    }
   ],
   "source": [
    "sums.isna().sum()"
   ]
  },
  {
   "cell_type": "code",
   "execution_count": 7,
   "id": "434c7241",
   "metadata": {},
   "outputs": [
    {
     "data": {
      "text/plain": [
       "0"
      ]
     },
     "execution_count": 7,
     "metadata": {},
     "output_type": "execute_result"
    }
   ],
   "source": [
    "sums.duplicated().sum()"
   ]
  },
  {
   "cell_type": "code",
   "execution_count": 8,
   "id": "030aeb32",
   "metadata": {
    "scrolled": true
   },
   "outputs": [
    {
     "data": {
      "text/plain": [
       "RangeIndex(start=0, stop=7, step=1)"
      ]
     },
     "execution_count": 8,
     "metadata": {},
     "output_type": "execute_result"
    }
   ],
   "source": [
    "sums.columns"
   ]
  },
  {
   "cell_type": "code",
   "execution_count": 9,
   "id": "5f4fc9b5",
   "metadata": {},
   "outputs": [
    {
     "data": {
      "text/html": [
       "<div>\n",
       "<style scoped>\n",
       "    .dataframe tbody tr th:only-of-type {\n",
       "        vertical-align: middle;\n",
       "    }\n",
       "\n",
       "    .dataframe tbody tr th {\n",
       "        vertical-align: top;\n",
       "    }\n",
       "\n",
       "    .dataframe thead th {\n",
       "        text-align: right;\n",
       "    }\n",
       "</style>\n",
       "<table border=\"1\" class=\"dataframe\">\n",
       "  <thead>\n",
       "    <tr style=\"text-align: right;\">\n",
       "      <th></th>\n",
       "      <th>2</th>\n",
       "      <th>5</th>\n",
       "      <th>6</th>\n",
       "    </tr>\n",
       "  </thead>\n",
       "  <tbody>\n",
       "    <tr>\n",
       "      <th>0</th>\n",
       "      <td>Animal Farm</td>\n",
       "      <td>{\"/m/016lj8\": \"Roman \\u00e0 clef\", \"/m/06nbt\":...</td>\n",
       "      <td>Old Major, the old boar on the Manor Farm, ca...</td>\n",
       "    </tr>\n",
       "    <tr>\n",
       "      <th>1</th>\n",
       "      <td>A Clockwork Orange</td>\n",
       "      <td>{\"/m/06n90\": \"Science Fiction\", \"/m/0l67h\": \"N...</td>\n",
       "      <td>Alex, a teenager living in near-future Englan...</td>\n",
       "    </tr>\n",
       "  </tbody>\n",
       "</table>\n",
       "</div>"
      ],
      "text/plain": [
       "                    2                                                  5  \\\n",
       "0         Animal Farm  {\"/m/016lj8\": \"Roman \\u00e0 clef\", \"/m/06nbt\":...   \n",
       "1  A Clockwork Orange  {\"/m/06n90\": \"Science Fiction\", \"/m/0l67h\": \"N...   \n",
       "\n",
       "                                                   6  \n",
       "0   Old Major, the old boar on the Manor Farm, ca...  \n",
       "1   Alex, a teenager living in near-future Englan...  "
      ]
     },
     "execution_count": 9,
     "metadata": {},
     "output_type": "execute_result"
    }
   ],
   "source": [
    "# We drop the columns that are not necessary for our analysis (Wikipedia article ID, Freebase ID, author & year of publication):\n",
    "\n",
    "clean = sums.drop(columns=[0, 1, 3, 4])\n",
    "clean.head(2)"
   ]
  },
  {
   "cell_type": "code",
   "execution_count": 10,
   "id": "8e893ff3",
   "metadata": {},
   "outputs": [
    {
     "data": {
      "text/html": [
       "<div>\n",
       "<style scoped>\n",
       "    .dataframe tbody tr th:only-of-type {\n",
       "        vertical-align: middle;\n",
       "    }\n",
       "\n",
       "    .dataframe tbody tr th {\n",
       "        vertical-align: top;\n",
       "    }\n",
       "\n",
       "    .dataframe thead th {\n",
       "        text-align: right;\n",
       "    }\n",
       "</style>\n",
       "<table border=\"1\" class=\"dataframe\">\n",
       "  <thead>\n",
       "    <tr style=\"text-align: right;\">\n",
       "      <th></th>\n",
       "      <th>title</th>\n",
       "      <th>genre</th>\n",
       "      <th>summary</th>\n",
       "    </tr>\n",
       "  </thead>\n",
       "  <tbody>\n",
       "    <tr>\n",
       "      <th>15197</th>\n",
       "      <td>Intimate Exchanges</td>\n",
       "      <td></td>\n",
       "      <td>The play begins in the garden of Celia and To...</td>\n",
       "    </tr>\n",
       "    <tr>\n",
       "      <th>11367</th>\n",
       "      <td>Infidel</td>\n",
       "      <td>{\"/m/01hmnh\": \"Fantasy\", \"/m/0dwly\": \"Children...</td>\n",
       "      <td>Stretched to their limits and celebrated as h...</td>\n",
       "    </tr>\n",
       "  </tbody>\n",
       "</table>\n",
       "</div>"
      ],
      "text/plain": [
       "                    title                                              genre  \\\n",
       "15197  Intimate Exchanges                                                      \n",
       "11367             Infidel  {\"/m/01hmnh\": \"Fantasy\", \"/m/0dwly\": \"Children...   \n",
       "\n",
       "                                                 summary  \n",
       "15197   The play begins in the garden of Celia and To...  \n",
       "11367   Stretched to their limits and celebrated as h...  "
      ]
     },
     "execution_count": 10,
     "metadata": {},
     "output_type": "execute_result"
    }
   ],
   "source": [
    "# We change the name of the columns.\n",
    "\n",
    "clean.columns = ['title', 'genre', 'summary']\n",
    "clean.sample(2)"
   ]
  },
  {
   "cell_type": "code",
   "execution_count": 11,
   "id": "b531f5fb",
   "metadata": {},
   "outputs": [
    {
     "data": {
      "text/plain": [
       "' Moominpappa is dissatisfied with his life in Moomin Valley, so he organises the family to set off on a journey to find a lighthouse in the sea. This will also be the perfect backdrop for a novel about the sea. Once arriving there, they find it a desolate and lonely place, inhabited only by a very unfriendly fisherman. Moomintroll also befriends The Groke and the sea horses. Moominmamma misses home so much that she starts painting the Moomin house with lots of flowers since none can be grown on the lighthouse island. Later they find out that the fisherman is actually the lighthouse keeper who fled from the loneliness. Nature and the sea play a big part of the novel as Moominpappa tries to understand it, and there are many strange things happening on the island that seem to be inexplicable.'"
      ]
     },
     "execution_count": 11,
     "metadata": {},
     "output_type": "execute_result"
    }
   ],
   "source": [
    "list(set(clean['summary']))[0]"
   ]
  },
  {
   "cell_type": "markdown",
   "id": "83bfd199",
   "metadata": {},
   "source": [
    "### 5. Data transformation"
   ]
  },
  {
   "cell_type": "markdown",
   "id": "9b258285",
   "metadata": {},
   "source": [
    "#### 5.1. First dataset"
   ]
  },
  {
   "cell_type": "code",
   "execution_count": 12,
   "id": "d22717a8",
   "metadata": {},
   "outputs": [],
   "source": [
    "# We create a function to classify the genres between 'fiction' and 'non fiction'. \n",
    "\n",
    "def fiction(string):\n",
    "    \n",
    "    fiction_keywords = ['fiction', 'cyberpunk', 'steampunk', 'novel', 'alien invasion', 'literature', 'western', 'fairy tale', 'magic realism', 'roman', 'literary realism', 'prose', 'science fiction', 'fantasy', 'comedy', 'horror', \n",
    "                        'adventure', 'thriller', 'crime', 'humour', 'satire', 'gothic', 'young adult', 'mystery', \n",
    "                        'novella', 'suspense', 'dystopia', 'romance', 'humour', 'chivalric', 'chick lit', 'story', \n",
    "                        'parody', 'drama', 'mystery', 'romantic', 'bildungsroman', 'sea story']\n",
    "    non_fiction_keywords = ['non-fiction', 'non fiction', 'self-help', 'self help', 'nonfiction']\n",
    "\n",
    "    # Check if 'non-fiction' is present in the lowercase string\n",
    "    if any(keyword in string.lower() for keyword in non_fiction_keywords):\n",
    "        return 'non-fiction'\n",
    "    # Check if any fiction keyword is present in the lowercase string\n",
    "    elif any(keyword in string.lower() for keyword in fiction_keywords):\n",
    "        return 'fiction'\n",
    "    else:\n",
    "        return 'non-fiction'\n"
   ]
  },
  {
   "cell_type": "code",
   "execution_count": 13,
   "id": "6fe84dea",
   "metadata": {
    "scrolled": true
   },
   "outputs": [
    {
     "data": {
      "text/html": [
       "<div>\n",
       "<style scoped>\n",
       "    .dataframe tbody tr th:only-of-type {\n",
       "        vertical-align: middle;\n",
       "    }\n",
       "\n",
       "    .dataframe tbody tr th {\n",
       "        vertical-align: top;\n",
       "    }\n",
       "\n",
       "    .dataframe thead th {\n",
       "        text-align: right;\n",
       "    }\n",
       "</style>\n",
       "<table border=\"1\" class=\"dataframe\">\n",
       "  <thead>\n",
       "    <tr style=\"text-align: right;\">\n",
       "      <th></th>\n",
       "      <th>title</th>\n",
       "      <th>genre</th>\n",
       "      <th>summary</th>\n",
       "      <th>field</th>\n",
       "    </tr>\n",
       "  </thead>\n",
       "  <tbody>\n",
       "    <tr>\n",
       "      <th>16454</th>\n",
       "      <td>Math Girls</td>\n",
       "      <td></td>\n",
       "      <td>At the start of his first year of high school...</td>\n",
       "      <td>non-fiction</td>\n",
       "    </tr>\n",
       "    <tr>\n",
       "      <th>8577</th>\n",
       "      <td>The Conspiracy</td>\n",
       "      <td>{\"/m/06n90\": \"Science Fiction\", \"/m/014dfn\": \"...</td>\n",
       "      <td>Jake returns from school to discover that his...</td>\n",
       "      <td>fiction</td>\n",
       "    </tr>\n",
       "    <tr>\n",
       "      <th>10102</th>\n",
       "      <td>It's Superman</td>\n",
       "      <td>{\"/m/06n90\": \"Science Fiction\"}</td>\n",
       "      <td>Smallville, Kansas in 1935; Clark Kent is int...</td>\n",
       "      <td>fiction</td>\n",
       "    </tr>\n",
       "    <tr>\n",
       "      <th>1055</th>\n",
       "      <td>Planet of Exile</td>\n",
       "      <td>{\"/m/06n90\": \"Science Fiction\", \"/m/014dfn\": \"...</td>\n",
       "      <td>The story is set on Werel, the third planet o...</td>\n",
       "      <td>fiction</td>\n",
       "    </tr>\n",
       "  </tbody>\n",
       "</table>\n",
       "</div>"
      ],
      "text/plain": [
       "                 title                                              genre  \\\n",
       "16454       Math Girls                                                      \n",
       "8577    The Conspiracy  {\"/m/06n90\": \"Science Fiction\", \"/m/014dfn\": \"...   \n",
       "10102    It's Superman                    {\"/m/06n90\": \"Science Fiction\"}   \n",
       "1055   Planet of Exile  {\"/m/06n90\": \"Science Fiction\", \"/m/014dfn\": \"...   \n",
       "\n",
       "                                                 summary        field  \n",
       "16454   At the start of his first year of high school...  non-fiction  \n",
       "8577    Jake returns from school to discover that his...      fiction  \n",
       "10102   Smallville, Kansas in 1935; Clark Kent is int...      fiction  \n",
       "1055    The story is set on Werel, the third planet o...      fiction  "
      ]
     },
     "execution_count": 13,
     "metadata": {},
     "output_type": "execute_result"
    }
   ],
   "source": [
    "clean['field'] = clean['genre'].apply(fiction)\n",
    "clean.sample(4)"
   ]
  },
  {
   "cell_type": "code",
   "execution_count": 14,
   "id": "c16aa626",
   "metadata": {},
   "outputs": [
    {
     "data": {
      "text/plain": [
       "field\n",
       "fiction        12275\n",
       "non-fiction     4284\n",
       "Name: count, dtype: int64"
      ]
     },
     "execution_count": 14,
     "metadata": {},
     "output_type": "execute_result"
    }
   ],
   "source": [
    "genre_count = clean.field.value_counts()\n",
    "genre_count"
   ]
  },
  {
   "cell_type": "code",
   "execution_count": 15,
   "id": "efb955e7",
   "metadata": {},
   "outputs": [
    {
     "data": {
      "image/png": "[encoded data removed]",
      "text/plain": [
       "<Figure size 800x600 with 1 Axes>"
      ]
     },
     "metadata": {},
     "output_type": "display_data"
    }
   ],
   "source": [
    "# Set the figsize parameter to control the size of the figure\n",
    "plt.figure(figsize=(8, 6))\n",
    "\n",
    "# Plot the count of fiction and non-fiction books\n",
    "bar_width = 0.05\n",
    "\n",
    "plt.bar(genre_count.index, genre_count.values, color=['blue', 'green'])\n",
    "plt.xlabel('Genre')\n",
    "plt.ylabel('Count')\n",
    "plt.title('Count of Fiction and Non-Fiction Books')\n",
    "plt.show()"
   ]
  },
  {
   "cell_type": "code",
   "execution_count": 16,
   "id": "8cf1f56e",
   "metadata": {},
   "outputs": [],
   "source": [
    "# There is more data in the fiction category, so I'm going to create a new dataframe with only the fiction books.\n",
    "# My models will only be trained with the fiction genres.\n",
    "\n",
    "fiction = clean[clean['field'] != 'non-fiction']"
   ]
  },
  {
   "cell_type": "code",
   "execution_count": 17,
   "id": "460389ad",
   "metadata": {},
   "outputs": [
    {
     "data": {
      "text/plain": [
       "(12275, 3)"
      ]
     },
     "execution_count": 17,
     "metadata": {},
     "output_type": "execute_result"
    }
   ],
   "source": [
    "fiction = fiction.drop(columns=['field'])\n",
    "fiction.shape"
   ]
  },
  {
   "cell_type": "code",
   "execution_count": 18,
   "id": "0652ad3d",
   "metadata": {},
   "outputs": [],
   "source": [
    "def genre_lists(string):\n",
    "    fan = ['dystopia', 'cyberpunk', 'steampunk', 'alien invasion', 'apocalyptic', 'science fiction', 'fantasy', 'horror', 'gothic']\n",
    "    thriller = ['thriller', 'crime fiction', 'suspense', 'spy fiction', 'detective fiction', 'mystery']\n",
    "    true_crime = ['true crime']\n",
    "    historical = ['historical', 'history', 'western']\n",
    "    romance = ['chivalric', 'romantic', 'romance', 'erotica', 'pornography']\n",
    "    comical = ['comedy', 'comical', 'comic novel', 'black comedy', 'humour', 'parody', 'satire']\n",
    "    poetry = ['poetry']\n",
    "    travel = ['travel literature']\n",
    "    children = [\"children's literature\", 'fairy tale']\n",
    "    lit = ['magic realism', 'roman', 'literary realism', 'prose']\n",
    "\n",
    "\n",
    "    genre_lower = string.lower()\n",
    "\n",
    "    if any(keyword in genre_lower for keyword in fan):\n",
    "        if 'horror' in genre_lower or 'gothic' in genre_lower:\n",
    "            return 'horror'\n",
    "        else:\n",
    "            return 'fantasy & science fiction'\n",
    "    elif any(keyword in genre_lower for keyword in thriller):\n",
    "        return 'thriller'\n",
    "    elif any(keyword in genre_lower for keyword in true_crime):\n",
    "        return 'true crime'\n",
    "    elif any(keyword in genre_lower for keyword in historical):\n",
    "        return 'historical novel'\n",
    "    elif any(keyword in genre_lower for keyword in romance):\n",
    "        return 'romance novel'\n",
    "    elif any(keyword in genre_lower for keyword in comical):\n",
    "        return 'comedy'\n",
    "    elif any(keyword in genre_lower for keyword in poetry):\n",
    "        return 'poetry'\n",
    "    elif 'ergodic' in string.lower():\n",
    "        return 'ergodic'\n",
    "    elif any(keyword in genre_lower for keyword in children):\n",
    "        return 'children literature'\n",
    "    elif any(keyword in genre_lower for keyword in lit):\n",
    "        return 'literary fiction'\n",
    "    else:\n",
    "        return 'literary fiction'\n",
    "\n",
    "# clean['genre'] = clean['genre'].apply(genre_lists)\n",
    " "
   ]
  },
  {
   "cell_type": "code",
   "execution_count": 19,
   "id": "ed6cfcbc",
   "metadata": {},
   "outputs": [],
   "source": [
    "fiction['standard_genre'] = fiction['genre'].apply(genre_lists)"
   ]
  },
  {
   "cell_type": "code",
   "execution_count": 20,
   "id": "fc0e272c",
   "metadata": {},
   "outputs": [
    {
     "data": {
      "text/html": [
       "<div>\n",
       "<style scoped>\n",
       "    .dataframe tbody tr th:only-of-type {\n",
       "        vertical-align: middle;\n",
       "    }\n",
       "\n",
       "    .dataframe tbody tr th {\n",
       "        vertical-align: top;\n",
       "    }\n",
       "\n",
       "    .dataframe thead th {\n",
       "        text-align: right;\n",
       "    }\n",
       "</style>\n",
       "<table border=\"1\" class=\"dataframe\">\n",
       "  <thead>\n",
       "    <tr style=\"text-align: right;\">\n",
       "      <th></th>\n",
       "      <th>title</th>\n",
       "      <th>genre</th>\n",
       "      <th>summary</th>\n",
       "      <th>standard_genre</th>\n",
       "    </tr>\n",
       "  </thead>\n",
       "  <tbody>\n",
       "    <tr>\n",
       "      <th>3992</th>\n",
       "      <td>Gilead</td>\n",
       "      <td>{\"/m/02xlf\": \"Fiction\", \"/m/05hgj\": \"Novel\"}</td>\n",
       "      <td>The book is an account of the memories and le...</td>\n",
       "      <td>literary fiction</td>\n",
       "    </tr>\n",
       "    <tr>\n",
       "      <th>11312</th>\n",
       "      <td>Men of Stone</td>\n",
       "      <td>{\"/m/0dwly\": \"Children's literature\"}</td>\n",
       "      <td>The novel follows protagonist Ben Conrad, a f...</td>\n",
       "      <td>children literature</td>\n",
       "    </tr>\n",
       "    <tr>\n",
       "      <th>16244</th>\n",
       "      <td>The Russian Concubine</td>\n",
       "      <td>{\"/m/02p0szs\": \"Historical fiction\"}</td>\n",
       "      <td>The story begins in 1917 when a five-year-old...</td>\n",
       "      <td>historical novel</td>\n",
       "    </tr>\n",
       "    <tr>\n",
       "      <th>10397</th>\n",
       "      <td>Sard Harker</td>\n",
       "      <td>{\"/m/02xlf\": \"Fiction\", \"/m/08sdrw\": \"Adventur...</td>\n",
       "      <td>The novel commences with establishing narrati...</td>\n",
       "      <td>literary fiction</td>\n",
       "    </tr>\n",
       "  </tbody>\n",
       "</table>\n",
       "</div>"
      ],
      "text/plain": [
       "                       title  \\\n",
       "3992                  Gilead   \n",
       "11312           Men of Stone   \n",
       "16244  The Russian Concubine   \n",
       "10397            Sard Harker   \n",
       "\n",
       "                                                   genre  \\\n",
       "3992        {\"/m/02xlf\": \"Fiction\", \"/m/05hgj\": \"Novel\"}   \n",
       "11312              {\"/m/0dwly\": \"Children's literature\"}   \n",
       "16244               {\"/m/02p0szs\": \"Historical fiction\"}   \n",
       "10397  {\"/m/02xlf\": \"Fiction\", \"/m/08sdrw\": \"Adventur...   \n",
       "\n",
       "                                                 summary       standard_genre  \n",
       "3992    The book is an account of the memories and le...     literary fiction  \n",
       "11312   The novel follows protagonist Ben Conrad, a f...  children literature  \n",
       "16244   The story begins in 1917 when a five-year-old...     historical novel  \n",
       "10397   The novel commences with establishing narrati...     literary fiction  "
      ]
     },
     "execution_count": 20,
     "metadata": {},
     "output_type": "execute_result"
    }
   ],
   "source": [
    "fiction.sample(4)"
   ]
  },
  {
   "cell_type": "code",
   "execution_count": 21,
   "id": "a6587515",
   "metadata": {},
   "outputs": [
    {
     "data": {
      "text/plain": [
       "standard_genre\n",
       "fantasy & science fiction    4546\n",
       "literary fiction             2819\n",
       "thriller                     2056\n",
       "children literature           929\n",
       "historical novel              873\n",
       "horror                        590\n",
       "comedy                        231\n",
       "romance novel                 204\n",
       "true crime                     13\n",
       "poetry                         12\n",
       "ergodic                         2\n",
       "Name: count, dtype: int64"
      ]
     },
     "execution_count": 21,
     "metadata": {},
     "output_type": "execute_result"
    }
   ],
   "source": [
    "fiction.standard_genre.value_counts()"
   ]
  },
  {
   "cell_type": "code",
   "execution_count": 22,
   "id": "8fdb2383",
   "metadata": {},
   "outputs": [
    {
     "data": {
      "text/plain": [
       "(12275, 4)"
      ]
     },
     "execution_count": 22,
     "metadata": {},
     "output_type": "execute_result"
    }
   ],
   "source": [
    "fiction.shape"
   ]
  },
  {
   "cell_type": "code",
   "execution_count": 23,
   "id": "63072653",
   "metadata": {},
   "outputs": [
    {
     "data": {
      "text/plain": [
       "(12248, 4)"
      ]
     },
     "execution_count": 23,
     "metadata": {},
     "output_type": "execute_result"
    }
   ],
   "source": [
    "# We'll drop the \"true crime\", \"ergodic\" and \"poetry\" books because there aren't many samples of each.\n",
    "\n",
    "novel = fiction[~fiction['standard_genre'].isin(['true crime', 'ergodic', 'poetry'])]\n",
    "novel.shape"
   ]
  },
  {
   "cell_type": "code",
   "execution_count": 24,
   "id": "194a961f",
   "metadata": {
    "scrolled": true
   },
   "outputs": [
    {
     "data": {
      "text/plain": [
       "standard_genre\n",
       "fantasy & science fiction    4546\n",
       "literary fiction             2819\n",
       "thriller                     2056\n",
       "children literature           929\n",
       "historical novel              873\n",
       "horror                        590\n",
       "comedy                        231\n",
       "romance novel                 204\n",
       "Name: count, dtype: int64"
      ]
     },
     "execution_count": 24,
     "metadata": {},
     "output_type": "execute_result"
    }
   ],
   "source": [
    "novel.standard_genre.value_counts()"
   ]
  },
  {
   "cell_type": "markdown",
   "metadata": {},
   "source": [
    "I'll drop the category of 'children literature' because it really doesn't give us information about the topic, \n",
    "but rather the age of the target readers."
   ]
  },
  {
   "cell_type": "code",
   "execution_count": 26,
   "id": "97f94ca8",
   "metadata": {},
   "outputs": [
    {
     "data": {
      "text/plain": [
       "(11319, 4)"
      ]
     },
     "execution_count": 26,
     "metadata": {},
     "output_type": "execute_result"
    }
   ],
   "source": [
    "adults = novel[~novel['standard_genre'].isin(['children literature'])]\n",
    "adults.shape"
   ]
  },
  {
   "cell_type": "code",
   "execution_count": 27,
   "id": "87064138",
   "metadata": {},
   "outputs": [
    {
     "data": {
      "text/plain": [
       "standard_genre\n",
       "fantasy & science fiction    4546\n",
       "literary fiction             2819\n",
       "thriller                     2056\n",
       "historical novel              873\n",
       "horror                        590\n",
       "comedy                        231\n",
       "romance novel                 204\n",
       "Name: count, dtype: int64"
      ]
     },
     "execution_count": 27,
     "metadata": {},
     "output_type": "execute_result"
    }
   ],
   "source": [
    "adults_count = adults.standard_genre.value_counts()\n",
    "adults_count"
   ]
  },
  {
   "cell_type": "code",
   "execution_count": 28,
   "id": "58a8ae27",
   "metadata": {},
   "outputs": [
    {
     "data": {
      "text/html": [
       "<div>\n",
       "<style scoped>\n",
       "    .dataframe tbody tr th:only-of-type {\n",
       "        vertical-align: middle;\n",
       "    }\n",
       "\n",
       "    .dataframe tbody tr th {\n",
       "        vertical-align: top;\n",
       "    }\n",
       "\n",
       "    .dataframe thead th {\n",
       "        text-align: right;\n",
       "    }\n",
       "</style>\n",
       "<table border=\"1\" class=\"dataframe\">\n",
       "  <thead>\n",
       "    <tr style=\"text-align: right;\">\n",
       "      <th></th>\n",
       "      <th>title</th>\n",
       "      <th>genre</th>\n",
       "      <th>summary</th>\n",
       "      <th>standard_genre</th>\n",
       "    </tr>\n",
       "  </thead>\n",
       "  <tbody>\n",
       "    <tr>\n",
       "      <th>2182</th>\n",
       "      <td>And Quiet Flows the Don</td>\n",
       "      <td>{\"/m/05hgj\": \"Novel\"}</td>\n",
       "      <td>The novel deals with the life of the Cossacks...</td>\n",
       "      <td>literary fiction</td>\n",
       "    </tr>\n",
       "    <tr>\n",
       "      <th>14237</th>\n",
       "      <td>Escape from the Forest</td>\n",
       "      <td>{\"/m/0dwly\": \"Children's literature\", \"/m/01hm...</td>\n",
       "      <td>The book opens to Sasha refusing Tigerstar's ...</td>\n",
       "      <td>fantasy &amp; science fiction</td>\n",
       "    </tr>\n",
       "    <tr>\n",
       "      <th>8767</th>\n",
       "      <td>Star Wars Republic Commando: True Colors</td>\n",
       "      <td>{\"/m/06n90\": \"Science Fiction\", \"/m/014dfn\": \"...</td>\n",
       "      <td>In the Grand Army's desperate fight to crush ...</td>\n",
       "      <td>fantasy &amp; science fiction</td>\n",
       "    </tr>\n",
       "  </tbody>\n",
       "</table>\n",
       "</div>"
      ],
      "text/plain": [
       "                                          title  \\\n",
       "2182                    And Quiet Flows the Don   \n",
       "14237                    Escape from the Forest   \n",
       "8767   Star Wars Republic Commando: True Colors   \n",
       "\n",
       "                                                   genre  \\\n",
       "2182                               {\"/m/05hgj\": \"Novel\"}   \n",
       "14237  {\"/m/0dwly\": \"Children's literature\", \"/m/01hm...   \n",
       "8767   {\"/m/06n90\": \"Science Fiction\", \"/m/014dfn\": \"...   \n",
       "\n",
       "                                                 summary  \\\n",
       "2182    The novel deals with the life of the Cossacks...   \n",
       "14237   The book opens to Sasha refusing Tigerstar's ...   \n",
       "8767    In the Grand Army's desperate fight to crush ...   \n",
       "\n",
       "                  standard_genre  \n",
       "2182            literary fiction  \n",
       "14237  fantasy & science fiction  \n",
       "8767   fantasy & science fiction  "
      ]
     },
     "execution_count": 28,
     "metadata": {},
     "output_type": "execute_result"
    }
   ],
   "source": [
    "adults.sample(3)"
   ]
  },
  {
   "cell_type": "code",
   "execution_count": 29,
   "id": "df510b95",
   "metadata": {},
   "outputs": [],
   "source": [
    "# I create a function to clean the standard_genre of 'fantasy & science fiction'.\n",
    "\n",
    "def fant_sci(string):\n",
    "    sci_fi_keywords = ['dystopia', 'cyberpunk', 'steampunk', 'alien invasion', 'apocalyptic']\n",
    "    \n",
    "    genre_lower = string.lower()\n",
    "\n",
    "    if any(keyword in genre_lower for keyword in sci_fi_keywords):\n",
    "        return 'science fiction'\n",
    "    elif 'fantasy' in genre_lower and 'science fiction' not in genre_lower:\n",
    "        return 'fantasy'\n",
    "    elif 'science fiction' in genre_lower and 'fantasy' not in genre_lower:\n",
    "        return 'science fiction'\n",
    "    else:\n",
    "        return 'fantasy & science fiction'"
   ]
  },
  {
   "cell_type": "code",
   "execution_count": 30,
   "id": "17dde948",
   "metadata": {},
   "outputs": [
    {
     "data": {
      "text/html": [
       "<div>\n",
       "<style scoped>\n",
       "    .dataframe tbody tr th:only-of-type {\n",
       "        vertical-align: middle;\n",
       "    }\n",
       "\n",
       "    .dataframe tbody tr th {\n",
       "        vertical-align: top;\n",
       "    }\n",
       "\n",
       "    .dataframe thead th {\n",
       "        text-align: right;\n",
       "    }\n",
       "</style>\n",
       "<table border=\"1\" class=\"dataframe\">\n",
       "  <thead>\n",
       "    <tr style=\"text-align: right;\">\n",
       "      <th></th>\n",
       "      <th>title</th>\n",
       "      <th>genre</th>\n",
       "      <th>summary</th>\n",
       "      <th>standard_genre</th>\n",
       "    </tr>\n",
       "  </thead>\n",
       "  <tbody>\n",
       "    <tr>\n",
       "      <th>15912</th>\n",
       "      <td>Let It Snow</td>\n",
       "      <td>{\"/m/03mfnf\": \"Young adult literature\"}</td>\n",
       "      <td>Jubilee Dougal, just a typical teenager, find...</td>\n",
       "      <td>literary fiction</td>\n",
       "    </tr>\n",
       "    <tr>\n",
       "      <th>13659</th>\n",
       "      <td>The Fair Bride</td>\n",
       "      <td>{\"/m/05hgj\": \"Novel\"}</td>\n",
       "      <td>A priest finds himself on the run from the Sp...</td>\n",
       "      <td>literary fiction</td>\n",
       "    </tr>\n",
       "    <tr>\n",
       "      <th>8144</th>\n",
       "      <td>The Borgia Bride</td>\n",
       "      <td>{\"/m/0hwxm\": \"Historical novel\"}</td>\n",
       "      <td>The book starts off with Princess Sancha reme...</td>\n",
       "      <td>historical novel</td>\n",
       "    </tr>\n",
       "    <tr>\n",
       "      <th>12987</th>\n",
       "      <td>A Darker Domain</td>\n",
       "      <td>{\"/m/0lsxr\": \"Crime Fiction\"}</td>\n",
       "      <td>During the infamous UK miners' strike, a weal...</td>\n",
       "      <td>thriller</td>\n",
       "    </tr>\n",
       "    <tr>\n",
       "      <th>7716</th>\n",
       "      <td>Bikini Planet</td>\n",
       "      <td>{\"/m/06n90\": \"Science Fiction\", \"/m/01z4y\": \"C...</td>\n",
       "      <td>Waking in the 24th Century, Wayne claims to b...</td>\n",
       "      <td>science fiction</td>\n",
       "    </tr>\n",
       "  </tbody>\n",
       "</table>\n",
       "</div>"
      ],
      "text/plain": [
       "                  title                                              genre  \\\n",
       "15912       Let It Snow            {\"/m/03mfnf\": \"Young adult literature\"}   \n",
       "13659    The Fair Bride                              {\"/m/05hgj\": \"Novel\"}   \n",
       "8144   The Borgia Bride                   {\"/m/0hwxm\": \"Historical novel\"}   \n",
       "12987   A Darker Domain                      {\"/m/0lsxr\": \"Crime Fiction\"}   \n",
       "7716      Bikini Planet  {\"/m/06n90\": \"Science Fiction\", \"/m/01z4y\": \"C...   \n",
       "\n",
       "                                                 summary    standard_genre  \n",
       "15912   Jubilee Dougal, just a typical teenager, find...  literary fiction  \n",
       "13659   A priest finds himself on the run from the Sp...  literary fiction  \n",
       "8144    The book starts off with Princess Sancha reme...  historical novel  \n",
       "12987   During the infamous UK miners' strike, a weal...          thriller  \n",
       "7716    Waking in the 24th Century, Wayne claims to b...   science fiction  "
      ]
     },
     "execution_count": 30,
     "metadata": {},
     "output_type": "execute_result"
    }
   ],
   "source": [
    "fant_mask = adults['standard_genre'] == 'fantasy & science fiction'\n",
    "adults.loc[fant_mask, 'standard_genre'] = adults.loc[fant_mask, 'genre'].apply(fant_sci)\n",
    "adults.sample(5)"
   ]
  },
  {
   "cell_type": "code",
   "execution_count": 31,
   "id": "4ae64c28",
   "metadata": {},
   "outputs": [
    {
     "data": {
      "text/plain": [
       "standard_genre\n",
       "literary fiction             2819\n",
       "science fiction              2302\n",
       "thriller                     2056\n",
       "fantasy                      1695\n",
       "historical novel              873\n",
       "horror                        590\n",
       "fantasy & science fiction     549\n",
       "comedy                        231\n",
       "romance novel                 204\n",
       "Name: count, dtype: int64"
      ]
     },
     "execution_count": 31,
     "metadata": {},
     "output_type": "execute_result"
    }
   ],
   "source": [
    "adults_count = adults.standard_genre.value_counts()\n",
    "adults_count"
   ]
  },
  {
   "cell_type": "code",
   "execution_count": 32,
   "id": "8838f681",
   "metadata": {},
   "outputs": [
    {
     "data": {
      "text/html": [
       "<div>\n",
       "<style scoped>\n",
       "    .dataframe tbody tr th:only-of-type {\n",
       "        vertical-align: middle;\n",
       "    }\n",
       "\n",
       "    .dataframe tbody tr th {\n",
       "        vertical-align: top;\n",
       "    }\n",
       "\n",
       "    .dataframe thead th {\n",
       "        text-align: right;\n",
       "    }\n",
       "</style>\n",
       "<table border=\"1\" class=\"dataframe\">\n",
       "  <thead>\n",
       "    <tr style=\"text-align: right;\">\n",
       "      <th></th>\n",
       "      <th>title</th>\n",
       "      <th>genre</th>\n",
       "      <th>summary</th>\n",
       "      <th>standard_genre</th>\n",
       "    </tr>\n",
       "  </thead>\n",
       "  <tbody>\n",
       "    <tr>\n",
       "      <th>1</th>\n",
       "      <td>A Clockwork Orange</td>\n",
       "      <td>{\"/m/06n90\": \"Science Fiction\", \"/m/0l67h\": \"N...</td>\n",
       "      <td>Alex, a teenager living in near-future Englan...</td>\n",
       "      <td>science fiction</td>\n",
       "    </tr>\n",
       "    <tr>\n",
       "      <th>2</th>\n",
       "      <td>The Plague</td>\n",
       "      <td>{\"/m/02m4t\": \"Existentialism\", \"/m/02xlf\": \"Fi...</td>\n",
       "      <td>The text of The Plague is divided into five p...</td>\n",
       "      <td>literary fiction</td>\n",
       "    </tr>\n",
       "    <tr>\n",
       "      <th>5</th>\n",
       "      <td>All Quiet on the Western Front</td>\n",
       "      <td>{\"/m/098tmk\": \"War novel\", \"/m/016lj8\": \"Roman...</td>\n",
       "      <td>The book tells the story of Paul Bäumer, a Ge...</td>\n",
       "      <td>literary fiction</td>\n",
       "    </tr>\n",
       "    <tr>\n",
       "      <th>6</th>\n",
       "      <td>A Wizard of Earthsea</td>\n",
       "      <td>{\"/m/0dwly\": \"Children's literature\", \"/m/01hm...</td>\n",
       "      <td>Ged is a young boy on Gont, one of the larger...</td>\n",
       "      <td>fantasy</td>\n",
       "    </tr>\n",
       "  </tbody>\n",
       "</table>\n",
       "</div>"
      ],
      "text/plain": [
       "                            title  \\\n",
       "1              A Clockwork Orange   \n",
       "2                      The Plague   \n",
       "5  All Quiet on the Western Front   \n",
       "6            A Wizard of Earthsea   \n",
       "\n",
       "                                               genre  \\\n",
       "1  {\"/m/06n90\": \"Science Fiction\", \"/m/0l67h\": \"N...   \n",
       "2  {\"/m/02m4t\": \"Existentialism\", \"/m/02xlf\": \"Fi...   \n",
       "5  {\"/m/098tmk\": \"War novel\", \"/m/016lj8\": \"Roman...   \n",
       "6  {\"/m/0dwly\": \"Children's literature\", \"/m/01hm...   \n",
       "\n",
       "                                             summary    standard_genre  \n",
       "1   Alex, a teenager living in near-future Englan...   science fiction  \n",
       "2   The text of The Plague is divided into five p...  literary fiction  \n",
       "5   The book tells the story of Paul Bäumer, a Ge...  literary fiction  \n",
       "6   Ged is a young boy on Gont, one of the larger...           fantasy  "
      ]
     },
     "execution_count": 32,
     "metadata": {},
     "output_type": "execute_result"
    }
   ],
   "source": [
    "# I drop the three lasts genres (the ones that have less data).\n",
    "# I want to keep less categories for efficiency purposes or for computer expenses when training.\n",
    "\n",
    "six_genres = adults[~adults['standard_genre'].isin(['fantasy & science fiction', 'comedy', 'romance novel'])]\n",
    "six_genres.head(4)"
   ]
  },
  {
   "cell_type": "code",
   "execution_count": 33,
   "id": "f99bd9d5",
   "metadata": {},
   "outputs": [
    {
     "data": {
      "text/plain": [
       "standard_genre\n",
       "literary fiction    2819\n",
       "science fiction     2302\n",
       "thriller            2056\n",
       "fantasy             1695\n",
       "historical novel     873\n",
       "horror               590\n",
       "Name: count, dtype: int64"
      ]
     },
     "execution_count": 33,
     "metadata": {},
     "output_type": "execute_result"
    }
   ],
   "source": [
    "six_count = six_genres.standard_genre.value_counts()\n",
    "six_count"
   ]
  },
  {
   "cell_type": "code",
   "execution_count": 34,
   "id": "225a6deb",
   "metadata": {},
   "outputs": [
    {
     "data": {
      "image/png": "[encoded data removed]",
      "text/plain": [
       "<Figure size 800x600 with 1 Axes>"
      ]
     },
     "metadata": {},
     "output_type": "display_data"
    }
   ],
   "source": [
    "# I'm going to plot the count for each book genre.\n",
    "\n",
    "# Set the figsize parameter to control the size of the figure\n",
    "plt.figure(figsize=(8, 6))\n",
    "\n",
    "six_count.plot(kind='bar', color=['blue', 'green', 'red', 'purple', 'orange', 'yellow'])\n",
    "plt.xlabel('Genre')\n",
    "plt.ylabel('Count')\n",
    "plt.title('Count of Book Genres')\n",
    "plt.xticks(rotation=45) \n",
    "plt.show()"
   ]
  },
  {
   "cell_type": "code",
   "execution_count": 35,
   "id": "156d9048",
   "metadata": {},
   "outputs": [
    {
     "data": {
      "text/plain": [
       "(10335, 4)"
      ]
     },
     "execution_count": 35,
     "metadata": {},
     "output_type": "execute_result"
    }
   ],
   "source": [
    "six_genres.shape"
   ]
  },
  {
   "cell_type": "code",
   "execution_count": 36,
   "id": "6b6db33e",
   "metadata": {},
   "outputs": [
    {
     "data": {
      "text/html": [
       "<div>\n",
       "<style scoped>\n",
       "    .dataframe tbody tr th:only-of-type {\n",
       "        vertical-align: middle;\n",
       "    }\n",
       "\n",
       "    .dataframe tbody tr th {\n",
       "        vertical-align: top;\n",
       "    }\n",
       "\n",
       "    .dataframe thead th {\n",
       "        text-align: right;\n",
       "    }\n",
       "</style>\n",
       "<table border=\"1\" class=\"dataframe\">\n",
       "  <thead>\n",
       "    <tr style=\"text-align: right;\">\n",
       "      <th></th>\n",
       "      <th>title</th>\n",
       "      <th>genre</th>\n",
       "      <th>summary</th>\n",
       "      <th>standard_genre</th>\n",
       "    </tr>\n",
       "  </thead>\n",
       "  <tbody>\n",
       "    <tr>\n",
       "      <th>6890</th>\n",
       "      <td>The First Casualty</td>\n",
       "      <td>{\"/m/0lsxr\": \"Crime Fiction\", \"/m/014dfn\": \"Sp...</td>\n",
       "      <td>In June 1917, whilst recovering from shell sh...</td>\n",
       "      <td>thriller</td>\n",
       "    </tr>\n",
       "    <tr>\n",
       "      <th>5222</th>\n",
       "      <td>The Smell of Apples</td>\n",
       "      <td>{\"/m/02xlf\": \"Fiction\", \"/m/05hgj\": \"Novel\"}</td>\n",
       "      <td>Marnus Erasmus is an eleven-year-old boy who ...</td>\n",
       "      <td>literary fiction</td>\n",
       "    </tr>\n",
       "  </tbody>\n",
       "</table>\n",
       "</div>"
      ],
      "text/plain": [
       "                    title                                              genre  \\\n",
       "6890   The First Casualty  {\"/m/0lsxr\": \"Crime Fiction\", \"/m/014dfn\": \"Sp...   \n",
       "5222  The Smell of Apples       {\"/m/02xlf\": \"Fiction\", \"/m/05hgj\": \"Novel\"}   \n",
       "\n",
       "                                                summary    standard_genre  \n",
       "6890   In June 1917, whilst recovering from shell sh...          thriller  \n",
       "5222   Marnus Erasmus is an eleven-year-old boy who ...  literary fiction  "
      ]
     },
     "execution_count": 36,
     "metadata": {},
     "output_type": "execute_result"
    }
   ],
   "source": [
    "six_genres.sample(2)"
   ]
  },
  {
   "cell_type": "code",
   "execution_count": 37,
   "id": "45681368",
   "metadata": {},
   "outputs": [],
   "source": [
    "six = six_genres.drop(columns='genre')"
   ]
  },
  {
   "cell_type": "code",
   "execution_count": 38,
   "id": "f3190e35",
   "metadata": {},
   "outputs": [
    {
     "data": {
      "text/html": [
       "<div>\n",
       "<style scoped>\n",
       "    .dataframe tbody tr th:only-of-type {\n",
       "        vertical-align: middle;\n",
       "    }\n",
       "\n",
       "    .dataframe tbody tr th {\n",
       "        vertical-align: top;\n",
       "    }\n",
       "\n",
       "    .dataframe thead th {\n",
       "        text-align: right;\n",
       "    }\n",
       "</style>\n",
       "<table border=\"1\" class=\"dataframe\">\n",
       "  <thead>\n",
       "    <tr style=\"text-align: right;\">\n",
       "      <th></th>\n",
       "      <th>title</th>\n",
       "      <th>summary</th>\n",
       "      <th>standard_genre</th>\n",
       "    </tr>\n",
       "  </thead>\n",
       "  <tbody>\n",
       "    <tr>\n",
       "      <th>8586</th>\n",
       "      <td>Blaze</td>\n",
       "      <td>* The story concerns Clayton Blaisdell, Jr. (...</td>\n",
       "      <td>horror</td>\n",
       "    </tr>\n",
       "    <tr>\n",
       "      <th>8874</th>\n",
       "      <td>Down There on a Visit</td>\n",
       "      <td>Throughout the novel Isherwood is a character...</td>\n",
       "      <td>literary fiction</td>\n",
       "    </tr>\n",
       "    <tr>\n",
       "      <th>2580</th>\n",
       "      <td>Repent, Harlequin! Said the Ticktockman</td>\n",
       "      <td>The story opens with a passage from Civil Dis...</td>\n",
       "      <td>literary fiction</td>\n",
       "    </tr>\n",
       "    <tr>\n",
       "      <th>5071</th>\n",
       "      <td>Mister Monday</td>\n",
       "      <td>On Earth, a boy named Arthur Penhaligon is at...</td>\n",
       "      <td>fantasy</td>\n",
       "    </tr>\n",
       "  </tbody>\n",
       "</table>\n",
       "</div>"
      ],
      "text/plain": [
       "                                        title  \\\n",
       "8586                                    Blaze   \n",
       "8874                    Down There on a Visit   \n",
       "2580  Repent, Harlequin! Said the Ticktockman   \n",
       "5071                            Mister Monday   \n",
       "\n",
       "                                                summary    standard_genre  \n",
       "8586   * The story concerns Clayton Blaisdell, Jr. (...            horror  \n",
       "8874   Throughout the novel Isherwood is a character...  literary fiction  \n",
       "2580   The story opens with a passage from Civil Dis...  literary fiction  \n",
       "5071   On Earth, a boy named Arthur Penhaligon is at...           fantasy  "
      ]
     },
     "execution_count": 38,
     "metadata": {},
     "output_type": "execute_result"
    }
   ],
   "source": [
    "six.sample(4)"
   ]
  },
  {
   "cell_type": "code",
   "execution_count": 39,
   "id": "5e2a73c5",
   "metadata": {},
   "outputs": [
    {
     "data": {
      "text/html": [
       "<div>\n",
       "<style scoped>\n",
       "    .dataframe tbody tr th:only-of-type {\n",
       "        vertical-align: middle;\n",
       "    }\n",
       "\n",
       "    .dataframe tbody tr th {\n",
       "        vertical-align: top;\n",
       "    }\n",
       "\n",
       "    .dataframe thead th {\n",
       "        text-align: right;\n",
       "    }\n",
       "</style>\n",
       "<table border=\"1\" class=\"dataframe\">\n",
       "  <thead>\n",
       "    <tr style=\"text-align: right;\">\n",
       "      <th></th>\n",
       "      <th>title</th>\n",
       "      <th>summary</th>\n",
       "      <th>genre</th>\n",
       "    </tr>\n",
       "  </thead>\n",
       "  <tbody>\n",
       "    <tr>\n",
       "      <th>1</th>\n",
       "      <td>A Clockwork Orange</td>\n",
       "      <td>Alex, a teenager living in near-future Englan...</td>\n",
       "      <td>science fiction</td>\n",
       "    </tr>\n",
       "    <tr>\n",
       "      <th>2</th>\n",
       "      <td>The Plague</td>\n",
       "      <td>The text of The Plague is divided into five p...</td>\n",
       "      <td>literary fiction</td>\n",
       "    </tr>\n",
       "  </tbody>\n",
       "</table>\n",
       "</div>"
      ],
      "text/plain": [
       "                title                                            summary  \\\n",
       "1  A Clockwork Orange   Alex, a teenager living in near-future Englan...   \n",
       "2          The Plague   The text of The Plague is divided into five p...   \n",
       "\n",
       "              genre  \n",
       "1   science fiction  \n",
       "2  literary fiction  "
      ]
     },
     "execution_count": 39,
     "metadata": {},
     "output_type": "execute_result"
    }
   ],
   "source": [
    "six.rename(columns={'standard_genre': 'genre'}, inplace=True)\n",
    "six.head(2)"
   ]
  },
  {
   "cell_type": "markdown",
   "id": "75336058",
   "metadata": {},
   "source": [
    "#### 5.2. I import a new dataset to increase my book genre samples."
   ]
  },
  {
   "cell_type": "code",
   "execution_count": 40,
   "id": "a543cfff",
   "metadata": {},
   "outputs": [
    {
     "data": {
      "text/html": [
       "<div>\n",
       "<style scoped>\n",
       "    .dataframe tbody tr th:only-of-type {\n",
       "        vertical-align: middle;\n",
       "    }\n",
       "\n",
       "    .dataframe tbody tr th {\n",
       "        vertical-align: top;\n",
       "    }\n",
       "\n",
       "    .dataframe thead th {\n",
       "        text-align: right;\n",
       "    }\n",
       "</style>\n",
       "<table border=\"1\" class=\"dataframe\">\n",
       "  <thead>\n",
       "    <tr style=\"text-align: right;\">\n",
       "      <th></th>\n",
       "      <th>index</th>\n",
       "      <th>title</th>\n",
       "      <th>genre</th>\n",
       "      <th>summary</th>\n",
       "    </tr>\n",
       "  </thead>\n",
       "  <tbody>\n",
       "    <tr>\n",
       "      <th>0</th>\n",
       "      <td>0</td>\n",
       "      <td>Drowned Wednesday</td>\n",
       "      <td>fantasy</td>\n",
       "      <td>Drowned Wednesday is the first Trustee among ...</td>\n",
       "    </tr>\n",
       "    <tr>\n",
       "      <th>1</th>\n",
       "      <td>1</td>\n",
       "      <td>The Lost Hero</td>\n",
       "      <td>fantasy</td>\n",
       "      <td>As the book opens, Jason awakens on a school ...</td>\n",
       "    </tr>\n",
       "    <tr>\n",
       "      <th>2</th>\n",
       "      <td>2</td>\n",
       "      <td>The Eyes of the Overworld</td>\n",
       "      <td>fantasy</td>\n",
       "      <td>Cugel is easily persuaded by the merchant Fia...</td>\n",
       "    </tr>\n",
       "    <tr>\n",
       "      <th>3</th>\n",
       "      <td>3</td>\n",
       "      <td>Magic's Promise</td>\n",
       "      <td>fantasy</td>\n",
       "      <td>The book opens with Herald-Mage Vanyel return...</td>\n",
       "    </tr>\n",
       "    <tr>\n",
       "      <th>4</th>\n",
       "      <td>4</td>\n",
       "      <td>Taran Wanderer</td>\n",
       "      <td>fantasy</td>\n",
       "      <td>Taran and Gurgi have returned to Caer Dallben...</td>\n",
       "    </tr>\n",
       "  </tbody>\n",
       "</table>\n",
       "</div>"
      ],
      "text/plain": [
       "   index                      title    genre  \\\n",
       "0      0          Drowned Wednesday  fantasy   \n",
       "1      1              The Lost Hero  fantasy   \n",
       "2      2  The Eyes of the Overworld  fantasy   \n",
       "3      3            Magic's Promise  fantasy   \n",
       "4      4             Taran Wanderer  fantasy   \n",
       "\n",
       "                                             summary  \n",
       "0   Drowned Wednesday is the first Trustee among ...  \n",
       "1   As the book opens, Jason awakens on a school ...  \n",
       "2   Cugel is easily persuaded by the merchant Fia...  \n",
       "3   The book opens with Herald-Mage Vanyel return...  \n",
       "4   Taran and Gurgi have returned to Caer Dallben...  "
      ]
     },
     "execution_count": 40,
     "metadata": {},
     "output_type": "execute_result"
    }
   ],
   "source": [
    "books = pd.read_csv(\"/Users/usuari/Desktop/Ironhack/BOOTCAMP/projects/final_project/data/more_books.csv\")\n",
    "books.head(5)"
   ]
  },
  {
   "cell_type": "code",
   "execution_count": 41,
   "id": "2b70f864",
   "metadata": {},
   "outputs": [
    {
     "data": {
      "text/plain": [
       "genre\n",
       "thriller      1023\n",
       "fantasy        876\n",
       "science        647\n",
       "history        600\n",
       "horror         600\n",
       "crime          500\n",
       "romance        111\n",
       "psychology     100\n",
       "sports         100\n",
       "travel         100\n",
       "Name: count, dtype: int64"
      ]
     },
     "execution_count": 41,
     "metadata": {},
     "output_type": "execute_result"
    }
   ],
   "source": [
    "books.genre.value_counts()"
   ]
  },
  {
   "cell_type": "code",
   "execution_count": 42,
   "id": "c652c7ae",
   "metadata": {},
   "outputs": [
    {
     "data": {
      "text/plain": [
       "(4657, 3)"
      ]
     },
     "execution_count": 42,
     "metadata": {},
     "output_type": "execute_result"
    }
   ],
   "source": [
    "books = books.drop(columns='index')\n",
    "books.shape"
   ]
  },
  {
   "cell_type": "code",
   "execution_count": 43,
   "id": "9e6a4a3d",
   "metadata": {},
   "outputs": [
    {
     "data": {
      "text/html": [
       "<div>\n",
       "<style scoped>\n",
       "    .dataframe tbody tr th:only-of-type {\n",
       "        vertical-align: middle;\n",
       "    }\n",
       "\n",
       "    .dataframe tbody tr th {\n",
       "        vertical-align: top;\n",
       "    }\n",
       "\n",
       "    .dataframe thead th {\n",
       "        text-align: right;\n",
       "    }\n",
       "</style>\n",
       "<table border=\"1\" class=\"dataframe\">\n",
       "  <thead>\n",
       "    <tr style=\"text-align: right;\">\n",
       "      <th></th>\n",
       "      <th>title</th>\n",
       "      <th>genre</th>\n",
       "      <th>summary</th>\n",
       "    </tr>\n",
       "  </thead>\n",
       "  <tbody>\n",
       "    <tr>\n",
       "      <th>1500</th>\n",
       "      <td>Smuggler's Moon</td>\n",
       "      <td>history</td>\n",
       "      <td>Sir John and Jeremy are sent to East Anglia t...</td>\n",
       "    </tr>\n",
       "    <tr>\n",
       "      <th>1501</th>\n",
       "      <td>An Experiment In Treason</td>\n",
       "      <td>history</td>\n",
       "      <td>A pack of confidential letters is stolen from...</td>\n",
       "    </tr>\n",
       "    <tr>\n",
       "      <th>1502</th>\n",
       "      <td>War and Peace</td>\n",
       "      <td>history</td>\n",
       "      <td>War and Peace has a large cast of characters,...</td>\n",
       "    </tr>\n",
       "    <tr>\n",
       "      <th>1503</th>\n",
       "      <td>The First Sir Percy</td>\n",
       "      <td>history</td>\n",
       "      <td>March 1624 and a lot has happened since the p...</td>\n",
       "    </tr>\n",
       "  </tbody>\n",
       "</table>\n",
       "</div>"
      ],
      "text/plain": [
       "                         title    genre  \\\n",
       "1500           Smuggler's Moon  history   \n",
       "1501  An Experiment In Treason  history   \n",
       "1502             War and Peace  history   \n",
       "1503       The First Sir Percy  history   \n",
       "\n",
       "                                                summary  \n",
       "1500   Sir John and Jeremy are sent to East Anglia t...  \n",
       "1501   A pack of confidential letters is stolen from...  \n",
       "1502   War and Peace has a large cast of characters,...  \n",
       "1503   March 1624 and a lot has happened since the p...  "
      ]
     },
     "execution_count": 43,
     "metadata": {},
     "output_type": "execute_result"
    }
   ],
   "source": [
    "# I want to check if in this new dataset, the books classified as 'history' are essays or historical novels.\n",
    "\n",
    "hist = books[books['genre'] == 'history']\n",
    "hist.head(4)"
   ]
  },
  {
   "cell_type": "code",
   "execution_count": 44,
   "id": "316c3125",
   "metadata": {},
   "outputs": [
    {
     "data": {
      "text/plain": [
       "[\" From Dahomey to the slave state of Mississippi, Flashman has cause to regret a game of pontoon with Benjamin Disraeli and Lord George Bentinck. From his ambition for a seat in the House of Commons, he has to settle instead for a role in the West African slave trade, under the command of Captain John Charity Spring, a Latin-spouting madman. Captured by the United States Navy, Flashman has to talk his way out of prison by assuming the first of his many false identities in America. After a visit to Washington D.C. and an unsettling meeting with Abraham Lincoln (still a junior congressman at the time), he escapes his Navy protectors in New Orleans and holes up at a whorehouse run by an amorous madame, Susie Willinck. He is again taken into custody, this time by members of the Underground Railroad. Traveling up the Mississippi River with a fugitive slave ends badly once again, and the rest of the story has Flashman as a slave driver on a plantation, a potential slave himself, and a slave stealer fleeing from vigilantes. Eventually he ends up back in New Orleans at the mercy of Spring. This story is continued in Flashman and the Redskins. At the end of the novel, the editor (Fraser) claims that the escape of Cassy and Flashman across the Ohio River was the inspiration for the anti-slavery novel, Uncle Tom's Cabin, with the names altered and the story focusing on the slave Cassy rather than Flashman. This is similar to a claim made by Flashman that his experiences in Royal Flash were the basis for The Prisoner of Zenda.\",\n",
       " ' In the year of 1204, Baudolino of Alessandria enters Constantinople, unaware of the Fourth Crusade that has thrown the city into chaos. In the confusion, he meets Niketas Choniates and saves his life. Niketas is amazed by his language genius, speaking many languages he has never heard, and on the question: if he is not part of the crusade, who is he? Baudolino begins to recount his life story to Niketas. His story begins in 1155, when Baudolino is sold to and adopted by the emperor Frederick I. At court and on the battlefield, he is educated in reading and writing Latin and learns about the power struggles and battles of northern Italy at the time. He is sent to Paris to become a scholar. In Paris, he gains friends (such as the Archpoet, Abdul, Robert de Boron and Kyot, the purported source of Wolfram von Eschenbach\\'s Parzival) and learns about the legendary kingdom of Prester John. From this event onward, Baudolino dreams of reaching this fabled land. After the death of Frederick, Baudolino and his friends set off on a long journey, encompassing 15 years, to find the Kingdom of Prester John. Baudolino meets eunuchs, unicorns, Blemmyes, skiapods and pygmies. At one point, he falls in love with a female satyr-like creature who recounts to him the full Gnostic creation myth; Gnosticism is a pervasive presence in another of Eco\\'s novels, Foucault\\'s Pendulum. Philosophical debates are mixed with comedy, epic adventure and creatures drawn from the strangest medieval bestiaries. {| class=\"wikitable\" align=\"right\" width=\"250\" | | |- | | |- | colspan=\"2\" | Various strange characters figuring in the novel as rendered in the Nuremberg Chronicles. These creatures and many others were all described and named by Pliny the Elder in his Naturalis Historiæ from 77 AD: A monopod and a satyr (top); a blemmyae and a panotti (above). |} ;Invented by Eco *Baudolino — young man of Alessandria, protagonist, apparently a reference to the patron saint. *The monopod Gavagai, a reference to Quine\\'s example of indeterminacy of translation. *The putative successors of Hypatia of Alexandria *Deacon John, leprous sub-ruler of Pndapetzim ;Other fictional or legendary beings *Kyot *Gagliaudo Aulari, legendary saviour of Alessandria, and his wife, who are Baudolino\\'s biological parents *Prester John *Satyrs *Blemmyes *Panotti ;Historical *Frederick Barbarossa *Niketas Choniates *Robert de Boron *Rainald of Dassel *The Old Man of the Mountain *Pope Alexander III *Beatrice I, Countess of Burgundy *The Archpoet (unknown except through his poetry) *Otto of Freising *A member of the ancient Artsruni noble clan *Andronicus I Comnenus *Stephen Hagiochristophorites *The Venerable Bede',\n",
       " 'A grand mystery reaching back centuries. A sensational disappearance that made headlines around the world. A quest for truth that leads to death, madness or disappearance for those who seek to solve it. The Lost City of Z is a blockbuster adventure narrative about what lies beneath the impenetrable jungle canopy of the Amazon.\\n\\nAfter stumbling upon a hidden trove of diaries, New Yorker writer David Grann set out to solve \"the greatest exploration mystery of the 20th century\": What happened to the British explorer Percy Fawcett & his quest for the Lost City of Z?\\n\\nIn 1925, Fawcett ventured into the Amazon to find an ancient civilization, hoping to make one of the most important discoveries in history. For centuries Europeans believed the world\\'s largest jungle concealed the glittering kingdom of El Dorado. Thousands had died looking for it, leaving many scientists convinced that the Amazon was truly inimical to humans. But Fawcett, whose daring expeditions inspired Conan Doyle\\'s The Lost World, had spent years building his scientific case. Captivating the imagination of millions round the globe, Fawcett embarked with his 21-year-old son, determined to prove that this ancient civilisation--which he dubbed Z--existed. Then his expedition vanished. Fawcett\\'s fate, & the tantalizing clues he left behind about Z, became an obsession for hundreds who followed him into the uncharted wilderness.\\n\\nFor decades scientists & adventurers have searched for evidence of Fawcett\\'s party & the lost City of Z. Countless have perished, been captured by tribes or gone mad. As Grann delved ever deeper into the mystery surrounding Fawcett\\'s quest, & the greater mystery of what lies within the Amazon, he found himself, like the generations who preceded him, being irresistibly drawn into the jungle\\'s green hell. His quest for the truth & discoveries about Fawcett\\'s fate & Z form the heart of this complexly enthralling narrative.',\n",
       " \" The story begins on June 17, 1775, at the Battle of Bunker Hill, in which Philip Kent participates. One major event, the marriage of Philip and Anne Ware, took place in the interim. In September of that year Anne gave birth to her first child, whom they named Abraham after her father. Philip then participated in Henry Knox’ mission to transport cannons from Fort Ticonderoga. Meanwhile, Judson Fletcher, a drunkard and a womanizer still pursued Peggy Ashford McLean, the wife of his friend Seth McLean, whom he had courted before her marriage. Judson lived with his father on Sermon Hill, a large tobacco plantation on the Rappahannock River in northern Virginia. During a great rebellion of slaves Peggy was raped, Seth killed; his father opposed to Judson's defense of black slaves (and his accusation of white violence that caused it) and his way of life, and put his son out of house. Judson’s brother, Donald, was a Virginia delegate to the Second Continental Congress, but he suffered from gout and was unable to fulfill his duty, so designated Judson to act in his stead. While attending Congress in Philadelphia Judson began an affair with Alicia Parkhurst, who now called herself Alice, a former lover of Philip Kent’s. When Tobias Trumball, Alicia’s uncle, found her, he tried to take her home, which Judson prevented, after which Trumball challenged Judson to a duel and scheduled it for July 3, 1776. The day before the duel, during a debate on the Lee Resolution, Judson was dismissed from the Virginia delegation for drunkenness and therefore missed his chance to vote on the resolution. The next day, he killed Trumball in the duel and shortly afterwards, Alicia committed suicide by drowning. While Philip was camped with George Washington’s army in August 1777, he was reunited with his old friend from France, Gil, the Marquis de Lafayette. They participated in the devastating Battle of Brandywine, which left Philadelphia, then the American capital, to be captured by the British. After his expulsion from the Virginia delegation, Judson returned home, but could not move back to Sermon Hill with his father; instead, he lived with Lottie Shaw at a place once owned by her late husband. One day, in a drunken rage, he expelled her from her own property. Soon after, he visited Peggy McLean, by then a widow, and raped her; unbeknownst to him, this encounter would produce a daughter, Elizabeth. Later, when his brother told him that George Rogers Clark had returned to Virginia, Judson rode to meet him. Clark had been a childhood friend and was now recruiting men for a military expedition to the Northwest Territory. Judson enlisted with him, but when he returned home he was met by a disgruntled Lottie, who shot him and left him for dead. Though Judson, because of his wounds, missed his rendezvous, once he recovered he set off for Pittsburgh in hopes of meeting Clark. When he was reunited with Clark, Clark refused to include him in his detachment, due again to drunkenness. On returning to his boat, Clark caught a spy in the act of stealing his orders. After a scuffle the spy shot at Clark, but Judson absorbed the ball and was killed. Meanwhile, Anne Kent had taken the money she had inherited from her father, who had recently died, and invested it with privateers who were aiding the Americans on the high seas. During the time that Philip was away with the army, one of the privateers with whom Anne had invested her money, Malachi Rackham, made overtures towards her, which she rejected. In 1778, he abducted her and took her aboard his ship. After he repeatedly beat and raped her, she fought for her freedom, but in the ensuing struggle both Anne and Rackham were thrown overboard. Philip participated in the Battle of Monmouth and was wounded in the leg, after which he was mustered out of the army. He was informed of Anne’s disappearance in a letter from a member of the privateer in which Anne had invested. As the privateer had captured a British vessel, the investment provided Philip with the money he utilised to begin a publishing firm, Kent and Son. Almost a year later, Gil introduced Philip to Peggy McLean, who would become his second wife.\",\n",
       " ' The book is set in Barcelona and its main character is Arnau Estanyol, the son of a fugitive serf who obtains freedom and eventually achieves a high status.',\n",
       " 'James A. Garfield was one of the most extraordinary men ever elected president. Born into abject poverty, he rose to become a wunderkind scholar, a Civil War hero, and a renowned and admired reformist congressman. Nominated for president against his will, he engaged in a fierce battle with the corrupt political establishment. But four months after his inauguration, a deranged office seeker tracked Garfield down and shot him in the back.\\n\\nBut the shot didn’t kill Garfield. The drama of what hap\\xadpened subsequently is a powerful story of a nation in tur\\xadmoil. The unhinged assassin’s half-delivered strike shattered the fragile national mood of a country so recently fractured by civil war, and left the wounded president as the object of a bitter behind-the-scenes struggle for power—over his administration, over the nation’s future, and, hauntingly, over his medical care. A team of physicians administered shockingly archaic treatments, to disastrous effect. As his con\\xaddition worsened, Garfield received help: Alexander Graham Bell, the inventor of the telephone, worked around the clock to invent a new device capable of finding the bullet.\\n\\nMeticulously researched, epic in scope, and pulsating with an intimate human focus and high-velocity narrative drive, The Destiny of the Republic will stand alongside The Devil in the White City and The Professor and the Madman as a classic of narrative history.',\n",
       " \" Sir Geoffrey Peveril and Major Bridgenorth had been boys together; and although they adopted different views in religion and politics, the major's influence had saved the Royalist's life after the battle of Bolton-le-Moor, and Lady Peveril had brought up his motherless girl, Alice, with her own son. After the Restoration, the Countess of Derby, who, through treachery, had suffered a long imprisonment by the Roundheads, sought protection at Martindale Castle, where Bridgenorth would have arrested her for having caused his brother-in-law, William Christian, to be shot as a traitor, had not the knight interfered by tearing up the warrant, and escorting her through Cheshire on her return to the Isle of Man. Alice was of course withdrawn from his wife's care, and it was supposed the major had emigrated to New England. Several years afterwards Sir Geoffrey's son Julian became the companion of the young earl, and, with the nurse Deborah's connivance, renewed his intimacy with his foster sister, who was under the care of her widowed aunt, Dame Christian. At one of the secret interviews between them, they were surprised by the entrance of her father, who related some of his religious experiences, and vaguely hinted that his consent to their marriage was not impossible. The next night, having undertaken to proceed to London, to clear the countess and her son from the suspicion of being concerned in Titus Oates's pretended Popish plot, Julian was conducted to a sloop by Fenella, his patron's deaf and dumb dwarf, and, as she was being taken ashore against her will while he was asleep, he dreamt that he heard Alice's voice calling for his help. At Liverpool he met Topham with a warrant against Sir Geoffrey, and on his way to the Peak to warn him, he travelled with Edward Christian, passing as Ganlesse, a priest, who led him to an inn, where they supped with Chiffinch, a servant of Charles II. On reaching Martindale Castle, he found his father and mother in the custody of Roundheads, and he was taken by Bridgenorth as a prisoner to Moultrassie Hall, where Alice received them, and he recognised Ganlesse among a number of Puritan visitors. During the night the Hall was attacked by the dependents and miners of the Peveril estate, and, having regained his liberty, Julian started, with Lance as his servant, in search of his parents, who he ascertained were on their way to London in charge of Topham. At an inn where they halted, Julian overheard Chiffinch revealing to a courtier a plot against Alice, and that he had been robbed of the papers entrusted to him by the countess, which, however, he managed to recover the next morning. Meanwhile, Christian, under whose care Bridgenorth had placed his daughter, communicated to the Duke of Buckingham a design he had formed of introducing her to Charles II, and, at an interview with her father, endeavoured to persuade him to abandon the idea of marrying her to young Peveril. Having reached London, Julian met Fenella, who led him into St. James's Park, where she attracted the notice of the king by dancing, and he sent them both to await his return at Chiffinch's apartments. Alice was already under the care of Mistress Chiffinch, and escaped from an interview with the duke to find herself in the presence of Charles and her lover, with whom, after he had placed the countess's papers in the king's hands, she was allowed to depart. Julian, however, lost her in a street fray, and having been committed to Newgate for wounding his assailant, he was placed in the same cell with the queen's dwarf, and conversed with an invisible speaker. After startling Christian with the news that his niece had disappeared, the duke bribed Colonel Blood to intercept his movements, so that he might not discover where she was, and was then himself astonished at finding Fenella instead of Alice, who had been captured by his servants in his house, and at her equally unexpected defiance of and escape from him. A few days afterwards, Sir Geoffrey Peveril, his son and the dwarf were tried for aiding and abetting Oates's Plot, and were all acquitted. In order, however, to avoid the mob, they took refuge in a room, where they encountered Bridgenorth, who convinced Julian that they were in his power, and allowed Christian to propose to the Duke of Buckingham that several hundred Fifth-Monarchy men, led by Colonel Blood, should seize the king, and proclaim his Grace Lord-Lieutenant of the kingdom. The same afternoon Charles had just granted an audience to the Countess of Derby, when the dwarf emerged from a violoncello case and revealed the conspiracy which Fenella had enabled him to overhear. It then transpired that Bridgenorth had released the Peverils, and that Christian had trained his daughter Fenella, whose real name was Zarah, to feign being deaf and dumb, in order that she might act as his spy; but that her secret love for Julian had frustrated the execution of his vengeance against the countess. He was allowed to leave the country, and the major, who. on recovering Alice by Fenella's aid, had placed her under Lady Peveril's care, having offered to restore some of Sir Geoffrey's domains which had passed into his hands as her dowry, the king's recommendation secured the old knight's consent to the marriage which within a few weeks united the Martindale-Moultrassie families and estates.\",\n",
       " \" The novel concerns the adventures of Eudoxus of Cyzicus and Hippalus on the first voyages by sea from Egypt to India. Following these, it deals with Eudoxus' efforts to circumvent the newly established Egyptian monopoly on trade with India by pioneering a new route around the west coast of Africa, which are ultimately defeated by misadventure and the sheer extent of the continent.\",\n",
       " \"Born in the town of Sighet, Transylvania, Elie Wiesel was a teenager when he and his family were taken from their home in 1944 to Auschwitz concentration camp, and then to Buchenwald. Night is the terrifying record of Elie Wiesel's memories of the death of his family, the death of his own innocence, and his despair as a deeply observant Jew confronting the absolute evil of man. This new translation by his wife and most frequent translator, Marion Wiesel, corrects important details and presents the most accurate rendering in English of Elie Wiesel's testimony to what happened in the camps and of his unforgettable message that this horror must simply never be allowed to happen again.\",\n",
       " \" Exiled from Rome by the new Dictator, Sulla, Gaius Julius Caesar is serving with a naval legion. After playing a crucial part in liberating a Roman fort in Mytilene under the command of rebels, Julius receives the honour wreath and increases his standing among his men yet further. Despite this success, his war galley is attacked and captured by pirates, with Julius himself receiving a serious head injury. His household fares no better with its head serving at sea: Cornelia, Julius' wife is assaulted by Sulla despite being heavily pregnant. Julius and Cornelia's daughter is born and named Julia in honour of her father. Marcus Brutus meanwhile has finished his term with a legion in Macedon and is causing trouble with the locals on his return journey to Rome. He and Renius manage to meet jealous husbands and vindictive fathers before returning to the city. In the city itself, Julius' estate manager Tubruk swears revenge on Sulla and schemes to sell himself back into slavery in order to enter Sulla's household. Tubruk then successfully poisons Sulla before managing to escape the city before he can be traced. Antonidus, Sulla's right-hand, promises to track down Sulla's killer and tears Rome apart in his search. As Julius and the survivors of his galley gradually recover while detained on the pirates' ship, their captors demand a ransom. While the men attempt to negotiate lower ransom prices, Julius demands a much high price than the one proposed, defying the pirates and declaring that he will re-claim whatever is paid anyway. Eventually the survivors are left on the north African coast when the ransoms are paid. After returning to Rome and the estate where he and Julius grew up, Brutus asks Tubruk for the whereabouts of his mother, Servilia. After visiting her home, he gradually comes to know the woman who abandoned him as a child, as well as forming a reluctant acceptance of her life. In delight of her new-found relationship with her son, Servilia uses her influence with Crassus, one of the richest men in the Senate, to re-form the legion of Marius (Primigenia) under Brutus' command. Antonidus believes he has narrowed down the list of culprits for Sulla's murder to three: Cinna, father of Cornelia; Crassus; or Pompey, a renowned general and rising star in the Senate. With the backing of Cato, one of the most powerful men in the Senate, Antonidus hires an assassin to kill a loved one of each of the three. Pompey is the first to suffer Antonidus' misplaced vengeance, with his daughter murdered in Pompey's garden. Marching across north Africa, Julius calls for volunteers and, where necessary, presses young men into service to assist in the finding and destruction of the pirates. Risking the wrath of the Roman authorities with Ciro, one of Julius' recruits, accidentally killing a soldier and then Julius and his men stealing a ship, the small force sets out to find the survivors and recover their ransom money. Eventually the pirates are found and destroyed, with a huge hoard found on the pirate's ship, and Julius resolves to land in Greece and return to Rome. Upon landing in Greece, Julius discovers several Roman forts lying destroyed with their inhabitants killed, and learns not only of the return of Mithridates, but also of the death of Sulla. While Cato and the supporters of Sulla delay the Senate's decision to appoint a leader to confront Mithridates, Julius decides to confront Mithridates himself, and recruits many surviving veterans to fight alongside him, calling them the Wolves of Rome. Conducting several major hit-and-run attacks on Mithridates' forces, the Wolves eventually defeat the forces of Mithridates before the forces sent by the Senate even arrive in Greece. After delivering Mithridates' body to the approaching legions, Julius leads the Wolves to Rome and finally returned home. While home at his estate Julius meets his daughter Julia for the first time and learns of Sulla's assault on his wife. In his fury he comes close to killing Tubruk, one of his oldest friends, before learning Tubruk was Sulla's killer. Swearing revenge on Sulla's associates and followers, Julius publicly allies himself with Crassus and Pompey, who publicly denounces Cato as responsible for his daughters death. Tension also flares briefly between Julius and Brutus when Julius demands Brutus hand over Primigenia to him, until Brutus acquiesces and puts his friendship above his pride. Julius' marriage also suffers, with Cornelia feeling increasingly ignored by Julius. When Cato's son is forcibly signed up to Primigenia and is forbidden to withdraw from his service, Julius gathers another opponent. Crisis strikes Rome again when a gladiator known as Spartacus leads a slave revolt and destroys two legions in the north. Infighting in the Senate leads to indecision as to who will lead the legions north leads to Crassus being given command, despite his perceived lack of skill as a general. Knowing this, Crassus makes Pompey his second in command and Pompey responds by summoning Julius and Primigenia. Primigenia marches north and performs admirably, though it is forcibly merged with another legion. Julius remains in command of the newly formed legion, and names it the Tenth. Tragedy strikes Julius before he can see the end of the campaign. Cornelia is murdered on Cato's orders, with Tubruk dying trying to protect her. Julius returns to his estate with Pompey and Brutus, and Pompey discovers Cato's involvement in the murders of Cornelia and his daughter. Cato however commits suicide before he can be executed. A grief-stricken Julius returns to his troops in time to see Spartacus and the slave revolt crushed. Pompey however begins to see Julius as a threat and arranges for him to take up a position in Spain.\"]"
      ]
     },
     "execution_count": 44,
     "metadata": {},
     "output_type": "execute_result"
    }
   ],
   "source": [
    "# I can see that they are historical novels. \n",
    "\n",
    "list(set(hist.summary))[:10]"
   ]
  },
  {
   "cell_type": "code",
   "execution_count": 45,
   "id": "bed40292",
   "metadata": {},
   "outputs": [
    {
     "data": {
      "text/html": [
       "<div>\n",
       "<style scoped>\n",
       "    .dataframe tbody tr th:only-of-type {\n",
       "        vertical-align: middle;\n",
       "    }\n",
       "\n",
       "    .dataframe tbody tr th {\n",
       "        vertical-align: top;\n",
       "    }\n",
       "\n",
       "    .dataframe thead th {\n",
       "        text-align: right;\n",
       "    }\n",
       "</style>\n",
       "<table border=\"1\" class=\"dataframe\">\n",
       "  <thead>\n",
       "    <tr style=\"text-align: right;\">\n",
       "      <th></th>\n",
       "      <th>title</th>\n",
       "      <th>genre</th>\n",
       "      <th>summary</th>\n",
       "    </tr>\n",
       "  </thead>\n",
       "  <tbody>\n",
       "    <tr>\n",
       "      <th>0</th>\n",
       "      <td>Drowned Wednesday</td>\n",
       "      <td>fantasy</td>\n",
       "      <td>Drowned Wednesday is the first Trustee among ...</td>\n",
       "    </tr>\n",
       "    <tr>\n",
       "      <th>1</th>\n",
       "      <td>The Lost Hero</td>\n",
       "      <td>fantasy</td>\n",
       "      <td>As the book opens, Jason awakens on a school ...</td>\n",
       "    </tr>\n",
       "    <tr>\n",
       "      <th>2</th>\n",
       "      <td>The Eyes of the Overworld</td>\n",
       "      <td>fantasy</td>\n",
       "      <td>Cugel is easily persuaded by the merchant Fia...</td>\n",
       "    </tr>\n",
       "    <tr>\n",
       "      <th>3</th>\n",
       "      <td>Magic's Promise</td>\n",
       "      <td>fantasy</td>\n",
       "      <td>The book opens with Herald-Mage Vanyel return...</td>\n",
       "    </tr>\n",
       "    <tr>\n",
       "      <th>4</th>\n",
       "      <td>Taran Wanderer</td>\n",
       "      <td>fantasy</td>\n",
       "      <td>Taran and Gurgi have returned to Caer Dallben...</td>\n",
       "    </tr>\n",
       "  </tbody>\n",
       "</table>\n",
       "</div>"
      ],
      "text/plain": [
       "                       title    genre  \\\n",
       "0          Drowned Wednesday  fantasy   \n",
       "1              The Lost Hero  fantasy   \n",
       "2  The Eyes of the Overworld  fantasy   \n",
       "3            Magic's Promise  fantasy   \n",
       "4             Taran Wanderer  fantasy   \n",
       "\n",
       "                                             summary  \n",
       "0   Drowned Wednesday is the first Trustee among ...  \n",
       "1   As the book opens, Jason awakens on a school ...  \n",
       "2   Cugel is easily persuaded by the merchant Fia...  \n",
       "3   The book opens with Herald-Mage Vanyel return...  \n",
       "4   Taran and Gurgi have returned to Caer Dallben...  "
      ]
     },
     "execution_count": 45,
     "metadata": {},
     "output_type": "execute_result"
    }
   ],
   "source": [
    "less = books[~books['genre'].isin(['science', 'crime', 'romance', 'psychology', 'sports', 'travel'])]\n",
    "less.head(5)"
   ]
  },
  {
   "cell_type": "code",
   "execution_count": 46,
   "id": "68663695",
   "metadata": {},
   "outputs": [
    {
     "data": {
      "text/plain": [
       "(3099, 3)"
      ]
     },
     "execution_count": 46,
     "metadata": {},
     "output_type": "execute_result"
    }
   ],
   "source": [
    "less.shape"
   ]
  },
  {
   "cell_type": "code",
   "execution_count": 47,
   "id": "7ffb411a",
   "metadata": {
    "scrolled": true
   },
   "outputs": [
    {
     "data": {
      "text/plain": [
       "genre\n",
       "thriller    1023\n",
       "fantasy      876\n",
       "history      600\n",
       "horror       600\n",
       "Name: count, dtype: int64"
      ]
     },
     "execution_count": 47,
     "metadata": {},
     "output_type": "execute_result"
    }
   ],
   "source": [
    "less.genre.value_counts()"
   ]
  },
  {
   "cell_type": "code",
   "execution_count": 48,
   "id": "98398df0",
   "metadata": {},
   "outputs": [
    {
     "data": {
      "text/html": [
       "<div>\n",
       "<style scoped>\n",
       "    .dataframe tbody tr th:only-of-type {\n",
       "        vertical-align: middle;\n",
       "    }\n",
       "\n",
       "    .dataframe tbody tr th {\n",
       "        vertical-align: top;\n",
       "    }\n",
       "\n",
       "    .dataframe thead th {\n",
       "        text-align: right;\n",
       "    }\n",
       "</style>\n",
       "<table border=\"1\" class=\"dataframe\">\n",
       "  <thead>\n",
       "    <tr style=\"text-align: right;\">\n",
       "      <th></th>\n",
       "      <th>title</th>\n",
       "      <th>genre</th>\n",
       "      <th>summary</th>\n",
       "    </tr>\n",
       "  </thead>\n",
       "  <tbody>\n",
       "    <tr>\n",
       "      <th>0</th>\n",
       "      <td>Drowned Wednesday</td>\n",
       "      <td>fantasy</td>\n",
       "      <td>Drowned Wednesday is the first Trustee among ...</td>\n",
       "    </tr>\n",
       "    <tr>\n",
       "      <th>1</th>\n",
       "      <td>The Lost Hero</td>\n",
       "      <td>fantasy</td>\n",
       "      <td>As the book opens, Jason awakens on a school ...</td>\n",
       "    </tr>\n",
       "    <tr>\n",
       "      <th>2</th>\n",
       "      <td>The Eyes of the Overworld</td>\n",
       "      <td>fantasy</td>\n",
       "      <td>Cugel is easily persuaded by the merchant Fia...</td>\n",
       "    </tr>\n",
       "    <tr>\n",
       "      <th>3</th>\n",
       "      <td>Magic's Promise</td>\n",
       "      <td>fantasy</td>\n",
       "      <td>The book opens with Herald-Mage Vanyel return...</td>\n",
       "    </tr>\n",
       "  </tbody>\n",
       "</table>\n",
       "</div>"
      ],
      "text/plain": [
       "                       title    genre  \\\n",
       "0          Drowned Wednesday  fantasy   \n",
       "1              The Lost Hero  fantasy   \n",
       "2  The Eyes of the Overworld  fantasy   \n",
       "3            Magic's Promise  fantasy   \n",
       "\n",
       "                                             summary  \n",
       "0   Drowned Wednesday is the first Trustee among ...  \n",
       "1   As the book opens, Jason awakens on a school ...  \n",
       "2   Cugel is easily persuaded by the merchant Fia...  \n",
       "3   The book opens with Herald-Mage Vanyel return...  "
      ]
     },
     "execution_count": 48,
     "metadata": {},
     "output_type": "execute_result"
    }
   ],
   "source": [
    "# I want to check if in this new dataset, the books classified as 'fantasy' are really fantasy books. \n",
    "# Perhaps they are instead \"fantasy & science fiction\" books. \n",
    "\n",
    "fanta = less[less['genre'] == 'fantasy']\n",
    "fanta.head(4)"
   ]
  },
  {
   "cell_type": "code",
   "execution_count": 70,
   "id": "f92ca2b6",
   "metadata": {},
   "outputs": [
    {
     "data": {
      "text/plain": [
       "' Two explorers travel miles beneath Mount Rainier and discover a cavernous realm, filled with glowing mist, called Drome, which is home to a lost civilization and fantastic animals, including bat-apes, snake-cats, and tree-octopi.'"
      ]
     },
     "execution_count": 70,
     "metadata": {},
     "output_type": "execute_result"
    }
   ],
   "source": [
    "# It seems that the books classifies as \"fantasy\" are really fantasy stories rather than science fiction. \n",
    "\n",
    "list(set(fanta.summary))[208]"
   ]
  },
  {
   "cell_type": "code",
   "execution_count": 54,
   "id": "ffe84bb5",
   "metadata": {},
   "outputs": [
    {
     "data": {
      "text/html": [
       "<div>\n",
       "<style scoped>\n",
       "    .dataframe tbody tr th:only-of-type {\n",
       "        vertical-align: middle;\n",
       "    }\n",
       "\n",
       "    .dataframe tbody tr th {\n",
       "        vertical-align: top;\n",
       "    }\n",
       "\n",
       "    .dataframe thead th {\n",
       "        text-align: right;\n",
       "    }\n",
       "</style>\n",
       "<table border=\"1\" class=\"dataframe\">\n",
       "  <thead>\n",
       "    <tr style=\"text-align: right;\">\n",
       "      <th></th>\n",
       "      <th>title</th>\n",
       "      <th>summary</th>\n",
       "      <th>genre</th>\n",
       "    </tr>\n",
       "  </thead>\n",
       "  <tbody>\n",
       "    <tr>\n",
       "      <th>4522</th>\n",
       "      <td>Theft of Swords</td>\n",
       "      <td>Royce Melborn, a skilled thief, and his mercen...</td>\n",
       "      <td>fantasy</td>\n",
       "    </tr>\n",
       "    <tr>\n",
       "      <th>4525</th>\n",
       "      <td>The Demon King</td>\n",
       "      <td>Times are hard in the mountain city of Fellsma...</td>\n",
       "      <td>fantasy</td>\n",
       "    </tr>\n",
       "  </tbody>\n",
       "</table>\n",
       "</div>"
      ],
      "text/plain": [
       "                title                                            summary  \\\n",
       "4522  Theft of Swords  Royce Melborn, a skilled thief, and his mercen...   \n",
       "4525   The Demon King  Times are hard in the mountain city of Fellsma...   \n",
       "\n",
       "        genre  \n",
       "4522  fantasy  \n",
       "4525  fantasy  "
      ]
     },
     "execution_count": 54,
     "metadata": {},
     "output_type": "execute_result"
    }
   ],
   "source": [
    "# I define the new order of columns\n",
    "new_order = ['title', 'summary', 'genre']\n",
    "\n",
    "# Reorder columns\n",
    "less = less[new_order]\n",
    "less.sample(2)"
   ]
  },
  {
   "cell_type": "code",
   "execution_count": 55,
   "id": "fb70ccff",
   "metadata": {},
   "outputs": [
    {
     "data": {
      "text/plain": [
       "genre\n",
       "thriller    1023\n",
       "fantasy      876\n",
       "history      600\n",
       "horror       600\n",
       "Name: count, dtype: int64"
      ]
     },
     "execution_count": 55,
     "metadata": {},
     "output_type": "execute_result"
    }
   ],
   "source": [
    "less.genre.value_counts()"
   ]
  },
  {
   "cell_type": "code",
   "execution_count": 56,
   "id": "15d9b0a2",
   "metadata": {},
   "outputs": [
    {
     "data": {
      "text/plain": [
       "genre\n",
       "literary fiction    2819\n",
       "science fiction     2302\n",
       "thriller            2056\n",
       "fantasy             1695\n",
       "historical novel     873\n",
       "horror               590\n",
       "Name: count, dtype: int64"
      ]
     },
     "execution_count": 56,
     "metadata": {},
     "output_type": "execute_result"
    }
   ],
   "source": [
    "six.genre.value_counts()"
   ]
  },
  {
   "cell_type": "code",
   "execution_count": 57,
   "id": "bb50f0f5",
   "metadata": {},
   "outputs": [
    {
     "data": {
      "text/plain": [
       "genre\n",
       "thriller            1023\n",
       "fantasy              876\n",
       "historical novel     600\n",
       "horror               600\n",
       "Name: count, dtype: int64"
      ]
     },
     "execution_count": 57,
     "metadata": {},
     "output_type": "execute_result"
    }
   ],
   "source": [
    "less['genre'] = less['genre'].replace('history', 'historical novel')\n",
    "less.genre.value_counts()"
   ]
  },
  {
   "cell_type": "code",
   "execution_count": 60,
   "id": "6dc3590d",
   "metadata": {},
   "outputs": [
    {
     "name": "stdout",
     "output_type": "stream",
     "text": [
      "(10335, 3)\n"
     ]
    },
    {
     "data": {
      "text/plain": [
       "(3099, 3)"
      ]
     },
     "execution_count": 60,
     "metadata": {},
     "output_type": "execute_result"
    }
   ],
   "source": [
    "print(six.shape)\n",
    "less.shape"
   ]
  },
  {
   "cell_type": "markdown",
   "id": "962cce4b",
   "metadata": {},
   "source": [
    "#### 5.3. Now I'm going to join the two datasets."
   ]
  },
  {
   "cell_type": "code",
   "execution_count": 58,
   "id": "aece9dba",
   "metadata": {},
   "outputs": [
    {
     "data": {
      "text/html": [
       "<div>\n",
       "<style scoped>\n",
       "    .dataframe tbody tr th:only-of-type {\n",
       "        vertical-align: middle;\n",
       "    }\n",
       "\n",
       "    .dataframe tbody tr th {\n",
       "        vertical-align: top;\n",
       "    }\n",
       "\n",
       "    .dataframe thead th {\n",
       "        text-align: right;\n",
       "    }\n",
       "</style>\n",
       "<table border=\"1\" class=\"dataframe\">\n",
       "  <thead>\n",
       "    <tr style=\"text-align: right;\">\n",
       "      <th></th>\n",
       "      <th>title</th>\n",
       "      <th>summary</th>\n",
       "      <th>genre</th>\n",
       "    </tr>\n",
       "  </thead>\n",
       "  <tbody>\n",
       "    <tr>\n",
       "      <th>0</th>\n",
       "      <td>A Clockwork Orange</td>\n",
       "      <td>Alex, a teenager living in near-future Englan...</td>\n",
       "      <td>science fiction</td>\n",
       "    </tr>\n",
       "    <tr>\n",
       "      <th>1</th>\n",
       "      <td>The Plague</td>\n",
       "      <td>The text of The Plague is divided into five p...</td>\n",
       "      <td>literary fiction</td>\n",
       "    </tr>\n",
       "    <tr>\n",
       "      <th>2</th>\n",
       "      <td>All Quiet on the Western Front</td>\n",
       "      <td>The book tells the story of Paul Bäumer, a Ge...</td>\n",
       "      <td>literary fiction</td>\n",
       "    </tr>\n",
       "    <tr>\n",
       "      <th>3</th>\n",
       "      <td>A Wizard of Earthsea</td>\n",
       "      <td>Ged is a young boy on Gont, one of the larger...</td>\n",
       "      <td>fantasy</td>\n",
       "    </tr>\n",
       "    <tr>\n",
       "      <th>4</th>\n",
       "      <td>Blade Runner 3: Replicant Night</td>\n",
       "      <td>Living on Mars, Deckard is acting as a consul...</td>\n",
       "      <td>science fiction</td>\n",
       "    </tr>\n",
       "    <tr>\n",
       "      <th>5</th>\n",
       "      <td>Blade Runner 2: The Edge of Human</td>\n",
       "      <td>Beginning several months after the events in ...</td>\n",
       "      <td>science fiction</td>\n",
       "    </tr>\n",
       "    <tr>\n",
       "      <th>6</th>\n",
       "      <td>Crash</td>\n",
       "      <td>The story is told through the eyes of narrato...</td>\n",
       "      <td>literary fiction</td>\n",
       "    </tr>\n",
       "    <tr>\n",
       "      <th>7</th>\n",
       "      <td>Children of Dune</td>\n",
       "      <td>Nine years after Emperor Paul Muad'dib walked...</td>\n",
       "      <td>science fiction</td>\n",
       "    </tr>\n",
       "  </tbody>\n",
       "</table>\n",
       "</div>"
      ],
      "text/plain": [
       "                               title  \\\n",
       "0                 A Clockwork Orange   \n",
       "1                         The Plague   \n",
       "2     All Quiet on the Western Front   \n",
       "3               A Wizard of Earthsea   \n",
       "4    Blade Runner 3: Replicant Night   \n",
       "5  Blade Runner 2: The Edge of Human   \n",
       "6                              Crash   \n",
       "7                   Children of Dune   \n",
       "\n",
       "                                             summary             genre  \n",
       "0   Alex, a teenager living in near-future Englan...   science fiction  \n",
       "1   The text of The Plague is divided into five p...  literary fiction  \n",
       "2   The book tells the story of Paul Bäumer, a Ge...  literary fiction  \n",
       "3   Ged is a young boy on Gont, one of the larger...           fantasy  \n",
       "4   Living on Mars, Deckard is acting as a consul...   science fiction  \n",
       "5   Beginning several months after the events in ...   science fiction  \n",
       "6   The story is told through the eyes of narrato...  literary fiction  \n",
       "7   Nine years after Emperor Paul Muad'dib walked...   science fiction  "
      ]
     },
     "execution_count": 58,
     "metadata": {},
     "output_type": "execute_result"
    }
   ],
   "source": [
    "joined = pd.concat([six, less], ignore_index=True)\n",
    "joined.head(8)"
   ]
  },
  {
   "cell_type": "code",
   "execution_count": 59,
   "id": "357d1fa3",
   "metadata": {},
   "outputs": [
    {
     "data": {
      "text/plain": [
       "(13434, 3)"
      ]
     },
     "execution_count": 59,
     "metadata": {},
     "output_type": "execute_result"
    }
   ],
   "source": [
    "joined.shape"
   ]
  },
  {
   "cell_type": "code",
   "execution_count": 62,
   "id": "96896748",
   "metadata": {
    "scrolled": true
   },
   "outputs": [
    {
     "data": {
      "text/plain": [
       "1730"
      ]
     },
     "execution_count": 62,
     "metadata": {},
     "output_type": "execute_result"
    }
   ],
   "source": [
    "joined.duplicated().sum()"
   ]
  },
  {
   "cell_type": "code",
   "execution_count": 63,
   "id": "b10e1734",
   "metadata": {},
   "outputs": [
    {
     "data": {
      "text/plain": [
       "0"
      ]
     },
     "execution_count": 63,
     "metadata": {},
     "output_type": "execute_result"
    }
   ],
   "source": [
    "join = joined.drop_duplicates()\n",
    "join.duplicated().sum()"
   ]
  },
  {
   "cell_type": "code",
   "execution_count": 64,
   "id": "70b65aa4",
   "metadata": {},
   "outputs": [
    {
     "data": {
      "text/plain": [
       "(11704, 3)"
      ]
     },
     "execution_count": 64,
     "metadata": {},
     "output_type": "execute_result"
    }
   ],
   "source": [
    "join.shape"
   ]
  },
  {
   "cell_type": "code",
   "execution_count": 66,
   "id": "9361d168",
   "metadata": {},
   "outputs": [
    {
     "data": {
      "text/plain": [
       "genre\n",
       "literary fiction    2819\n",
       "thriller            2634\n",
       "science fiction     2302\n",
       "fantasy             2210\n",
       "historical novel    1048\n",
       "horror               691\n",
       "Name: count, dtype: int64"
      ]
     },
     "execution_count": 66,
     "metadata": {},
     "output_type": "execute_result"
    }
   ],
   "source": [
    "join.genre.value_counts()"
   ]
  },
  {
   "cell_type": "code",
   "execution_count": null,
   "id": "f76af6ae",
   "metadata": {},
   "outputs": [],
   "source": [
    "# Maybe we should drop the 'horror' column because it is the category with less samples.\n",
    "# we want a balanced dataset so that our models are better trained. "
   ]
  },
  {
   "cell_type": "code",
   "execution_count": 71,
   "id": "8cbdfe73",
   "metadata": {},
   "outputs": [
    {
     "data": {
      "text/plain": [
       "(11013, 3)"
      ]
     },
     "execution_count": 71,
     "metadata": {},
     "output_type": "execute_result"
    }
   ],
   "source": [
    "five = join[~join['genre'].isin(['horror'])]\n",
    "five.shape"
   ]
  },
  {
   "cell_type": "code",
   "execution_count": 72,
   "id": "4643f7e8",
   "metadata": {},
   "outputs": [
    {
     "data": {
      "text/plain": [
       "genre\n",
       "literary fiction    2819\n",
       "thriller            2634\n",
       "science fiction     2302\n",
       "fantasy             2210\n",
       "historical novel    1048\n",
       "Name: count, dtype: int64"
      ]
     },
     "execution_count": 72,
     "metadata": {},
     "output_type": "execute_result"
    }
   ],
   "source": [
    "five_counts = five.genre.value_counts()\n",
    "five_counts"
   ]
  },
  {
   "cell_type": "code",
   "execution_count": 73,
   "id": "fa6a410c",
   "metadata": {},
   "outputs": [
    {
     "data": {
      "image/png": "[encoded data removed]",
      "text/plain": [
       "<Figure size 800x600 with 1 Axes>"
      ]
     },
     "metadata": {},
     "output_type": "display_data"
    }
   ],
   "source": [
    "# Set the figsize parameter to control the size of the figure\n",
    "plt.figure(figsize=(8, 6))\n",
    "\n",
    "five_counts.plot(kind='bar', color=['blue', 'green', 'red', 'purple', 'yellow'])\n",
    "plt.xlabel('Genre')\n",
    "plt.ylabel('Count')\n",
    "plt.title('Count of Book Genres')\n",
    "plt.xticks(rotation=45) \n",
    "plt.show()"
   ]
  },
  {
   "cell_type": "code",
   "execution_count": 74,
   "id": "4adfcc69",
   "metadata": {},
   "outputs": [],
   "source": [
    "# I save my dataframe with the changes saved:\n",
    "\n",
    "five.to_csv(\"five.csv\", index=False)\n",
    "\n",
    "# Specify the folder path and filename for the CSV file\n",
    "folder_path = \"/Users/usuari/Desktop/Ironhack/BOOTCAMP/projects/final_project/data\"\n",
    "file_name = \"five.csv\"\n",
    "\n",
    "# Combine the folder path and filename to create the full file path\n",
    "full_file_path = f\"{folder_path}/{file_name}\"\n",
    "\n",
    "# Export the DataFrame to the specified folder\n",
    "five.to_csv(full_file_path, index=False)"
   ]
  }
 ],
 "metadata": {
  "kernelspec": {
   "display_name": "ironhack",
   "language": "python",
   "name": "ironhack"
  },
  "language_info": {
   "codemirror_mode": {
    "name": "ipython",
    "version": 3
   },
   "file_extension": ".py",
   "mimetype": "text/x-python",
   "name": "python",
   "nbconvert_exporter": "python",
   "pygments_lexer": "ipython3",
   "version": "3.11.5"
  }
 },
 "nbformat": 4,
 "nbformat_minor": 5
}
