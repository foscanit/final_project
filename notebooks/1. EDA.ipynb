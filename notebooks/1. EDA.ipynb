{
 "cells": [
  {
   "cell_type": "markdown",
   "id": "784e9938",
   "metadata": {},
   "source": [
    "## Final project: Book Genre Classification\n",
    "\n",
    "---------------------------\n",
    "\n",
    "Clàudia Pintos Relat\n",
    "\n",
    "---------------------------\n",
    "\n"
   ]
  },
  {
   "cell_type": "markdown",
   "id": "9850538b",
   "metadata": {},
   "source": [
    "### 1. Introduction / overview\n",
    "\n",
    "The aim of this project was to build a system that can identify the genre of a book based on its synopsis. To develop a book classification task I used a dataset with the summaries of each title (https://www.kaggle.com/datasets/ymaricar/cmu-book-summary-dataset/data) and I tried to identify a set of features that established the genre of a particular book.\n",
    "\n",
    "The multi-classification task was done by predicting the genre (among five) of the books, after preprocessing their summaries and a previous descriptive analysys of the dataset that gave me some insights about what features can charcaterize more a genre. For doing so, I started by training a RandomForestClassifier, and then two XgboostClssifiers with different inputs, to check which features based on the summaries (the tokens, the entities, the average summary length per genre) improved the predictibilty of the model. Finally, I used a pre-trained Bert model, to find a better classification with DL and also, so that its analysis would not only focus on the word-level semantics, but also on the syntactic structure of the summaries. I compared the performance of the four models by finding the acuraccy, precision, recall and F1 score for each.\n",
    "\n",
    "I chose accuracy, precision, recall, and f1 as the evaluation metrics for the models because they are widely used in natural language processing (NLP) tasks and provide a comprehensive evaluation of the model's performance. Accuracy is a common metric that measures the percentage of correctly classified samples, while precision and recall are useful to evaluate the model's ability to correctly identify positive samples and avoid false positives and false negatives. F1 score, which is the harmonic mean of precision and recall, provides an overall measure of the model's performance, taking into account both precision and recall.\n",
    "\n",
    "In this specific case, I am dealing with a multi-class classification problem, and the classes are not balanced, so using accuracy alone is not enough. That's why I also included precision, recall, and f1 score. By using these metrics, I can better assess the models' performance and compare them more effectively."
   ]
  },
  {
   "cell_type": "markdown",
   "id": "61ca78d4",
   "metadata": {},
   "source": [
    "### 2. Workflow:\n",
    "\n",
    "1. Import libraries and the dataset.\n",
    "2. Clean and standardize the data.\n",
    "    - Data exploration\n",
    "    - Drop unnecessary columns\n",
    "    - Rename columns\n",
    "    - Create a function to classify the different genres between \"fiction\" and \"non fiction\".\n",
    "    - Visualize the count of each group\n",
    "    - Create a subset with only the category with more samples.\n",
    "    - Make a function to standardize the genre column.\n",
    "    - Check the value_counts for each genre and plot it.\n",
    "    - Keep only the genres that have enough data.\n",
    "    - If necessary, import another book dataset to add more samples to each genre. \n",
    "3. Text preprocessing with nltk.\n",
    "4. Descriptive analysis of the contents with Spacy\n",
    "5. Import dataset into MySQLWorkbench and make some queries\n",
    "6. Feature Extraction: convert the preprocessed text into numerical features that machine learning models can understand. TF-IDF (Term Frequency-Inverse Document Frequency) to represent each book summary.\n",
    "7. Train-test split.\n",
    "8. Model 1: train and test.\n",
    "9. Model 2: train and test.\n",
    "10. Model 3: train and test.\n",
    "11. Evaluation: compare the performance and the results of each model: accuracy, precision, recall and F1 score.\n",
    "12. Next steps (hyperparameter tuning, ensamble methods) or possible errors or bias to be considered.\n",
    "13. Conclusions.\n"
   ]
  },
  {
   "cell_type": "markdown",
   "id": "92773c81",
   "metadata": {},
   "source": [
    "### 3. Import libraries and the dataset"
   ]
  },
  {
   "cell_type": "code",
   "execution_count": 1,
   "id": "a987f566",
   "metadata": {},
   "outputs": [],
   "source": [
    "# Import libraries\n",
    "\n",
    "import matplotlib.pyplot as plt\n",
    "from matplotlib.pyplot import figure\n",
    "%matplotlib inline\n",
    "%config Inlinebackend.figure_format = 'retina'\n",
    "\n",
    "import seaborn as sns\n",
    "sns.set_context('poster')\n",
    "sns.set(rc={'figure.figsize': (16., 9.)})\n",
    "sns.set_style('whitegrid')\n",
    "import seaborn as sns\n",
    "import numpy as np\n",
    "import re\n",
    "import os"
   ]
  },
  {
   "cell_type": "code",
   "execution_count": 2,
   "id": "312c1364",
   "metadata": {
    "scrolled": true
   },
   "outputs": [
    {
     "name": "stderr",
     "output_type": "stream",
     "text": [
      "0it [00:00, ?it/s]"
     ]
    },
    {
     "name": "stderr",
     "output_type": "stream",
     "text": [
      "16559it [00:00, 17335.42it/s]\n"
     ]
    },
    {
     "data": {
      "text/html": [
       "<div>\n",
       "<style scoped>\n",
       "    .dataframe tbody tr th:only-of-type {\n",
       "        vertical-align: middle;\n",
       "    }\n",
       "\n",
       "    .dataframe tbody tr th {\n",
       "        vertical-align: top;\n",
       "    }\n",
       "\n",
       "    .dataframe thead th {\n",
       "        text-align: right;\n",
       "    }\n",
       "</style>\n",
       "<table border=\"1\" class=\"dataframe\">\n",
       "  <thead>\n",
       "    <tr style=\"text-align: right;\">\n",
       "      <th></th>\n",
       "      <th>0</th>\n",
       "      <th>1</th>\n",
       "      <th>2</th>\n",
       "      <th>3</th>\n",
       "      <th>4</th>\n",
       "      <th>5</th>\n",
       "      <th>6</th>\n",
       "    </tr>\n",
       "  </thead>\n",
       "  <tbody>\n",
       "    <tr>\n",
       "      <th>0</th>\n",
       "      <td>620</td>\n",
       "      <td>/m/0hhy</td>\n",
       "      <td>Animal Farm</td>\n",
       "      <td>George Orwell</td>\n",
       "      <td>1945-08-17</td>\n",
       "      <td>{\"/m/016lj8\": \"Roman \\u00e0 clef\", \"/m/06nbt\":...</td>\n",
       "      <td>Old Major, the old boar on the Manor Farm, ca...</td>\n",
       "    </tr>\n",
       "    <tr>\n",
       "      <th>1</th>\n",
       "      <td>843</td>\n",
       "      <td>/m/0k36</td>\n",
       "      <td>A Clockwork Orange</td>\n",
       "      <td>Anthony Burgess</td>\n",
       "      <td>1962</td>\n",
       "      <td>{\"/m/06n90\": \"Science Fiction\", \"/m/0l67h\": \"N...</td>\n",
       "      <td>Alex, a teenager living in near-future Englan...</td>\n",
       "    </tr>\n",
       "    <tr>\n",
       "      <th>2</th>\n",
       "      <td>986</td>\n",
       "      <td>/m/0ldx</td>\n",
       "      <td>The Plague</td>\n",
       "      <td>Albert Camus</td>\n",
       "      <td>1947</td>\n",
       "      <td>{\"/m/02m4t\": \"Existentialism\", \"/m/02xlf\": \"Fi...</td>\n",
       "      <td>The text of The Plague is divided into five p...</td>\n",
       "    </tr>\n",
       "    <tr>\n",
       "      <th>3</th>\n",
       "      <td>1756</td>\n",
       "      <td>/m/0sww</td>\n",
       "      <td>An Enquiry Concerning Human Understanding</td>\n",
       "      <td>David Hume</td>\n",
       "      <td></td>\n",
       "      <td></td>\n",
       "      <td>The argument of the Enquiry proceeds by a ser...</td>\n",
       "    </tr>\n",
       "    <tr>\n",
       "      <th>4</th>\n",
       "      <td>2080</td>\n",
       "      <td>/m/0wkt</td>\n",
       "      <td>A Fire Upon the Deep</td>\n",
       "      <td>Vernor Vinge</td>\n",
       "      <td></td>\n",
       "      <td>{\"/m/03lrw\": \"Hard science fiction\", \"/m/06n90...</td>\n",
       "      <td>The novel posits that space around the Milky ...</td>\n",
       "    </tr>\n",
       "  </tbody>\n",
       "</table>\n",
       "</div>"
      ],
      "text/plain": [
       "      0        1                                          2                3  \\\n",
       "0   620  /m/0hhy                                Animal Farm    George Orwell   \n",
       "1   843  /m/0k36                         A Clockwork Orange  Anthony Burgess   \n",
       "2   986  /m/0ldx                                 The Plague     Albert Camus   \n",
       "3  1756  /m/0sww  An Enquiry Concerning Human Understanding       David Hume   \n",
       "4  2080  /m/0wkt                       A Fire Upon the Deep     Vernor Vinge   \n",
       "\n",
       "            4                                                  5  \\\n",
       "0  1945-08-17  {\"/m/016lj8\": \"Roman \\u00e0 clef\", \"/m/06nbt\":...   \n",
       "1        1962  {\"/m/06n90\": \"Science Fiction\", \"/m/0l67h\": \"N...   \n",
       "2        1947  {\"/m/02m4t\": \"Existentialism\", \"/m/02xlf\": \"Fi...   \n",
       "3                                                                  \n",
       "4              {\"/m/03lrw\": \"Hard science fiction\", \"/m/06n90...   \n",
       "\n",
       "                                                   6  \n",
       "0   Old Major, the old boar on the Manor Farm, ca...  \n",
       "1   Alex, a teenager living in near-future Englan...  \n",
       "2   The text of The Plague is divided into five p...  \n",
       "3   The argument of the Enquiry proceeds by a ser...  \n",
       "4   The novel posits that space around the Milky ...  "
      ]
     },
     "execution_count": 2,
     "metadata": {},
     "output_type": "execute_result"
    }
   ],
   "source": [
    "# Import more libraries and create a dataframe with a txt file\n",
    "\n",
    "import pandas as pd\n",
    "import csv\n",
    "from tqdm import tqdm\n",
    "\n",
    "file_path = \"/Users/usuari/Desktop/Ironhack/BOOTCAMP/projects/final_project/data/booksummaries.txt\"\n",
    "\n",
    "# Initialize an empty list to store data\n",
    "sm = []\n",
    "\n",
    "with open(file_path) as f:\n",
    "    reader = csv.reader(f, dialect='excel-tab')\n",
    "    for row in tqdm(reader):\n",
    "        # Append the row to the list\n",
    "        sm.append(row)\n",
    "\n",
    "# Convert the list of lists to a DataFrame\n",
    "sums = pd.DataFrame(sm)\n",
    "\n",
    "# Display the DataFrame\n",
    "sums.head()"
   ]
  },
  {
   "cell_type": "markdown",
   "id": "9540d261",
   "metadata": {},
   "source": [
    "### 4. Explore and preprocess the dataframe"
   ]
  },
  {
   "cell_type": "code",
   "execution_count": 3,
   "id": "376ca993",
   "metadata": {},
   "outputs": [
    {
     "data": {
      "text/plain": [
       "(16559, 7)"
      ]
     },
     "execution_count": 3,
     "metadata": {},
     "output_type": "execute_result"
    }
   ],
   "source": [
    "sums.shape"
   ]
  },
  {
   "cell_type": "code",
   "execution_count": 4,
   "id": "87ef0a72",
   "metadata": {},
   "outputs": [
    {
     "data": {
      "text/plain": [
       "0    object\n",
       "1    object\n",
       "2    object\n",
       "3    object\n",
       "4    object\n",
       "5    object\n",
       "6    object\n",
       "dtype: object"
      ]
     },
     "execution_count": 4,
     "metadata": {},
     "output_type": "execute_result"
    }
   ],
   "source": [
    "sums.dtypes"
   ]
  },
  {
   "cell_type": "code",
   "execution_count": 5,
   "id": "74d241d2",
   "metadata": {},
   "outputs": [
    {
     "name": "stdout",
     "output_type": "stream",
     "text": [
      "<class 'pandas.core.frame.DataFrame'>\n",
      "RangeIndex: 16559 entries, 0 to 16558\n",
      "Data columns (total 7 columns):\n",
      " #   Column  Non-Null Count  Dtype \n",
      "---  ------  --------------  ----- \n",
      " 0   0       16559 non-null  object\n",
      " 1   1       16559 non-null  object\n",
      " 2   2       16559 non-null  object\n",
      " 3   3       16559 non-null  object\n",
      " 4   4       16559 non-null  object\n",
      " 5   5       16559 non-null  object\n",
      " 6   6       16559 non-null  object\n",
      "dtypes: object(7)\n",
      "memory usage: 905.7+ KB\n"
     ]
    }
   ],
   "source": [
    "sums.info()"
   ]
  },
  {
   "cell_type": "code",
   "execution_count": 6,
   "id": "0544ff1a",
   "metadata": {
    "scrolled": true
   },
   "outputs": [
    {
     "data": {
      "text/plain": [
       "0    0\n",
       "1    0\n",
       "2    0\n",
       "3    0\n",
       "4    0\n",
       "5    0\n",
       "6    0\n",
       "dtype: int64"
      ]
     },
     "execution_count": 6,
     "metadata": {},
     "output_type": "execute_result"
    }
   ],
   "source": [
    "sums.isna().sum()"
   ]
  },
  {
   "cell_type": "code",
   "execution_count": 7,
   "id": "434c7241",
   "metadata": {},
   "outputs": [
    {
     "data": {
      "text/plain": [
       "0"
      ]
     },
     "execution_count": 7,
     "metadata": {},
     "output_type": "execute_result"
    }
   ],
   "source": [
    "sums.duplicated().sum()"
   ]
  },
  {
   "cell_type": "code",
   "execution_count": 8,
   "id": "030aeb32",
   "metadata": {
    "scrolled": true
   },
   "outputs": [
    {
     "data": {
      "text/plain": [
       "RangeIndex(start=0, stop=7, step=1)"
      ]
     },
     "execution_count": 8,
     "metadata": {},
     "output_type": "execute_result"
    }
   ],
   "source": [
    "sums.columns"
   ]
  },
  {
   "cell_type": "code",
   "execution_count": 9,
   "id": "5f4fc9b5",
   "metadata": {},
   "outputs": [
    {
     "data": {
      "text/html": [
       "<div>\n",
       "<style scoped>\n",
       "    .dataframe tbody tr th:only-of-type {\n",
       "        vertical-align: middle;\n",
       "    }\n",
       "\n",
       "    .dataframe tbody tr th {\n",
       "        vertical-align: top;\n",
       "    }\n",
       "\n",
       "    .dataframe thead th {\n",
       "        text-align: right;\n",
       "    }\n",
       "</style>\n",
       "<table border=\"1\" class=\"dataframe\">\n",
       "  <thead>\n",
       "    <tr style=\"text-align: right;\">\n",
       "      <th></th>\n",
       "      <th>2</th>\n",
       "      <th>5</th>\n",
       "      <th>6</th>\n",
       "    </tr>\n",
       "  </thead>\n",
       "  <tbody>\n",
       "    <tr>\n",
       "      <th>0</th>\n",
       "      <td>Animal Farm</td>\n",
       "      <td>{\"/m/016lj8\": \"Roman \\u00e0 clef\", \"/m/06nbt\":...</td>\n",
       "      <td>Old Major, the old boar on the Manor Farm, ca...</td>\n",
       "    </tr>\n",
       "    <tr>\n",
       "      <th>1</th>\n",
       "      <td>A Clockwork Orange</td>\n",
       "      <td>{\"/m/06n90\": \"Science Fiction\", \"/m/0l67h\": \"N...</td>\n",
       "      <td>Alex, a teenager living in near-future Englan...</td>\n",
       "    </tr>\n",
       "  </tbody>\n",
       "</table>\n",
       "</div>"
      ],
      "text/plain": [
       "                    2                                                  5  \\\n",
       "0         Animal Farm  {\"/m/016lj8\": \"Roman \\u00e0 clef\", \"/m/06nbt\":...   \n",
       "1  A Clockwork Orange  {\"/m/06n90\": \"Science Fiction\", \"/m/0l67h\": \"N...   \n",
       "\n",
       "                                                   6  \n",
       "0   Old Major, the old boar on the Manor Farm, ca...  \n",
       "1   Alex, a teenager living in near-future Englan...  "
      ]
     },
     "execution_count": 9,
     "metadata": {},
     "output_type": "execute_result"
    }
   ],
   "source": [
    "# We drop the columns that are not necessary for our analysis (Wikipedia article ID, Freebase ID, author & year of publication):\n",
    "\n",
    "clean = sums.drop(columns=[0, 1, 3, 4])\n",
    "clean.head(2)"
   ]
  },
  {
   "cell_type": "code",
   "execution_count": 10,
   "id": "8e893ff3",
   "metadata": {},
   "outputs": [
    {
     "data": {
      "text/html": [
       "<div>\n",
       "<style scoped>\n",
       "    .dataframe tbody tr th:only-of-type {\n",
       "        vertical-align: middle;\n",
       "    }\n",
       "\n",
       "    .dataframe tbody tr th {\n",
       "        vertical-align: top;\n",
       "    }\n",
       "\n",
       "    .dataframe thead th {\n",
       "        text-align: right;\n",
       "    }\n",
       "</style>\n",
       "<table border=\"1\" class=\"dataframe\">\n",
       "  <thead>\n",
       "    <tr style=\"text-align: right;\">\n",
       "      <th></th>\n",
       "      <th>title</th>\n",
       "      <th>genre</th>\n",
       "      <th>summary</th>\n",
       "    </tr>\n",
       "  </thead>\n",
       "  <tbody>\n",
       "    <tr>\n",
       "      <th>12589</th>\n",
       "      <td>Sign of the Cross</td>\n",
       "      <td>{\"/m/01jfsb\": \"Thriller\"}</td>\n",
       "      <td>Jonathon Payne and David \"D.J.\" Jones are rec...</td>\n",
       "    </tr>\n",
       "    <tr>\n",
       "      <th>15783</th>\n",
       "      <td>Outerbridge Reach</td>\n",
       "      <td></td>\n",
       "      <td>Stone's incisive, haunting novel follows the ...</td>\n",
       "    </tr>\n",
       "  </tbody>\n",
       "</table>\n",
       "</div>"
      ],
      "text/plain": [
       "                   title                      genre  \\\n",
       "12589  Sign of the Cross  {\"/m/01jfsb\": \"Thriller\"}   \n",
       "15783  Outerbridge Reach                              \n",
       "\n",
       "                                                 summary  \n",
       "12589   Jonathon Payne and David \"D.J.\" Jones are rec...  \n",
       "15783   Stone's incisive, haunting novel follows the ...  "
      ]
     },
     "execution_count": 10,
     "metadata": {},
     "output_type": "execute_result"
    }
   ],
   "source": [
    "# We change the name of the columns.\n",
    "\n",
    "clean.columns = ['title', 'genre', 'summary']\n",
    "clean.sample(2)"
   ]
  },
  {
   "cell_type": "code",
   "execution_count": 11,
   "id": "b531f5fb",
   "metadata": {},
   "outputs": [
    {
     "data": {
      "text/plain": [
       "\" When Edith Howland's husband abandons her for a younger woman, leaving her with their alcoholic son and his senile uncle, she begins recording details of an imaginary, much more successful life where she has friends and grandchildren. However, this diversion soon grows unhealthy when she becomes slowly convinced that the fantasies are real…\""
      ]
     },
     "execution_count": 11,
     "metadata": {},
     "output_type": "execute_result"
    }
   ],
   "source": [
    "list(set(clean['summary']))[0]"
   ]
  },
  {
   "cell_type": "markdown",
   "id": "83bfd199",
   "metadata": {},
   "source": [
    "### 5. Data transformation"
   ]
  },
  {
   "cell_type": "markdown",
   "id": "9b258285",
   "metadata": {},
   "source": [
    "#### 5.1. First dataset"
   ]
  },
  {
   "cell_type": "code",
   "execution_count": 12,
   "id": "d22717a8",
   "metadata": {},
   "outputs": [],
   "source": [
    "# We create a function to classify the genres between 'fiction' and 'non fiction'. \n",
    "\n",
    "def fiction(string):\n",
    "    \n",
    "    fiction_keywords = ['fiction', 'cyberpunk', 'steampunk', 'novel', 'alien invasion', 'literature', 'western', 'fairy tale', 'magic realism', 'roman', 'literary realism', 'prose', 'science fiction', 'fantasy', 'comedy', 'horror', \n",
    "                        'adventure', 'thriller', 'crime', 'humour', 'satire', 'gothic', 'young adult', 'mystery', \n",
    "                        'novella', 'suspense', 'dystopia', 'romance', 'humour', 'chivalric', 'chick lit', 'story', \n",
    "                        'parody', 'drama', 'mystery', 'romantic', 'bildungsroman', 'sea story']\n",
    "    non_fiction_keywords = ['non-fiction', 'non fiction', 'self-help', 'self help', 'nonfiction']\n",
    "\n",
    "    # Check if 'non-fiction' is present in the lowercase string\n",
    "    if any(keyword in string.lower() for keyword in non_fiction_keywords):\n",
    "        return 'non-fiction'\n",
    "    # Check if any fiction keyword is present in the lowercase string\n",
    "    elif any(keyword in string.lower() for keyword in fiction_keywords):\n",
    "        return 'fiction'\n",
    "    else:\n",
    "        return 'non-fiction'\n"
   ]
  },
  {
   "cell_type": "code",
   "execution_count": 13,
   "id": "6fe84dea",
   "metadata": {
    "scrolled": true
   },
   "outputs": [
    {
     "data": {
      "text/html": [
       "<div>\n",
       "<style scoped>\n",
       "    .dataframe tbody tr th:only-of-type {\n",
       "        vertical-align: middle;\n",
       "    }\n",
       "\n",
       "    .dataframe tbody tr th {\n",
       "        vertical-align: top;\n",
       "    }\n",
       "\n",
       "    .dataframe thead th {\n",
       "        text-align: right;\n",
       "    }\n",
       "</style>\n",
       "<table border=\"1\" class=\"dataframe\">\n",
       "  <thead>\n",
       "    <tr style=\"text-align: right;\">\n",
       "      <th></th>\n",
       "      <th>title</th>\n",
       "      <th>genre</th>\n",
       "      <th>summary</th>\n",
       "      <th>field</th>\n",
       "    </tr>\n",
       "  </thead>\n",
       "  <tbody>\n",
       "    <tr>\n",
       "      <th>5709</th>\n",
       "      <td>Catastrophea</td>\n",
       "      <td>{\"/m/06n90\": \"Science Fiction\", \"/m/014dfn\": \"...</td>\n",
       "      <td>The Doctor and Jo arrive at a planet named Ka...</td>\n",
       "      <td>fiction</td>\n",
       "    </tr>\n",
       "    <tr>\n",
       "      <th>6607</th>\n",
       "      <td>Hex</td>\n",
       "      <td>{\"/m/06n90\": \"Science Fiction\", \"/m/0dwly\": \"C...</td>\n",
       "      <td>The story opens with the introduction of a br...</td>\n",
       "      <td>fiction</td>\n",
       "    </tr>\n",
       "    <tr>\n",
       "      <th>3934</th>\n",
       "      <td>Candy</td>\n",
       "      <td></td>\n",
       "      <td>Candy Christian, aged eighteen, is an extreme...</td>\n",
       "      <td>non-fiction</td>\n",
       "    </tr>\n",
       "    <tr>\n",
       "      <th>10404</th>\n",
       "      <td>A fekete város</td>\n",
       "      <td></td>\n",
       "      <td>Before Rákóczi's war of liberty, during a hun...</td>\n",
       "      <td>non-fiction</td>\n",
       "    </tr>\n",
       "  </tbody>\n",
       "</table>\n",
       "</div>"
      ],
      "text/plain": [
       "                title                                              genre  \\\n",
       "5709     Catastrophea  {\"/m/06n90\": \"Science Fiction\", \"/m/014dfn\": \"...   \n",
       "6607              Hex  {\"/m/06n90\": \"Science Fiction\", \"/m/0dwly\": \"C...   \n",
       "3934            Candy                                                      \n",
       "10404  A fekete város                                                      \n",
       "\n",
       "                                                 summary        field  \n",
       "5709    The Doctor and Jo arrive at a planet named Ka...      fiction  \n",
       "6607    The story opens with the introduction of a br...      fiction  \n",
       "3934    Candy Christian, aged eighteen, is an extreme...  non-fiction  \n",
       "10404   Before Rákóczi's war of liberty, during a hun...  non-fiction  "
      ]
     },
     "execution_count": 13,
     "metadata": {},
     "output_type": "execute_result"
    }
   ],
   "source": [
    "clean['field'] = clean['genre'].apply(fiction)\n",
    "clean.sample(4)"
   ]
  },
  {
   "cell_type": "code",
   "execution_count": 14,
   "id": "c16aa626",
   "metadata": {},
   "outputs": [
    {
     "data": {
      "text/plain": [
       "field\n",
       "fiction        12275\n",
       "non-fiction     4284\n",
       "Name: count, dtype: int64"
      ]
     },
     "execution_count": 14,
     "metadata": {},
     "output_type": "execute_result"
    }
   ],
   "source": [
    "genre_count = clean.field.value_counts()\n",
    "genre_count"
   ]
  },
  {
   "cell_type": "code",
   "execution_count": 28,
   "id": "efb955e7",
   "metadata": {},
   "outputs": [
    {
     "data": {
      "image/png": "[encoded data removed]",
      "text/plain": [
       "<Figure size 800x600 with 1 Axes>"
      ]
     },
     "metadata": {},
     "output_type": "display_data"
    }
   ],
   "source": [
    "# Set the figsize parameter to control the size of the figure\n",
    "plt.figure(figsize=(8, 6))\n",
    "\n",
    "# Plot the count of fiction and non-fiction books\n",
    "bar_width = 0.05\n",
    "\n",
    "plt.bar(genre_count.index, genre_count.values, color='lightgreen')\n",
    "plt.xlabel('Genre')\n",
    "plt.ylabel('Count')\n",
    "plt.title('Count of Fiction and Non-Fiction Books')\n",
    "plt.show()"
   ]
  },
  {
   "cell_type": "code",
   "execution_count": 81,
   "metadata": {},
   "outputs": [
    {
     "data": {
      "text/plain": [
       "array(['fiction', 'non-fiction'], dtype=object)"
      ]
     },
     "execution_count": 81,
     "metadata": {},
     "output_type": "execute_result"
    }
   ],
   "source": [
    "clean.field.unique()"
   ]
  },
  {
   "cell_type": "code",
   "execution_count": 82,
   "metadata": {},
   "outputs": [],
   "source": [
    "clean.to_csv(\"tableau.csv\", index=False)\n",
    "\n",
    "# Specify the folder path and filename for the CSV file\n",
    "folder_path = \"/Users/usuari/Desktop/Ironhack/BOOTCAMP/projects/final_project/data\"\n",
    "file_name = \"tableau.csv\"\n",
    "\n",
    "# Combine the folder path and filename to create the full file path\n",
    "full_file_path = f\"{folder_path}/{file_name}\"\n",
    "\n",
    "# Export the DataFrame to the specified folder\n",
    "clean.to_csv(full_file_path, index=False)"
   ]
  },
  {
   "cell_type": "code",
   "execution_count": 29,
   "id": "8cf1f56e",
   "metadata": {},
   "outputs": [],
   "source": [
    "# There is more data in the fiction category, so I'm going to create a new dataframe with only the fiction books.\n",
    "# My models will only be trained with the fiction genres.\n",
    "\n",
    "fiction = clean[clean['field'] != 'non-fiction']"
   ]
  },
  {
   "cell_type": "code",
   "execution_count": 30,
   "id": "460389ad",
   "metadata": {},
   "outputs": [
    {
     "data": {
      "text/plain": [
       "(12275, 3)"
      ]
     },
     "execution_count": 30,
     "metadata": {},
     "output_type": "execute_result"
    }
   ],
   "source": [
    "fiction = fiction.drop(columns=['field'])\n",
    "fiction.shape"
   ]
  },
  {
   "cell_type": "code",
   "execution_count": 31,
   "id": "0652ad3d",
   "metadata": {},
   "outputs": [],
   "source": [
    "def genre_lists(string):\n",
    "    fan = ['dystopia', 'cyberpunk', 'steampunk', 'alien invasion', 'apocalyptic', 'science fiction', 'fantasy', 'horror', 'gothic']\n",
    "    thriller = ['thriller', 'crime fiction', 'suspense', 'spy fiction', 'detective fiction', 'mystery']\n",
    "    true_crime = ['true crime']\n",
    "    historical = ['historical', 'history', 'western']\n",
    "    romance = ['chivalric', 'romantic', 'romance', 'erotica', 'pornography']\n",
    "    comical = ['comedy', 'comical', 'comic novel', 'black comedy', 'humour', 'parody', 'satire']\n",
    "    poetry = ['poetry']\n",
    "    travel = ['travel literature']\n",
    "    children = [\"children's literature\", 'fairy tale']\n",
    "    lit = ['magic realism', 'roman', 'literary realism', 'prose']\n",
    "\n",
    "\n",
    "    genre_lower = string.lower()\n",
    "\n",
    "    if any(keyword in genre_lower for keyword in fan):\n",
    "        if 'horror' in genre_lower or 'gothic' in genre_lower:\n",
    "            return 'horror'\n",
    "        else:\n",
    "            return 'fantasy & science fiction'\n",
    "    elif any(keyword in genre_lower for keyword in thriller):\n",
    "        return 'thriller'\n",
    "    elif any(keyword in genre_lower for keyword in true_crime):\n",
    "        return 'true crime'\n",
    "    elif any(keyword in genre_lower for keyword in historical):\n",
    "        return 'historical novel'\n",
    "    elif any(keyword in genre_lower for keyword in romance):\n",
    "        return 'romance novel'\n",
    "    elif any(keyword in genre_lower for keyword in comical):\n",
    "        return 'comedy'\n",
    "    elif any(keyword in genre_lower for keyword in poetry):\n",
    "        return 'poetry'\n",
    "    elif 'ergodic' in string.lower():\n",
    "        return 'ergodic'\n",
    "    elif any(keyword in genre_lower for keyword in children):\n",
    "        return 'children literature'\n",
    "    elif any(keyword in genre_lower for keyword in lit):\n",
    "        return 'literary fiction'\n",
    "    else:\n",
    "        return 'literary fiction'\n",
    "\n",
    "# clean['genre'] = clean['genre'].apply(genre_lists)\n",
    " "
   ]
  },
  {
   "cell_type": "code",
   "execution_count": 32,
   "id": "ed6cfcbc",
   "metadata": {},
   "outputs": [],
   "source": [
    "fiction['standard_genre'] = fiction['genre'].apply(genre_lists)"
   ]
  },
  {
   "cell_type": "code",
   "execution_count": 33,
   "id": "fc0e272c",
   "metadata": {},
   "outputs": [
    {
     "data": {
      "text/html": [
       "<div>\n",
       "<style scoped>\n",
       "    .dataframe tbody tr th:only-of-type {\n",
       "        vertical-align: middle;\n",
       "    }\n",
       "\n",
       "    .dataframe tbody tr th {\n",
       "        vertical-align: top;\n",
       "    }\n",
       "\n",
       "    .dataframe thead th {\n",
       "        text-align: right;\n",
       "    }\n",
       "</style>\n",
       "<table border=\"1\" class=\"dataframe\">\n",
       "  <thead>\n",
       "    <tr style=\"text-align: right;\">\n",
       "      <th></th>\n",
       "      <th>title</th>\n",
       "      <th>genre</th>\n",
       "      <th>summary</th>\n",
       "      <th>standard_genre</th>\n",
       "    </tr>\n",
       "  </thead>\n",
       "  <tbody>\n",
       "    <tr>\n",
       "      <th>13938</th>\n",
       "      <td>Monk's Hood</td>\n",
       "      <td>{\"/m/02n4kr\": \"Mystery\"}</td>\n",
       "      <td>The book is set in the late autumn and winter...</td>\n",
       "      <td>thriller</td>\n",
       "    </tr>\n",
       "    <tr>\n",
       "      <th>6653</th>\n",
       "      <td>A Taste for Death</td>\n",
       "      <td>{\"/m/02n4kr\": \"Mystery\", \"/m/06wkf\": \"Spy fict...</td>\n",
       "      <td>Canadian Dinah Pilgrim (blind since 11) and h...</td>\n",
       "      <td>thriller</td>\n",
       "    </tr>\n",
       "    <tr>\n",
       "      <th>8746</th>\n",
       "      <td>The Flesh in the Furnace</td>\n",
       "      <td>{\"/m/014dfn\": \"Speculative fiction\", \"/m/03npn...</td>\n",
       "      <td>A puppet master has his hands full when his p...</td>\n",
       "      <td>horror</td>\n",
       "    </tr>\n",
       "    <tr>\n",
       "      <th>4173</th>\n",
       "      <td>Who?</td>\n",
       "      <td>{\"/m/06n90\": \"Science Fiction\", \"/m/014dfn\": \"...</td>\n",
       "      <td>In the historical development leading up to t...</td>\n",
       "      <td>fantasy &amp; science fiction</td>\n",
       "    </tr>\n",
       "  </tbody>\n",
       "</table>\n",
       "</div>"
      ],
      "text/plain": [
       "                          title  \\\n",
       "13938               Monk's Hood   \n",
       "6653          A Taste for Death   \n",
       "8746   The Flesh in the Furnace   \n",
       "4173                       Who?   \n",
       "\n",
       "                                                   genre  \\\n",
       "13938                           {\"/m/02n4kr\": \"Mystery\"}   \n",
       "6653   {\"/m/02n4kr\": \"Mystery\", \"/m/06wkf\": \"Spy fict...   \n",
       "8746   {\"/m/014dfn\": \"Speculative fiction\", \"/m/03npn...   \n",
       "4173   {\"/m/06n90\": \"Science Fiction\", \"/m/014dfn\": \"...   \n",
       "\n",
       "                                                 summary  \\\n",
       "13938   The book is set in the late autumn and winter...   \n",
       "6653    Canadian Dinah Pilgrim (blind since 11) and h...   \n",
       "8746    A puppet master has his hands full when his p...   \n",
       "4173    In the historical development leading up to t...   \n",
       "\n",
       "                  standard_genre  \n",
       "13938                   thriller  \n",
       "6653                    thriller  \n",
       "8746                      horror  \n",
       "4173   fantasy & science fiction  "
      ]
     },
     "execution_count": 33,
     "metadata": {},
     "output_type": "execute_result"
    }
   ],
   "source": [
    "fiction.sample(4)"
   ]
  },
  {
   "cell_type": "code",
   "execution_count": 34,
   "id": "a6587515",
   "metadata": {},
   "outputs": [
    {
     "data": {
      "text/plain": [
       "standard_genre\n",
       "fantasy & science fiction    4546\n",
       "literary fiction             2819\n",
       "thriller                     2056\n",
       "children literature           929\n",
       "historical novel              873\n",
       "horror                        590\n",
       "comedy                        231\n",
       "romance novel                 204\n",
       "true crime                     13\n",
       "poetry                         12\n",
       "ergodic                         2\n",
       "Name: count, dtype: int64"
      ]
     },
     "execution_count": 34,
     "metadata": {},
     "output_type": "execute_result"
    }
   ],
   "source": [
    "fiction.standard_genre.value_counts()"
   ]
  },
  {
   "cell_type": "code",
   "execution_count": 35,
   "id": "8fdb2383",
   "metadata": {},
   "outputs": [
    {
     "data": {
      "text/plain": [
       "(12275, 4)"
      ]
     },
     "execution_count": 35,
     "metadata": {},
     "output_type": "execute_result"
    }
   ],
   "source": [
    "fiction.shape"
   ]
  },
  {
   "cell_type": "code",
   "execution_count": 36,
   "id": "63072653",
   "metadata": {},
   "outputs": [
    {
     "data": {
      "text/plain": [
       "(12248, 4)"
      ]
     },
     "execution_count": 36,
     "metadata": {},
     "output_type": "execute_result"
    }
   ],
   "source": [
    "# We'll drop the \"true crime\", \"ergodic\" and \"poetry\" books because there aren't many samples of each.\n",
    "\n",
    "novel = fiction[~fiction['standard_genre'].isin(['true crime', 'ergodic', 'poetry'])]\n",
    "novel.shape"
   ]
  },
  {
   "cell_type": "code",
   "execution_count": 37,
   "id": "194a961f",
   "metadata": {
    "scrolled": true
   },
   "outputs": [
    {
     "data": {
      "text/plain": [
       "standard_genre\n",
       "fantasy & science fiction    4546\n",
       "literary fiction             2819\n",
       "thriller                     2056\n",
       "children literature           929\n",
       "historical novel              873\n",
       "horror                        590\n",
       "comedy                        231\n",
       "romance novel                 204\n",
       "Name: count, dtype: int64"
      ]
     },
     "execution_count": 37,
     "metadata": {},
     "output_type": "execute_result"
    }
   ],
   "source": [
    "novel.standard_genre.value_counts()"
   ]
  },
  {
   "cell_type": "markdown",
   "id": "694c5e5b",
   "metadata": {},
   "source": [
    "I'll drop the category of 'children literature' because it really doesn't give us information about the topic, \n",
    "but rather the age of the target readers."
   ]
  },
  {
   "cell_type": "code",
   "execution_count": 38,
   "id": "97f94ca8",
   "metadata": {},
   "outputs": [
    {
     "data": {
      "text/plain": [
       "(11319, 4)"
      ]
     },
     "execution_count": 38,
     "metadata": {},
     "output_type": "execute_result"
    }
   ],
   "source": [
    "adults = novel[~novel['standard_genre'].isin(['children literature'])]\n",
    "adults.shape"
   ]
  },
  {
   "cell_type": "code",
   "execution_count": 39,
   "id": "87064138",
   "metadata": {},
   "outputs": [
    {
     "data": {
      "text/plain": [
       "standard_genre\n",
       "fantasy & science fiction    4546\n",
       "literary fiction             2819\n",
       "thriller                     2056\n",
       "historical novel              873\n",
       "horror                        590\n",
       "comedy                        231\n",
       "romance novel                 204\n",
       "Name: count, dtype: int64"
      ]
     },
     "execution_count": 39,
     "metadata": {},
     "output_type": "execute_result"
    }
   ],
   "source": [
    "adults_count = adults.standard_genre.value_counts()\n",
    "adults_count"
   ]
  },
  {
   "cell_type": "code",
   "execution_count": 40,
   "id": "58a8ae27",
   "metadata": {},
   "outputs": [
    {
     "data": {
      "text/html": [
       "<div>\n",
       "<style scoped>\n",
       "    .dataframe tbody tr th:only-of-type {\n",
       "        vertical-align: middle;\n",
       "    }\n",
       "\n",
       "    .dataframe tbody tr th {\n",
       "        vertical-align: top;\n",
       "    }\n",
       "\n",
       "    .dataframe thead th {\n",
       "        text-align: right;\n",
       "    }\n",
       "</style>\n",
       "<table border=\"1\" class=\"dataframe\">\n",
       "  <thead>\n",
       "    <tr style=\"text-align: right;\">\n",
       "      <th></th>\n",
       "      <th>title</th>\n",
       "      <th>genre</th>\n",
       "      <th>summary</th>\n",
       "      <th>standard_genre</th>\n",
       "    </tr>\n",
       "  </thead>\n",
       "  <tbody>\n",
       "    <tr>\n",
       "      <th>9907</th>\n",
       "      <td>Passage to Pluto</td>\n",
       "      <td>{\"/m/06n90\": \"Science Fiction\"}</td>\n",
       "      <td>Chris Godfrey is now deputy-director of UNEXA...</td>\n",
       "      <td>fantasy &amp; science fiction</td>\n",
       "    </tr>\n",
       "    <tr>\n",
       "      <th>13011</th>\n",
       "      <td>Oceanic</td>\n",
       "      <td>{\"/m/06n90\": \"Science Fiction\"}</td>\n",
       "      <td>The story follows Martin, a Freelander living...</td>\n",
       "      <td>fantasy &amp; science fiction</td>\n",
       "    </tr>\n",
       "    <tr>\n",
       "      <th>7398</th>\n",
       "      <td>Across the Sea of Suns</td>\n",
       "      <td>{\"/m/03lrw\": \"Hard science fiction\", \"/m/06n90...</td>\n",
       "      <td>Radio astronomy on the Moon in 2021 reveals t...</td>\n",
       "      <td>fantasy &amp; science fiction</td>\n",
       "    </tr>\n",
       "  </tbody>\n",
       "</table>\n",
       "</div>"
      ],
      "text/plain": [
       "                        title  \\\n",
       "9907         Passage to Pluto   \n",
       "13011                 Oceanic   \n",
       "7398   Across the Sea of Suns   \n",
       "\n",
       "                                                   genre  \\\n",
       "9907                     {\"/m/06n90\": \"Science Fiction\"}   \n",
       "13011                    {\"/m/06n90\": \"Science Fiction\"}   \n",
       "7398   {\"/m/03lrw\": \"Hard science fiction\", \"/m/06n90...   \n",
       "\n",
       "                                                 summary  \\\n",
       "9907    Chris Godfrey is now deputy-director of UNEXA...   \n",
       "13011   The story follows Martin, a Freelander living...   \n",
       "7398    Radio astronomy on the Moon in 2021 reveals t...   \n",
       "\n",
       "                  standard_genre  \n",
       "9907   fantasy & science fiction  \n",
       "13011  fantasy & science fiction  \n",
       "7398   fantasy & science fiction  "
      ]
     },
     "execution_count": 40,
     "metadata": {},
     "output_type": "execute_result"
    }
   ],
   "source": [
    "adults.sample(3)"
   ]
  },
  {
   "cell_type": "code",
   "execution_count": 41,
   "id": "df510b95",
   "metadata": {},
   "outputs": [],
   "source": [
    "# I create a function to clean the standard_genre of 'fantasy & science fiction'.\n",
    "\n",
    "def fant_sci(string):\n",
    "    sci_fi_keywords = ['dystopia', 'cyberpunk', 'steampunk', 'alien invasion', 'apocalyptic']\n",
    "    \n",
    "    genre_lower = string.lower()\n",
    "\n",
    "    if any(keyword in genre_lower for keyword in sci_fi_keywords):\n",
    "        return 'science fiction'\n",
    "    elif 'fantasy' in genre_lower and 'science fiction' not in genre_lower:\n",
    "        return 'fantasy'\n",
    "    elif 'science fiction' in genre_lower and 'fantasy' not in genre_lower:\n",
    "        return 'science fiction'\n",
    "    else:\n",
    "        return 'fantasy & science fiction'"
   ]
  },
  {
   "cell_type": "code",
   "execution_count": 42,
   "id": "17dde948",
   "metadata": {},
   "outputs": [
    {
     "data": {
      "text/html": [
       "<div>\n",
       "<style scoped>\n",
       "    .dataframe tbody tr th:only-of-type {\n",
       "        vertical-align: middle;\n",
       "    }\n",
       "\n",
       "    .dataframe tbody tr th {\n",
       "        vertical-align: top;\n",
       "    }\n",
       "\n",
       "    .dataframe thead th {\n",
       "        text-align: right;\n",
       "    }\n",
       "</style>\n",
       "<table border=\"1\" class=\"dataframe\">\n",
       "  <thead>\n",
       "    <tr style=\"text-align: right;\">\n",
       "      <th></th>\n",
       "      <th>title</th>\n",
       "      <th>genre</th>\n",
       "      <th>summary</th>\n",
       "      <th>standard_genre</th>\n",
       "    </tr>\n",
       "  </thead>\n",
       "  <tbody>\n",
       "    <tr>\n",
       "      <th>7931</th>\n",
       "      <td>Kaaterskill Falls</td>\n",
       "      <td>{\"/m/02xlf\": \"Fiction\", \"/m/05hgj\": \"Novel\"}</td>\n",
       "      <td>Kaaterskill Falls spans two years (summer 197...</td>\n",
       "      <td>literary fiction</td>\n",
       "    </tr>\n",
       "    <tr>\n",
       "      <th>14216</th>\n",
       "      <td>Ransom My Heart</td>\n",
       "      <td>{\"/m/03mfnf\": \"Young adult literature\"}</td>\n",
       "      <td>When the feisty but beautiful maiden Finnula ...</td>\n",
       "      <td>literary fiction</td>\n",
       "    </tr>\n",
       "    <tr>\n",
       "      <th>2883</th>\n",
       "      <td>Pigs in Heaven</td>\n",
       "      <td>{\"/m/02xlf\": \"Fiction\", \"/m/05hgj\": \"Novel\"}</td>\n",
       "      <td>This novel begins two years after the events ...</td>\n",
       "      <td>literary fiction</td>\n",
       "    </tr>\n",
       "    <tr>\n",
       "      <th>1937</th>\n",
       "      <td>Idoru</td>\n",
       "      <td>{\"/m/01qpc\": \"Cyberpunk\", \"/m/06n90\": \"Science...</td>\n",
       "      <td>In the post Tokyo/San Francisco earthquake wo...</td>\n",
       "      <td>science fiction</td>\n",
       "    </tr>\n",
       "    <tr>\n",
       "      <th>6225</th>\n",
       "      <td>Toxin</td>\n",
       "      <td>{\"/m/01jfsb\": \"Thriller\", \"/m/05hgj\": \"Novel\",...</td>\n",
       "      <td>The book opens with a scene showing a couple ...</td>\n",
       "      <td>thriller</td>\n",
       "    </tr>\n",
       "  </tbody>\n",
       "</table>\n",
       "</div>"
      ],
      "text/plain": [
       "                   title                                              genre  \\\n",
       "7931   Kaaterskill Falls       {\"/m/02xlf\": \"Fiction\", \"/m/05hgj\": \"Novel\"}   \n",
       "14216    Ransom My Heart            {\"/m/03mfnf\": \"Young adult literature\"}   \n",
       "2883      Pigs in Heaven       {\"/m/02xlf\": \"Fiction\", \"/m/05hgj\": \"Novel\"}   \n",
       "1937               Idoru  {\"/m/01qpc\": \"Cyberpunk\", \"/m/06n90\": \"Science...   \n",
       "6225               Toxin  {\"/m/01jfsb\": \"Thriller\", \"/m/05hgj\": \"Novel\",...   \n",
       "\n",
       "                                                 summary    standard_genre  \n",
       "7931    Kaaterskill Falls spans two years (summer 197...  literary fiction  \n",
       "14216   When the feisty but beautiful maiden Finnula ...  literary fiction  \n",
       "2883    This novel begins two years after the events ...  literary fiction  \n",
       "1937    In the post Tokyo/San Francisco earthquake wo...   science fiction  \n",
       "6225    The book opens with a scene showing a couple ...          thriller  "
      ]
     },
     "execution_count": 42,
     "metadata": {},
     "output_type": "execute_result"
    }
   ],
   "source": [
    "fant_mask = adults['standard_genre'] == 'fantasy & science fiction'\n",
    "adults.loc[fant_mask, 'standard_genre'] = adults.loc[fant_mask, 'genre'].apply(fant_sci)\n",
    "adults.sample(5)"
   ]
  },
  {
   "cell_type": "code",
   "execution_count": 43,
   "id": "4ae64c28",
   "metadata": {},
   "outputs": [
    {
     "data": {
      "text/plain": [
       "standard_genre\n",
       "literary fiction             2819\n",
       "science fiction              2302\n",
       "thriller                     2056\n",
       "fantasy                      1695\n",
       "historical novel              873\n",
       "horror                        590\n",
       "fantasy & science fiction     549\n",
       "comedy                        231\n",
       "romance novel                 204\n",
       "Name: count, dtype: int64"
      ]
     },
     "execution_count": 43,
     "metadata": {},
     "output_type": "execute_result"
    }
   ],
   "source": [
    "adults_count = adults.standard_genre.value_counts()\n",
    "adults_count"
   ]
  },
  {
   "cell_type": "code",
   "execution_count": 44,
   "id": "8838f681",
   "metadata": {},
   "outputs": [
    {
     "data": {
      "text/html": [
       "<div>\n",
       "<style scoped>\n",
       "    .dataframe tbody tr th:only-of-type {\n",
       "        vertical-align: middle;\n",
       "    }\n",
       "\n",
       "    .dataframe tbody tr th {\n",
       "        vertical-align: top;\n",
       "    }\n",
       "\n",
       "    .dataframe thead th {\n",
       "        text-align: right;\n",
       "    }\n",
       "</style>\n",
       "<table border=\"1\" class=\"dataframe\">\n",
       "  <thead>\n",
       "    <tr style=\"text-align: right;\">\n",
       "      <th></th>\n",
       "      <th>title</th>\n",
       "      <th>genre</th>\n",
       "      <th>summary</th>\n",
       "      <th>standard_genre</th>\n",
       "    </tr>\n",
       "  </thead>\n",
       "  <tbody>\n",
       "    <tr>\n",
       "      <th>1</th>\n",
       "      <td>A Clockwork Orange</td>\n",
       "      <td>{\"/m/06n90\": \"Science Fiction\", \"/m/0l67h\": \"N...</td>\n",
       "      <td>Alex, a teenager living in near-future Englan...</td>\n",
       "      <td>science fiction</td>\n",
       "    </tr>\n",
       "    <tr>\n",
       "      <th>2</th>\n",
       "      <td>The Plague</td>\n",
       "      <td>{\"/m/02m4t\": \"Existentialism\", \"/m/02xlf\": \"Fi...</td>\n",
       "      <td>The text of The Plague is divided into five p...</td>\n",
       "      <td>literary fiction</td>\n",
       "    </tr>\n",
       "    <tr>\n",
       "      <th>5</th>\n",
       "      <td>All Quiet on the Western Front</td>\n",
       "      <td>{\"/m/098tmk\": \"War novel\", \"/m/016lj8\": \"Roman...</td>\n",
       "      <td>The book tells the story of Paul Bäumer, a Ge...</td>\n",
       "      <td>literary fiction</td>\n",
       "    </tr>\n",
       "    <tr>\n",
       "      <th>6</th>\n",
       "      <td>A Wizard of Earthsea</td>\n",
       "      <td>{\"/m/0dwly\": \"Children's literature\", \"/m/01hm...</td>\n",
       "      <td>Ged is a young boy on Gont, one of the larger...</td>\n",
       "      <td>fantasy</td>\n",
       "    </tr>\n",
       "  </tbody>\n",
       "</table>\n",
       "</div>"
      ],
      "text/plain": [
       "                            title  \\\n",
       "1              A Clockwork Orange   \n",
       "2                      The Plague   \n",
       "5  All Quiet on the Western Front   \n",
       "6            A Wizard of Earthsea   \n",
       "\n",
       "                                               genre  \\\n",
       "1  {\"/m/06n90\": \"Science Fiction\", \"/m/0l67h\": \"N...   \n",
       "2  {\"/m/02m4t\": \"Existentialism\", \"/m/02xlf\": \"Fi...   \n",
       "5  {\"/m/098tmk\": \"War novel\", \"/m/016lj8\": \"Roman...   \n",
       "6  {\"/m/0dwly\": \"Children's literature\", \"/m/01hm...   \n",
       "\n",
       "                                             summary    standard_genre  \n",
       "1   Alex, a teenager living in near-future Englan...   science fiction  \n",
       "2   The text of The Plague is divided into five p...  literary fiction  \n",
       "5   The book tells the story of Paul Bäumer, a Ge...  literary fiction  \n",
       "6   Ged is a young boy on Gont, one of the larger...           fantasy  "
      ]
     },
     "execution_count": 44,
     "metadata": {},
     "output_type": "execute_result"
    }
   ],
   "source": [
    "# I drop the three lasts genres (the ones that have less data).\n",
    "# I want to keep less categories for efficiency purposes or for computer expenses when training.\n",
    "\n",
    "six_genres = adults[~adults['standard_genre'].isin(['fantasy & science fiction', 'comedy', 'romance novel'])]\n",
    "six_genres.head(4)"
   ]
  },
  {
   "cell_type": "code",
   "execution_count": 45,
   "id": "f99bd9d5",
   "metadata": {},
   "outputs": [
    {
     "data": {
      "text/plain": [
       "standard_genre\n",
       "literary fiction    2819\n",
       "science fiction     2302\n",
       "thriller            2056\n",
       "fantasy             1695\n",
       "historical novel     873\n",
       "horror               590\n",
       "Name: count, dtype: int64"
      ]
     },
     "execution_count": 45,
     "metadata": {},
     "output_type": "execute_result"
    }
   ],
   "source": [
    "six_count = six_genres.standard_genre.value_counts()\n",
    "six_count"
   ]
  },
  {
   "cell_type": "code",
   "execution_count": 46,
   "id": "225a6deb",
   "metadata": {},
   "outputs": [
    {
     "data": {
      "image/png": "[encoded data removed]",
      "text/plain": [
       "<Figure size 800x600 with 1 Axes>"
      ]
     },
     "metadata": {},
     "output_type": "display_data"
    }
   ],
   "source": [
    "# I'm going to plot the count for each book genre.\n",
    "\n",
    "# Set the figsize parameter to control the size of the figure\n",
    "plt.figure(figsize=(8, 6))\n",
    "\n",
    "six_count.plot(kind='bar', color=['blue', 'green', 'red', 'purple', 'orange', 'yellow'])\n",
    "plt.xlabel('Genre')\n",
    "plt.ylabel('Count')\n",
    "plt.title('Count of Book Genres')\n",
    "plt.xticks(rotation=45) \n",
    "plt.show()"
   ]
  },
  {
   "cell_type": "code",
   "execution_count": 47,
   "id": "156d9048",
   "metadata": {},
   "outputs": [
    {
     "data": {
      "text/plain": [
       "(10335, 4)"
      ]
     },
     "execution_count": 47,
     "metadata": {},
     "output_type": "execute_result"
    }
   ],
   "source": [
    "six_genres.shape"
   ]
  },
  {
   "cell_type": "code",
   "execution_count": 48,
   "id": "6b6db33e",
   "metadata": {},
   "outputs": [
    {
     "data": {
      "text/html": [
       "<div>\n",
       "<style scoped>\n",
       "    .dataframe tbody tr th:only-of-type {\n",
       "        vertical-align: middle;\n",
       "    }\n",
       "\n",
       "    .dataframe tbody tr th {\n",
       "        vertical-align: top;\n",
       "    }\n",
       "\n",
       "    .dataframe thead th {\n",
       "        text-align: right;\n",
       "    }\n",
       "</style>\n",
       "<table border=\"1\" class=\"dataframe\">\n",
       "  <thead>\n",
       "    <tr style=\"text-align: right;\">\n",
       "      <th></th>\n",
       "      <th>title</th>\n",
       "      <th>genre</th>\n",
       "      <th>summary</th>\n",
       "      <th>standard_genre</th>\n",
       "    </tr>\n",
       "  </thead>\n",
       "  <tbody>\n",
       "    <tr>\n",
       "      <th>7051</th>\n",
       "      <td>The Wheels of Chance</td>\n",
       "      <td>{\"/m/06n90\": \"Science Fiction\", \"/m/01z4y\": \"C...</td>\n",
       "      <td>The Wheels of Chance was written at the heigh...</td>\n",
       "      <td>science fiction</td>\n",
       "    </tr>\n",
       "    <tr>\n",
       "      <th>1976</th>\n",
       "      <td>Thrilling Cities</td>\n",
       "      <td>{\"/m/04z2hx\": \"Travel literature\"}</td>\n",
       "      <td>Thrilling Cities is Ian Fleming's view of thi...</td>\n",
       "      <td>literary fiction</td>\n",
       "    </tr>\n",
       "  </tbody>\n",
       "</table>\n",
       "</div>"
      ],
      "text/plain": [
       "                     title                                              genre  \\\n",
       "7051  The Wheels of Chance  {\"/m/06n90\": \"Science Fiction\", \"/m/01z4y\": \"C...   \n",
       "1976      Thrilling Cities                 {\"/m/04z2hx\": \"Travel literature\"}   \n",
       "\n",
       "                                                summary    standard_genre  \n",
       "7051   The Wheels of Chance was written at the heigh...   science fiction  \n",
       "1976   Thrilling Cities is Ian Fleming's view of thi...  literary fiction  "
      ]
     },
     "execution_count": 48,
     "metadata": {},
     "output_type": "execute_result"
    }
   ],
   "source": [
    "six_genres.sample(2)"
   ]
  },
  {
   "cell_type": "code",
   "execution_count": 49,
   "id": "45681368",
   "metadata": {},
   "outputs": [],
   "source": [
    "six = six_genres.drop(columns='genre')"
   ]
  },
  {
   "cell_type": "code",
   "execution_count": 50,
   "id": "f3190e35",
   "metadata": {},
   "outputs": [
    {
     "data": {
      "text/html": [
       "<div>\n",
       "<style scoped>\n",
       "    .dataframe tbody tr th:only-of-type {\n",
       "        vertical-align: middle;\n",
       "    }\n",
       "\n",
       "    .dataframe tbody tr th {\n",
       "        vertical-align: top;\n",
       "    }\n",
       "\n",
       "    .dataframe thead th {\n",
       "        text-align: right;\n",
       "    }\n",
       "</style>\n",
       "<table border=\"1\" class=\"dataframe\">\n",
       "  <thead>\n",
       "    <tr style=\"text-align: right;\">\n",
       "      <th></th>\n",
       "      <th>title</th>\n",
       "      <th>summary</th>\n",
       "      <th>standard_genre</th>\n",
       "    </tr>\n",
       "  </thead>\n",
       "  <tbody>\n",
       "    <tr>\n",
       "      <th>2367</th>\n",
       "      <td>Celebrated Cases of Judge Dee</td>\n",
       "      <td>There are three cases in this book. The first...</td>\n",
       "      <td>thriller</td>\n",
       "    </tr>\n",
       "    <tr>\n",
       "      <th>9845</th>\n",
       "      <td>Not in the Flesh</td>\n",
       "      <td>Searching for truffles in a wood, a man and h...</td>\n",
       "      <td>thriller</td>\n",
       "    </tr>\n",
       "    <tr>\n",
       "      <th>15449</th>\n",
       "      <td>The Rose in Splendour: a Story of the Wars of ...</td>\n",
       "      <td>The novel is set in England over a period of ...</td>\n",
       "      <td>historical novel</td>\n",
       "    </tr>\n",
       "    <tr>\n",
       "      <th>350</th>\n",
       "      <td>The Legend of Sleepy Hollow</td>\n",
       "      <td>\"From the listless repose of the place, and t...</td>\n",
       "      <td>literary fiction</td>\n",
       "    </tr>\n",
       "  </tbody>\n",
       "</table>\n",
       "</div>"
      ],
      "text/plain": [
       "                                                   title  \\\n",
       "2367                       Celebrated Cases of Judge Dee   \n",
       "9845                                    Not in the Flesh   \n",
       "15449  The Rose in Splendour: a Story of the Wars of ...   \n",
       "350                          The Legend of Sleepy Hollow   \n",
       "\n",
       "                                                 summary    standard_genre  \n",
       "2367    There are three cases in this book. The first...          thriller  \n",
       "9845    Searching for truffles in a wood, a man and h...          thriller  \n",
       "15449   The novel is set in England over a period of ...  historical novel  \n",
       "350     \"From the listless repose of the place, and t...  literary fiction  "
      ]
     },
     "execution_count": 50,
     "metadata": {},
     "output_type": "execute_result"
    }
   ],
   "source": [
    "six.sample(4)"
   ]
  },
  {
   "cell_type": "code",
   "execution_count": 51,
   "id": "5e2a73c5",
   "metadata": {},
   "outputs": [
    {
     "data": {
      "text/html": [
       "<div>\n",
       "<style scoped>\n",
       "    .dataframe tbody tr th:only-of-type {\n",
       "        vertical-align: middle;\n",
       "    }\n",
       "\n",
       "    .dataframe tbody tr th {\n",
       "        vertical-align: top;\n",
       "    }\n",
       "\n",
       "    .dataframe thead th {\n",
       "        text-align: right;\n",
       "    }\n",
       "</style>\n",
       "<table border=\"1\" class=\"dataframe\">\n",
       "  <thead>\n",
       "    <tr style=\"text-align: right;\">\n",
       "      <th></th>\n",
       "      <th>title</th>\n",
       "      <th>summary</th>\n",
       "      <th>genre</th>\n",
       "    </tr>\n",
       "  </thead>\n",
       "  <tbody>\n",
       "    <tr>\n",
       "      <th>1</th>\n",
       "      <td>A Clockwork Orange</td>\n",
       "      <td>Alex, a teenager living in near-future Englan...</td>\n",
       "      <td>science fiction</td>\n",
       "    </tr>\n",
       "    <tr>\n",
       "      <th>2</th>\n",
       "      <td>The Plague</td>\n",
       "      <td>The text of The Plague is divided into five p...</td>\n",
       "      <td>literary fiction</td>\n",
       "    </tr>\n",
       "  </tbody>\n",
       "</table>\n",
       "</div>"
      ],
      "text/plain": [
       "                title                                            summary  \\\n",
       "1  A Clockwork Orange   Alex, a teenager living in near-future Englan...   \n",
       "2          The Plague   The text of The Plague is divided into five p...   \n",
       "\n",
       "              genre  \n",
       "1   science fiction  \n",
       "2  literary fiction  "
      ]
     },
     "execution_count": 51,
     "metadata": {},
     "output_type": "execute_result"
    }
   ],
   "source": [
    "six.rename(columns={'standard_genre': 'genre'}, inplace=True)\n",
    "six.head(2)"
   ]
  },
  {
   "cell_type": "markdown",
   "id": "75336058",
   "metadata": {},
   "source": [
    "#### 5.2. I import a new dataset to increase my book genre samples."
   ]
  },
  {
   "cell_type": "code",
   "execution_count": 52,
   "id": "a543cfff",
   "metadata": {},
   "outputs": [
    {
     "data": {
      "text/html": [
       "<div>\n",
       "<style scoped>\n",
       "    .dataframe tbody tr th:only-of-type {\n",
       "        vertical-align: middle;\n",
       "    }\n",
       "\n",
       "    .dataframe tbody tr th {\n",
       "        vertical-align: top;\n",
       "    }\n",
       "\n",
       "    .dataframe thead th {\n",
       "        text-align: right;\n",
       "    }\n",
       "</style>\n",
       "<table border=\"1\" class=\"dataframe\">\n",
       "  <thead>\n",
       "    <tr style=\"text-align: right;\">\n",
       "      <th></th>\n",
       "      <th>index</th>\n",
       "      <th>title</th>\n",
       "      <th>genre</th>\n",
       "      <th>summary</th>\n",
       "    </tr>\n",
       "  </thead>\n",
       "  <tbody>\n",
       "    <tr>\n",
       "      <th>0</th>\n",
       "      <td>0</td>\n",
       "      <td>Drowned Wednesday</td>\n",
       "      <td>fantasy</td>\n",
       "      <td>Drowned Wednesday is the first Trustee among ...</td>\n",
       "    </tr>\n",
       "    <tr>\n",
       "      <th>1</th>\n",
       "      <td>1</td>\n",
       "      <td>The Lost Hero</td>\n",
       "      <td>fantasy</td>\n",
       "      <td>As the book opens, Jason awakens on a school ...</td>\n",
       "    </tr>\n",
       "    <tr>\n",
       "      <th>2</th>\n",
       "      <td>2</td>\n",
       "      <td>The Eyes of the Overworld</td>\n",
       "      <td>fantasy</td>\n",
       "      <td>Cugel is easily persuaded by the merchant Fia...</td>\n",
       "    </tr>\n",
       "    <tr>\n",
       "      <th>3</th>\n",
       "      <td>3</td>\n",
       "      <td>Magic's Promise</td>\n",
       "      <td>fantasy</td>\n",
       "      <td>The book opens with Herald-Mage Vanyel return...</td>\n",
       "    </tr>\n",
       "    <tr>\n",
       "      <th>4</th>\n",
       "      <td>4</td>\n",
       "      <td>Taran Wanderer</td>\n",
       "      <td>fantasy</td>\n",
       "      <td>Taran and Gurgi have returned to Caer Dallben...</td>\n",
       "    </tr>\n",
       "  </tbody>\n",
       "</table>\n",
       "</div>"
      ],
      "text/plain": [
       "   index                      title    genre  \\\n",
       "0      0          Drowned Wednesday  fantasy   \n",
       "1      1              The Lost Hero  fantasy   \n",
       "2      2  The Eyes of the Overworld  fantasy   \n",
       "3      3            Magic's Promise  fantasy   \n",
       "4      4             Taran Wanderer  fantasy   \n",
       "\n",
       "                                             summary  \n",
       "0   Drowned Wednesday is the first Trustee among ...  \n",
       "1   As the book opens, Jason awakens on a school ...  \n",
       "2   Cugel is easily persuaded by the merchant Fia...  \n",
       "3   The book opens with Herald-Mage Vanyel return...  \n",
       "4   Taran and Gurgi have returned to Caer Dallben...  "
      ]
     },
     "execution_count": 52,
     "metadata": {},
     "output_type": "execute_result"
    }
   ],
   "source": [
    "books = pd.read_csv(\"/Users/usuari/Desktop/Ironhack/BOOTCAMP/projects/final_project/data/more_books.csv\")\n",
    "books.head(5)"
   ]
  },
  {
   "cell_type": "code",
   "execution_count": 53,
   "id": "2b70f864",
   "metadata": {},
   "outputs": [
    {
     "data": {
      "text/plain": [
       "genre\n",
       "thriller      1023\n",
       "fantasy        876\n",
       "science        647\n",
       "history        600\n",
       "horror         600\n",
       "crime          500\n",
       "romance        111\n",
       "psychology     100\n",
       "sports         100\n",
       "travel         100\n",
       "Name: count, dtype: int64"
      ]
     },
     "execution_count": 53,
     "metadata": {},
     "output_type": "execute_result"
    }
   ],
   "source": [
    "books.genre.value_counts()"
   ]
  },
  {
   "cell_type": "code",
   "execution_count": 54,
   "id": "c652c7ae",
   "metadata": {},
   "outputs": [
    {
     "data": {
      "text/plain": [
       "(4657, 3)"
      ]
     },
     "execution_count": 54,
     "metadata": {},
     "output_type": "execute_result"
    }
   ],
   "source": [
    "books = books.drop(columns='index')\n",
    "books.shape"
   ]
  },
  {
   "cell_type": "code",
   "execution_count": 55,
   "id": "9e6a4a3d",
   "metadata": {},
   "outputs": [
    {
     "data": {
      "text/html": [
       "<div>\n",
       "<style scoped>\n",
       "    .dataframe tbody tr th:only-of-type {\n",
       "        vertical-align: middle;\n",
       "    }\n",
       "\n",
       "    .dataframe tbody tr th {\n",
       "        vertical-align: top;\n",
       "    }\n",
       "\n",
       "    .dataframe thead th {\n",
       "        text-align: right;\n",
       "    }\n",
       "</style>\n",
       "<table border=\"1\" class=\"dataframe\">\n",
       "  <thead>\n",
       "    <tr style=\"text-align: right;\">\n",
       "      <th></th>\n",
       "      <th>title</th>\n",
       "      <th>genre</th>\n",
       "      <th>summary</th>\n",
       "    </tr>\n",
       "  </thead>\n",
       "  <tbody>\n",
       "    <tr>\n",
       "      <th>1500</th>\n",
       "      <td>Smuggler's Moon</td>\n",
       "      <td>history</td>\n",
       "      <td>Sir John and Jeremy are sent to East Anglia t...</td>\n",
       "    </tr>\n",
       "    <tr>\n",
       "      <th>1501</th>\n",
       "      <td>An Experiment In Treason</td>\n",
       "      <td>history</td>\n",
       "      <td>A pack of confidential letters is stolen from...</td>\n",
       "    </tr>\n",
       "    <tr>\n",
       "      <th>1502</th>\n",
       "      <td>War and Peace</td>\n",
       "      <td>history</td>\n",
       "      <td>War and Peace has a large cast of characters,...</td>\n",
       "    </tr>\n",
       "    <tr>\n",
       "      <th>1503</th>\n",
       "      <td>The First Sir Percy</td>\n",
       "      <td>history</td>\n",
       "      <td>March 1624 and a lot has happened since the p...</td>\n",
       "    </tr>\n",
       "  </tbody>\n",
       "</table>\n",
       "</div>"
      ],
      "text/plain": [
       "                         title    genre  \\\n",
       "1500           Smuggler's Moon  history   \n",
       "1501  An Experiment In Treason  history   \n",
       "1502             War and Peace  history   \n",
       "1503       The First Sir Percy  history   \n",
       "\n",
       "                                                summary  \n",
       "1500   Sir John and Jeremy are sent to East Anglia t...  \n",
       "1501   A pack of confidential letters is stolen from...  \n",
       "1502   War and Peace has a large cast of characters,...  \n",
       "1503   March 1624 and a lot has happened since the p...  "
      ]
     },
     "execution_count": 55,
     "metadata": {},
     "output_type": "execute_result"
    }
   ],
   "source": [
    "# I want to check if in this new dataset, the books classified as 'history' are essays or historical novels.\n",
    "\n",
    "hist = books[books['genre'] == 'history']\n",
    "hist.head(4)"
   ]
  },
  {
   "cell_type": "code",
   "execution_count": 56,
   "id": "316c3125",
   "metadata": {},
   "outputs": [
    {
     "data": {
      "text/plain": [
       "[' The story starts before the French revolution. It\\'s 1783 and wealthy Paul Déroulède has offended the young Vicomte de Marny by speaking disrepctfully of his latest infatuation, Adèle de Monterchéri. Déroulède had not intended to get into the quarrel but has a tendency to blunder into things -- \"no doubt a part of the inheritance bequeathed to him by his bourgeois ancestry.\" Incensed at the slur on Adèle, whom he sees as a paragon of virtue, the Vicomte challenges Déroulède to a duel, a fight which Déroulède does not want—for he knows and respects the boy\\'s father, the Duc de Marny. Swords drawn, the fight ensues in the centre of the salon but despite his noble lineage, the Vicomte de Marny is no match for Déroulède\\'s swordplay, especially when addled with wine and rage. Déroulède disarms his opponent and having won the duel, draws back but the boy refuses to back down without complete satisfaction and demands that Déroulède get down on his knees and apologize. Finally losing his temper with the young Vicomte, Déroulède raises his sword to disarm his protagonist once more, however de Marny lunges wildly at his opponent\\'s breast and manges to literally throw himself on Déroulède\\'s weapon. The boy is dead and Déroulède can do nothing but leave the establishment. On hearing of the death of his only son, the Duc de Marny (by now a cripple and almost a dotard) is distraught. The Duc summons his fourteen-year-old daughter, Juliette, to his side and forces her to swear an oath to ruin Déroulede in revenge for her brother\\'s death, telling her that her brother\\'s soul will remain in torment until the final judgement day should she break her promise. The story picks up ten years later, and Citizen Déroulède, though no longer rich, is a lawyer popular with the people and is allowed to go his own way, for Marat has said of him \"I\\'ll n\\'est pas dangereux\". He leads a quiet life, living alone with his mother and his orphaned cousin Anne Mie in the Rue Ecole de Médecine. At 6 pm on 19 August 1793, Juliette Marny walks into the Rue Ecole de Médecine and stopping just outside the house belonging to Citizen-Deputy Déroulède, suddenly starts to draw attention to herself, invoking the anger of the crowd through her proud aristocratic manner. She hammers on Déroulède\\'s door as the crowd shout and lash out at her, but just before they can drag her away, the door opens and she is pulled inside. Having tricked her way into Déroulede\\'s home Juliette is invited to stay for her own safety. She agrees and eventually reveals her identity, but even after hearing Déroulede\\'s side of the story, she fails to realise that he only wishes to make amends for the death of her brother and continues to plot revenge on her host. Unaware of her intentions, Déroulede tells Juliette that he has accepted the post of Governor of the Conciergerie prison where the Queen is imprisoned. Later he is visited at home by Sir Percy Blakeney and Juliette overhears Sir Percy warning his friend off a scheme to free Marie Antoinette, for it is doomed to failure. He advises Déroulede to burn a bundle of papers relating to the plot, which if found would result in him being arrested for treason and sentenced to death. Juliette sees her chance and posts a letter denouncing her host, but realises too late that she has failed to take account of the fact that not only has Paul Déroulede fallen madly in love with her, she has also come to love the man she has vowed to destroy. When soldiers arrive to search Déroulede\\'s home, Juliette hides the letter box, then escapes to her room where she attempts to burn it. She places the burnt remains among her belongings, and when the soldiers discover them, they arrest her. Because the search turned up nothing suspicious against Déroulede he is allowed to remain free. During her trial, Juliette keeps to the story that the burnt letterbox contained love letters. However, Déroulede defends his love and admits that the letters are his own and that he has committed treason. Both of them are sentenced to death. The Scarlet Pimpernel and his comrades manage to rescue the condemned couple on their journey from the courthouse to the prison.',\n",
       " \" When a group of Russian anarchists kidnap a Russian prince in Vienna there are repercussions. On learning that the Cardinal d'Orsay has agreed to convey some hollow candlesticks from the Emperor to the Princess Marionoff in St Petersburg, two spies both see the possibility of using them to convey messages safely into Russia. One is an eager young idealist involved in the plot against the prince, the other is Madame Demidoff, a beautiful agent of the Tsar. When the candlesticks go missing at the border, the two engage in a race to get them back, both realizing that their very lives could depend on the retrieval.\",\n",
       " \" The book begins with the birth of both men in 1769 - Arthur as a weak and puny baby, a third son, to a wealthy Anglo-Irish Protestant couple; Naboleone as a healthy second son to a Corsican couple fighting the French for independence. The story continues with the training of both youths as cadet officers, both encountering social and other difficulties thanks to their birth outside the mainland. Arthur's innate conservatism forms as a result of the Gordon riots and his realization that his Anglo-Irish Protestant lifestyle is dependent on maintaining the status quo. Naboleone, on the other hand, is even more of an outsider, a Corsican among Frenchmen, a quasi-noble among pre-revolutionary noblemen, and an impoverished young cadet among those with money to burn. The story ends approximately in 1796, with Arthur having been turned down by the family of his inamorata Kitty Pakenham because of his lack of prospects, and Naboleone, now called Napoleon Bonaparte, mounting a successful attack on Toulon.\",\n",
       " \" Written from the viewpoint of Nathan ('the Thirteenth Disciple'), the heavily footnoted book presents an adventure and romance storyline against the backdrop of the 1st century Roman Empire. Nathan's travels lead him to Rome to fight as a retiarius, and on his return to Palestine to become involved with the Apostles, the Zealots and the Essenes. He loves Shelomith (the disciple Salome, depicted in the novel as a prostitute), who does not return his affections due to her unrequited love for Yeshua (Jesus).\",\n",
       " \" Benedict, known as Bendy, has been apprenticed by his forward-looking father to the printer William Caxton. This infuriates his mean half-brothers who are scriveners and fear that the new-fangled printing press will drive them out of business. They have secretly waylaid the printer's delivery of new paper and are hiding it. Bendy knows about it but is worried about the consequences of telling, especially as his half-brothers may be involved with Lancastrian rebels. Caxton sends Bendy and another apprentice on a quest to find the complete manuscript of Thomas Mallory's stories of King Arthur, but it proves dangerous as others are also on the trail.\",\n",
       " \" Set initially in Bideford in North Devon during the reign of Elizabeth I, Westward Ho! follows the adventures of Amyas Leigh, an unruly child who as a young man follows Francis Drake to sea. Amyas loves local beauty Rose Salterne, as does nearly everyone else. Much of the novel involves the kidnap of Rose by a Spaniard. Amyas spends time in the Caribbean seeking gold, and eventually returns to England at the time of the Spanish Armada, finding his true love, the beautiful Indian maiden Ayacanora, in the process; yet fate had blundered and brought misfortune into Amyas's life, for not only had he been blinded by a freak bolt of lightning at sea, but he also loses his brother Frank Leigh and Rose Salterne, who were caught by the Spaniards and burnt at the stake by the Inquisition.\",\n",
       " \" In the French Lescun during the Second World War, Jo Lalande is a young shepherd who is enjoying his childhood, but when his father goes to fight in the war, Jo has to become the man of the house. After an incident with a bear, Jo meets a mysterious man in the forest. He follows the man to his home and learns his secret - he is a Jew named Benjamin that is responsible for smuggling Jewish children across the border into Spain, and safety, with the help of his mother-in-law (Widow Horcada). Jo starts helping them, and proving that he is one person who can be trusted. When German soldiers move into town, things becomes much more difficult. Although most of the town's inhabitants come to accept the German occupation, the task of getting the Jewish children across the border becomes more dangerous. Jo, his grandfather[Henri], Benjamin and Widow Horcada devise a plan to get the children across. The plan requires the whole town help the children escape, and relies on the German soldiers not noticing what is happening. But if they are caught, their lives will not be worth living... There is only one question left un answered. Where is Anya?\",\n",
       " \" The story is set in Eskibahçe, a small fictional village in southwestern coastal Anatolia during the 1900s, spanning World War I and the era of Turkish nationalism. The Battle of Gallipoli takes place halfway through the novel. Although fiction, the setting of Eskibahçe is based upon Kayaköy (Greek: Levissi Λεβισσι) village near Fethiye, the ruins of which still exist today. Once a thriving Greek village, this town of over one thousand houses, two churches, fourteen chapels, and two schools, was completely deserted in 1923 when the Greek inhabitants living there, along with a vast number of Greeks living throughout Turkey were deported to Greece through a massive government mandated population exchange between the two countries following the Turkish war of independence. Historically, Turks and Greeks had lived together in this region for centuries, the Turks as farmers in the Kaya valley and the Greeks living on the hillside dealing in crafts and trades. A Greek presence in this region goes back for centuries. Since then, the village of Kayakoy, as it is called in Turkish, or Karmylassos, as it was called in Greek, which had been continually inhabited since at least the 13th century, has stood empty and crumbling, with only the breeze from the mountains and mist from the sea blowing through its empty houses and streets. Attempts by the Turkish government to get Turks deported from Greece to inhabit the village failed, and eventually, in the 1950s, the roofs of all the houses were removed. Some of its characters are also present in the author's earlier novel Captain Corelli's Mandolin. The book includes a vivid and detailed description of the horrors of life in the trenches during World War I.\",\n",
       " \" Having crossed the Rubicon (the southern border of one of the provinces he controlled, Cisalpine Gaul) Julius Caesar leads his veterans of the Gallic Wars toward Rome, aware that the dictator Pompey has declared him an enemy of the state and his actions will likely end in Civil War. During the journey, his army encounters mild resistance; however, the legions are no match for veterans of Gaul, and Caesar forces the surrender without a single man being killed. He then pardons the legion - the first of many acts of propaganda in the coming war. The speed of his journey south catches Pompey by surprise, who consequently flees to Greece along with the majority of the Roman Senate. This leaves Rome free for Caesar to enter. He installs Mark Anthony as governor of Rome - much to the disgust of Caesar's lifelong friend Marcus Brutus. Brutus' anger forces him to betray his friend and defect to Pompey, a move which stuns Caesar. Caesar eventually takes his army to Greece to face an increasingly ill Pompey, who has a much larger force with reinforced supply lines and defended towns. As Pompey's illness takes hold, he begins to make mistakes - including missing the chance to rout Caesar's forces following a failed night-raid on a fort, fearing it to be a trap. Eventually the armies meet at the Battle of Pharsalus, with Caesar emerging victor from the jaws of defeat. Caesar finds the injured Brutus and forgives his lifelong friend for his betrayal - much to the anger of his general and nephew Octavian. Pompey flees the field, forcing Caesar to chase him; first to Asia Minor and finally to Alexandria in Egypt. It is here that Caesar is presented with the head of Pompey by representatives of boy-king Ptolemy XIII, much to his anger. While in Egypt, Caesar is introduced to Cleopatra, queen of Egypt and sister of the king. She asks him for help in returning her to the throne after Ptolemy's advisors had her banished. Caesar raids the royal palace and captures the king, returning him to a defended house. He then engages in a romance with his ally Cleopatra. They then make a number of demands in return for the release of her brother. When Ptolemy is released he immediately unleashes his army on the house, besieging Caesar's army. Caesar breaks the siege, by starting a fire in Alexandria port as a distraction, and Ptolemy and his advisors are killed. Cleopatra and Caesar have a son together, Ptolemy Caesarion. Caesar takes them back to Rome, and begins to announce his plans to create an Empire and rule the world as king. This does not sit well with the Roman public, who were promised a reintroduction of the Roman Republic after the years of dictatorship following Cornelius Sulla and Pompey. Most unhappy with this change in heart is Brutus, who joins a plot to have the Rex(They were afraid he would be another rex) killed. At this time, Caesar had been planning a campaign in Parthia in an attempt to expand the Roman lands and in a small way to possibly avenge the death of the old Consul Crassus, who had been a possible friend and a major character in The Death of Kings and The Field of Swords. Crassus had died whilst commanding a legion Caesar and Pompey had trained for him. On the Ides of March Caesar is led to the Theatre of Pompey, and is assassinated by many of the Senators and Marcus Brutus. The date had been prophesized as his death by his companion Cabera in The Field of Swords shortly before he died.\",\n",
       " \" In relation to Pride and Prejudice, on which the novel is based, Duty and Desire takes place between Darcy's initial leaving of Hertfordshire and his reappearance in Prides narrative at Rosings Park. Following on from the events of An Assembly Such as This, the novel opens with Fitzwilliam Darcy preparing for the Christmas season with his extended family. Several events have conspired to trouble him, however; as well as his ongoing self-examination of his romantic feelings towards Elizabeth Bennet (who does not appear in the novel, but remains a significant background presence throughout), his sister Georgiana is swiftly recovering from her ill-treatment at the hands of George Wickham by embracing an interest in religion, something encouraged by her new governess Mrs. Annesley but which bemuses and troubles Darcy. Furthermore, Darcy's well-meaning attempts to dissuade his friend Charles Bingley from what Darcy sees as his ill-fated and unrequited romance with Elizabeth's sister Jane are forcing Darcy to resort to underhanded and deceitful tactics that Darcy considers unworthy of himself. Darcy finally decides that he needs a wife, and resolves to find a woman like Elizabeth Bennet from within his own social sphere, thus banishing any lingering feelings he has for her. To that end, he accepts the invitation of Lord Sayre, an old university friend for a week's stay at Sayre's family estate, Norwycke Castle, hoping to find a suitable wife amongst the party gathered there. Accompanied by his loyal valet Fletcher, he soon discovers that the members of the party he is joining are scheming, unscrupulous and not entirely what they seem, and that Sayre himself is a gambling addict who has almost gambled away his entire family estate. Despite this, he finds himself almost drawn with unusual passion to Sayre's disliked half-sister, Lady Sylvanie, who appears to share many of Elizabeth Bennet's charms and characteristics. During Darcy's stay at Norwycke, however, numerous unusual and increasingly sinister events begin to occur; many of Darcy's possessions are stolen or interfered with within his room, the ritualistically slain body of a baby pig is found at a nearby collection of stones imbued with great supernatural and superstitious importance by the locals, and a local child is kidnapped. Darcy and Fletcher, investigating the unusual circumstances, discover that Sayre (who is almost bankrupt) is desperate to have Lady Sylvanie married to Darcy to inherit the estate of his hated and now-deceased stepmother, and Sylvanie herself - who believes herself able to use charms and spells to direct men to follow her will - is herself eager to gain revenge on Sayre, who ruined her and her mother. Darcy manages to untangle himself from their various schemes and uncovers the culprit behind the recent goings-on - Sayre's stepmother, the former Lady Sayre, who was alive all the time and has been manipulating her daughter in an attempt to destroy her stepson. Revealed, Lady Sayre kills herself, but not before forcing Darcy to face his own darker nature and his deeply-hidden desires for revenge on George Wickham. Even more unsettled than when he started, Darcy swears off trying to find a wife within his own sphere, leaving him once more alone with his complicated feelings for Elizabeth.\"]"
      ]
     },
     "execution_count": 56,
     "metadata": {},
     "output_type": "execute_result"
    }
   ],
   "source": [
    "# I can see that they are historical novels. \n",
    "\n",
    "list(set(hist.summary))[:10]"
   ]
  },
  {
   "cell_type": "code",
   "execution_count": 57,
   "id": "bed40292",
   "metadata": {},
   "outputs": [
    {
     "data": {
      "text/html": [
       "<div>\n",
       "<style scoped>\n",
       "    .dataframe tbody tr th:only-of-type {\n",
       "        vertical-align: middle;\n",
       "    }\n",
       "\n",
       "    .dataframe tbody tr th {\n",
       "        vertical-align: top;\n",
       "    }\n",
       "\n",
       "    .dataframe thead th {\n",
       "        text-align: right;\n",
       "    }\n",
       "</style>\n",
       "<table border=\"1\" class=\"dataframe\">\n",
       "  <thead>\n",
       "    <tr style=\"text-align: right;\">\n",
       "      <th></th>\n",
       "      <th>title</th>\n",
       "      <th>genre</th>\n",
       "      <th>summary</th>\n",
       "    </tr>\n",
       "  </thead>\n",
       "  <tbody>\n",
       "    <tr>\n",
       "      <th>0</th>\n",
       "      <td>Drowned Wednesday</td>\n",
       "      <td>fantasy</td>\n",
       "      <td>Drowned Wednesday is the first Trustee among ...</td>\n",
       "    </tr>\n",
       "    <tr>\n",
       "      <th>1</th>\n",
       "      <td>The Lost Hero</td>\n",
       "      <td>fantasy</td>\n",
       "      <td>As the book opens, Jason awakens on a school ...</td>\n",
       "    </tr>\n",
       "    <tr>\n",
       "      <th>2</th>\n",
       "      <td>The Eyes of the Overworld</td>\n",
       "      <td>fantasy</td>\n",
       "      <td>Cugel is easily persuaded by the merchant Fia...</td>\n",
       "    </tr>\n",
       "    <tr>\n",
       "      <th>3</th>\n",
       "      <td>Magic's Promise</td>\n",
       "      <td>fantasy</td>\n",
       "      <td>The book opens with Herald-Mage Vanyel return...</td>\n",
       "    </tr>\n",
       "    <tr>\n",
       "      <th>4</th>\n",
       "      <td>Taran Wanderer</td>\n",
       "      <td>fantasy</td>\n",
       "      <td>Taran and Gurgi have returned to Caer Dallben...</td>\n",
       "    </tr>\n",
       "  </tbody>\n",
       "</table>\n",
       "</div>"
      ],
      "text/plain": [
       "                       title    genre  \\\n",
       "0          Drowned Wednesday  fantasy   \n",
       "1              The Lost Hero  fantasy   \n",
       "2  The Eyes of the Overworld  fantasy   \n",
       "3            Magic's Promise  fantasy   \n",
       "4             Taran Wanderer  fantasy   \n",
       "\n",
       "                                             summary  \n",
       "0   Drowned Wednesday is the first Trustee among ...  \n",
       "1   As the book opens, Jason awakens on a school ...  \n",
       "2   Cugel is easily persuaded by the merchant Fia...  \n",
       "3   The book opens with Herald-Mage Vanyel return...  \n",
       "4   Taran and Gurgi have returned to Caer Dallben...  "
      ]
     },
     "execution_count": 57,
     "metadata": {},
     "output_type": "execute_result"
    }
   ],
   "source": [
    "less = books[~books['genre'].isin(['science', 'crime', 'romance', 'psychology', 'sports', 'travel'])]\n",
    "less.head(5)"
   ]
  },
  {
   "cell_type": "code",
   "execution_count": 58,
   "id": "68663695",
   "metadata": {},
   "outputs": [
    {
     "data": {
      "text/plain": [
       "(3099, 3)"
      ]
     },
     "execution_count": 58,
     "metadata": {},
     "output_type": "execute_result"
    }
   ],
   "source": [
    "less.shape"
   ]
  },
  {
   "cell_type": "code",
   "execution_count": 59,
   "id": "7ffb411a",
   "metadata": {
    "scrolled": true
   },
   "outputs": [
    {
     "data": {
      "text/plain": [
       "genre\n",
       "thriller    1023\n",
       "fantasy      876\n",
       "history      600\n",
       "horror       600\n",
       "Name: count, dtype: int64"
      ]
     },
     "execution_count": 59,
     "metadata": {},
     "output_type": "execute_result"
    }
   ],
   "source": [
    "less.genre.value_counts()"
   ]
  },
  {
   "cell_type": "code",
   "execution_count": 60,
   "id": "98398df0",
   "metadata": {},
   "outputs": [
    {
     "data": {
      "text/html": [
       "<div>\n",
       "<style scoped>\n",
       "    .dataframe tbody tr th:only-of-type {\n",
       "        vertical-align: middle;\n",
       "    }\n",
       "\n",
       "    .dataframe tbody tr th {\n",
       "        vertical-align: top;\n",
       "    }\n",
       "\n",
       "    .dataframe thead th {\n",
       "        text-align: right;\n",
       "    }\n",
       "</style>\n",
       "<table border=\"1\" class=\"dataframe\">\n",
       "  <thead>\n",
       "    <tr style=\"text-align: right;\">\n",
       "      <th></th>\n",
       "      <th>title</th>\n",
       "      <th>genre</th>\n",
       "      <th>summary</th>\n",
       "    </tr>\n",
       "  </thead>\n",
       "  <tbody>\n",
       "    <tr>\n",
       "      <th>0</th>\n",
       "      <td>Drowned Wednesday</td>\n",
       "      <td>fantasy</td>\n",
       "      <td>Drowned Wednesday is the first Trustee among ...</td>\n",
       "    </tr>\n",
       "    <tr>\n",
       "      <th>1</th>\n",
       "      <td>The Lost Hero</td>\n",
       "      <td>fantasy</td>\n",
       "      <td>As the book opens, Jason awakens on a school ...</td>\n",
       "    </tr>\n",
       "    <tr>\n",
       "      <th>2</th>\n",
       "      <td>The Eyes of the Overworld</td>\n",
       "      <td>fantasy</td>\n",
       "      <td>Cugel is easily persuaded by the merchant Fia...</td>\n",
       "    </tr>\n",
       "    <tr>\n",
       "      <th>3</th>\n",
       "      <td>Magic's Promise</td>\n",
       "      <td>fantasy</td>\n",
       "      <td>The book opens with Herald-Mage Vanyel return...</td>\n",
       "    </tr>\n",
       "  </tbody>\n",
       "</table>\n",
       "</div>"
      ],
      "text/plain": [
       "                       title    genre  \\\n",
       "0          Drowned Wednesday  fantasy   \n",
       "1              The Lost Hero  fantasy   \n",
       "2  The Eyes of the Overworld  fantasy   \n",
       "3            Magic's Promise  fantasy   \n",
       "\n",
       "                                             summary  \n",
       "0   Drowned Wednesday is the first Trustee among ...  \n",
       "1   As the book opens, Jason awakens on a school ...  \n",
       "2   Cugel is easily persuaded by the merchant Fia...  \n",
       "3   The book opens with Herald-Mage Vanyel return...  "
      ]
     },
     "execution_count": 60,
     "metadata": {},
     "output_type": "execute_result"
    }
   ],
   "source": [
    "# I want to check if in this new dataset, the books classified as 'fantasy' are really fantasy books. \n",
    "# Perhaps they are instead \"fantasy & science fiction\" books. \n",
    "\n",
    "fanta = less[less['genre'] == 'fantasy']\n",
    "fanta.head(4)"
   ]
  },
  {
   "cell_type": "code",
   "execution_count": 61,
   "id": "f92ca2b6",
   "metadata": {},
   "outputs": [
    {
     "data": {
      "text/plain": [
       "\" In this installment, Miriam Beckstein spends most of her time in the first parallel world, a virtual prisoner. She has ruffled enough feathers and stirred up enough trouble that her uncle, the clan's head of security, keeps her well isolated, and unable to travel unchaperoned. At one point in the story, she manages to escape surveillance for a short time, but she quickly gets herself back in trouble, and her activities are strongly circumscribed thereafter. There's a subplot involving Mike Fleming, a cop who dated Miriam a couple of times. Mike has been pulled into a government task force that is investigating the clan's activities and plans with the help of a member of the clan's security apparatus who turned his back on the clan at the end of book two. There are occasional references to the moral and security implications of holding him prisoner outside the criminal justice system, but they are not explored in any depth.\""
      ]
     },
     "execution_count": 61,
     "metadata": {},
     "output_type": "execute_result"
    }
   ],
   "source": [
    "# It seems that the books classifies as \"fantasy\" are really fantasy stories rather than science fiction. \n",
    "\n",
    "list(set(fanta.summary))[208]"
   ]
  },
  {
   "cell_type": "code",
   "execution_count": 62,
   "id": "ffe84bb5",
   "metadata": {},
   "outputs": [
    {
     "data": {
      "text/html": [
       "<div>\n",
       "<style scoped>\n",
       "    .dataframe tbody tr th:only-of-type {\n",
       "        vertical-align: middle;\n",
       "    }\n",
       "\n",
       "    .dataframe tbody tr th {\n",
       "        vertical-align: top;\n",
       "    }\n",
       "\n",
       "    .dataframe thead th {\n",
       "        text-align: right;\n",
       "    }\n",
       "</style>\n",
       "<table border=\"1\" class=\"dataframe\">\n",
       "  <thead>\n",
       "    <tr style=\"text-align: right;\">\n",
       "      <th></th>\n",
       "      <th>title</th>\n",
       "      <th>summary</th>\n",
       "      <th>genre</th>\n",
       "    </tr>\n",
       "  </thead>\n",
       "  <tbody>\n",
       "    <tr>\n",
       "      <th>415</th>\n",
       "      <td>Burning Tower</td>\n",
       "      <td>The three main characters are Sandry, a Lord ...</td>\n",
       "      <td>fantasy</td>\n",
       "    </tr>\n",
       "    <tr>\n",
       "      <th>303</th>\n",
       "      <td>Westmark</td>\n",
       "      <td>It is a complicated and politically dangerous...</td>\n",
       "      <td>fantasy</td>\n",
       "    </tr>\n",
       "  </tbody>\n",
       "</table>\n",
       "</div>"
      ],
      "text/plain": [
       "             title                                            summary    genre\n",
       "415  Burning Tower   The three main characters are Sandry, a Lord ...  fantasy\n",
       "303       Westmark   It is a complicated and politically dangerous...  fantasy"
      ]
     },
     "execution_count": 62,
     "metadata": {},
     "output_type": "execute_result"
    }
   ],
   "source": [
    "# I define the new order of columns\n",
    "new_order = ['title', 'summary', 'genre']\n",
    "\n",
    "# Reorder columns\n",
    "less = less[new_order]\n",
    "less.sample(2)"
   ]
  },
  {
   "cell_type": "code",
   "execution_count": 63,
   "id": "fb70ccff",
   "metadata": {},
   "outputs": [
    {
     "data": {
      "text/plain": [
       "genre\n",
       "thriller    1023\n",
       "fantasy      876\n",
       "history      600\n",
       "horror       600\n",
       "Name: count, dtype: int64"
      ]
     },
     "execution_count": 63,
     "metadata": {},
     "output_type": "execute_result"
    }
   ],
   "source": [
    "less.genre.value_counts()"
   ]
  },
  {
   "cell_type": "code",
   "execution_count": 64,
   "id": "15d9b0a2",
   "metadata": {},
   "outputs": [
    {
     "data": {
      "text/plain": [
       "genre\n",
       "literary fiction    2819\n",
       "science fiction     2302\n",
       "thriller            2056\n",
       "fantasy             1695\n",
       "historical novel     873\n",
       "horror               590\n",
       "Name: count, dtype: int64"
      ]
     },
     "execution_count": 64,
     "metadata": {},
     "output_type": "execute_result"
    }
   ],
   "source": [
    "six.genre.value_counts()"
   ]
  },
  {
   "cell_type": "code",
   "execution_count": 65,
   "id": "bb50f0f5",
   "metadata": {},
   "outputs": [
    {
     "data": {
      "text/plain": [
       "genre\n",
       "thriller            1023\n",
       "fantasy              876\n",
       "historical novel     600\n",
       "horror               600\n",
       "Name: count, dtype: int64"
      ]
     },
     "execution_count": 65,
     "metadata": {},
     "output_type": "execute_result"
    }
   ],
   "source": [
    "less['genre'] = less['genre'].replace('history', 'historical novel')\n",
    "less.genre.value_counts()"
   ]
  },
  {
   "cell_type": "code",
   "execution_count": 66,
   "id": "6dc3590d",
   "metadata": {},
   "outputs": [
    {
     "name": "stdout",
     "output_type": "stream",
     "text": [
      "(10335, 3)\n"
     ]
    },
    {
     "data": {
      "text/plain": [
       "(3099, 3)"
      ]
     },
     "execution_count": 66,
     "metadata": {},
     "output_type": "execute_result"
    }
   ],
   "source": [
    "print(six.shape)\n",
    "less.shape"
   ]
  },
  {
   "cell_type": "markdown",
   "id": "962cce4b",
   "metadata": {},
   "source": [
    "#### 5.3. Now I'm going to join the two datasets."
   ]
  },
  {
   "cell_type": "code",
   "execution_count": 67,
   "id": "aece9dba",
   "metadata": {},
   "outputs": [
    {
     "data": {
      "text/html": [
       "<div>\n",
       "<style scoped>\n",
       "    .dataframe tbody tr th:only-of-type {\n",
       "        vertical-align: middle;\n",
       "    }\n",
       "\n",
       "    .dataframe tbody tr th {\n",
       "        vertical-align: top;\n",
       "    }\n",
       "\n",
       "    .dataframe thead th {\n",
       "        text-align: right;\n",
       "    }\n",
       "</style>\n",
       "<table border=\"1\" class=\"dataframe\">\n",
       "  <thead>\n",
       "    <tr style=\"text-align: right;\">\n",
       "      <th></th>\n",
       "      <th>title</th>\n",
       "      <th>summary</th>\n",
       "      <th>genre</th>\n",
       "    </tr>\n",
       "  </thead>\n",
       "  <tbody>\n",
       "    <tr>\n",
       "      <th>0</th>\n",
       "      <td>A Clockwork Orange</td>\n",
       "      <td>Alex, a teenager living in near-future Englan...</td>\n",
       "      <td>science fiction</td>\n",
       "    </tr>\n",
       "    <tr>\n",
       "      <th>1</th>\n",
       "      <td>The Plague</td>\n",
       "      <td>The text of The Plague is divided into five p...</td>\n",
       "      <td>literary fiction</td>\n",
       "    </tr>\n",
       "    <tr>\n",
       "      <th>2</th>\n",
       "      <td>All Quiet on the Western Front</td>\n",
       "      <td>The book tells the story of Paul Bäumer, a Ge...</td>\n",
       "      <td>literary fiction</td>\n",
       "    </tr>\n",
       "    <tr>\n",
       "      <th>3</th>\n",
       "      <td>A Wizard of Earthsea</td>\n",
       "      <td>Ged is a young boy on Gont, one of the larger...</td>\n",
       "      <td>fantasy</td>\n",
       "    </tr>\n",
       "    <tr>\n",
       "      <th>4</th>\n",
       "      <td>Blade Runner 3: Replicant Night</td>\n",
       "      <td>Living on Mars, Deckard is acting as a consul...</td>\n",
       "      <td>science fiction</td>\n",
       "    </tr>\n",
       "    <tr>\n",
       "      <th>5</th>\n",
       "      <td>Blade Runner 2: The Edge of Human</td>\n",
       "      <td>Beginning several months after the events in ...</td>\n",
       "      <td>science fiction</td>\n",
       "    </tr>\n",
       "    <tr>\n",
       "      <th>6</th>\n",
       "      <td>Crash</td>\n",
       "      <td>The story is told through the eyes of narrato...</td>\n",
       "      <td>literary fiction</td>\n",
       "    </tr>\n",
       "    <tr>\n",
       "      <th>7</th>\n",
       "      <td>Children of Dune</td>\n",
       "      <td>Nine years after Emperor Paul Muad'dib walked...</td>\n",
       "      <td>science fiction</td>\n",
       "    </tr>\n",
       "  </tbody>\n",
       "</table>\n",
       "</div>"
      ],
      "text/plain": [
       "                               title  \\\n",
       "0                 A Clockwork Orange   \n",
       "1                         The Plague   \n",
       "2     All Quiet on the Western Front   \n",
       "3               A Wizard of Earthsea   \n",
       "4    Blade Runner 3: Replicant Night   \n",
       "5  Blade Runner 2: The Edge of Human   \n",
       "6                              Crash   \n",
       "7                   Children of Dune   \n",
       "\n",
       "                                             summary             genre  \n",
       "0   Alex, a teenager living in near-future Englan...   science fiction  \n",
       "1   The text of The Plague is divided into five p...  literary fiction  \n",
       "2   The book tells the story of Paul Bäumer, a Ge...  literary fiction  \n",
       "3   Ged is a young boy on Gont, one of the larger...           fantasy  \n",
       "4   Living on Mars, Deckard is acting as a consul...   science fiction  \n",
       "5   Beginning several months after the events in ...   science fiction  \n",
       "6   The story is told through the eyes of narrato...  literary fiction  \n",
       "7   Nine years after Emperor Paul Muad'dib walked...   science fiction  "
      ]
     },
     "execution_count": 67,
     "metadata": {},
     "output_type": "execute_result"
    }
   ],
   "source": [
    "joined = pd.concat([six, less], ignore_index=True)\n",
    "joined.head(8)"
   ]
  },
  {
   "cell_type": "code",
   "execution_count": 68,
   "id": "357d1fa3",
   "metadata": {},
   "outputs": [
    {
     "data": {
      "text/plain": [
       "(13434, 3)"
      ]
     },
     "execution_count": 68,
     "metadata": {},
     "output_type": "execute_result"
    }
   ],
   "source": [
    "joined.shape"
   ]
  },
  {
   "cell_type": "code",
   "execution_count": 69,
   "id": "96896748",
   "metadata": {
    "scrolled": true
   },
   "outputs": [
    {
     "data": {
      "text/plain": [
       "1730"
      ]
     },
     "execution_count": 69,
     "metadata": {},
     "output_type": "execute_result"
    }
   ],
   "source": [
    "joined.duplicated().sum()"
   ]
  },
  {
   "cell_type": "code",
   "execution_count": 70,
   "id": "b10e1734",
   "metadata": {},
   "outputs": [
    {
     "data": {
      "text/plain": [
       "0"
      ]
     },
     "execution_count": 70,
     "metadata": {},
     "output_type": "execute_result"
    }
   ],
   "source": [
    "join = joined.drop_duplicates()\n",
    "join.duplicated().sum()"
   ]
  },
  {
   "cell_type": "code",
   "execution_count": 71,
   "id": "70b65aa4",
   "metadata": {},
   "outputs": [
    {
     "data": {
      "text/plain": [
       "(11704, 3)"
      ]
     },
     "execution_count": 71,
     "metadata": {},
     "output_type": "execute_result"
    }
   ],
   "source": [
    "join.shape"
   ]
  },
  {
   "cell_type": "code",
   "execution_count": 72,
   "id": "9361d168",
   "metadata": {},
   "outputs": [
    {
     "data": {
      "text/plain": [
       "genre\n",
       "literary fiction    2819\n",
       "thriller            2634\n",
       "science fiction     2302\n",
       "fantasy             2210\n",
       "historical novel    1048\n",
       "horror               691\n",
       "Name: count, dtype: int64"
      ]
     },
     "execution_count": 72,
     "metadata": {},
     "output_type": "execute_result"
    }
   ],
   "source": [
    "join.genre.value_counts()"
   ]
  },
  {
   "cell_type": "code",
   "execution_count": 73,
   "id": "f76af6ae",
   "metadata": {},
   "outputs": [],
   "source": [
    "# Maybe we should drop the 'horror' column because it is the category with less samples.\n",
    "# we want a balanced dataset so that our models are better trained. "
   ]
  },
  {
   "cell_type": "code",
   "execution_count": 74,
   "id": "8cbdfe73",
   "metadata": {},
   "outputs": [
    {
     "data": {
      "text/plain": [
       "(11013, 3)"
      ]
     },
     "execution_count": 74,
     "metadata": {},
     "output_type": "execute_result"
    }
   ],
   "source": [
    "five = join[~join['genre'].isin(['horror'])]\n",
    "five.shape"
   ]
  },
  {
   "cell_type": "code",
   "execution_count": 75,
   "id": "4643f7e8",
   "metadata": {},
   "outputs": [
    {
     "data": {
      "text/plain": [
       "genre\n",
       "literary fiction    2819\n",
       "thriller            2634\n",
       "science fiction     2302\n",
       "fantasy             2210\n",
       "historical novel    1048\n",
       "Name: count, dtype: int64"
      ]
     },
     "execution_count": 75,
     "metadata": {},
     "output_type": "execute_result"
    }
   ],
   "source": [
    "five_counts = five.genre.value_counts()\n",
    "five_counts"
   ]
  },
  {
   "cell_type": "code",
   "execution_count": 79,
   "id": "fa6a410c",
   "metadata": {},
   "outputs": [
    {
     "data": {
      "image/png": "[encoded data removed]",
      "text/plain": [
       "<Figure size 800x600 with 1 Axes>"
      ]
     },
     "metadata": {},
     "output_type": "display_data"
    }
   ],
   "source": [
    "# Set the figsize parameter to control the size of the figure\n",
    "plt.figure(figsize=(8, 6))\n",
    "\n",
    "five_counts.plot(kind='bar', color=['skyblue', 'lightgreen', 'orange', 'pink', 'yellow'])\n",
    "plt.xlabel('Genre')\n",
    "plt.ylabel('Count')\n",
    "plt.title('Count of Book Genres')\n",
    "plt.xticks(rotation=45) \n",
    "plt.show()"
   ]
  },
  {
   "cell_type": "code",
   "execution_count": null,
   "id": "4adfcc69",
   "metadata": {},
   "outputs": [],
   "source": [
    "# I save my dataframe with the changes saved:\n",
    "\n",
    "five.to_csv(\"five.csv\", index=False)\n",
    "\n",
    "# Specify the folder path and filename for the CSV file\n",
    "folder_path = \"/Users/usuari/Desktop/Ironhack/BOOTCAMP/projects/final_project/data\"\n",
    "file_name = \"five.csv\"\n",
    "\n",
    "# Combine the folder path and filename to create the full file path\n",
    "full_file_path = f\"{folder_path}/{file_name}\"\n",
    "\n",
    "# Export the DataFrame to the specified folder\n",
    "five.to_csv(full_file_path, index=False)"
   ]
  }
 ],
 "metadata": {
  "kernelspec": {
   "display_name": "ironhack",
   "language": "python",
   "name": "python3"
  },
  "language_info": {
   "codemirror_mode": {
    "name": "ipython",
    "version": 3
   },
   "file_extension": ".py",
   "mimetype": "text/x-python",
   "name": "python",
   "nbconvert_exporter": "python",
   "pygments_lexer": "ipython3",
   "version": "3.11.5"
  }
 },
 "nbformat": 4,
 "nbformat_minor": 5
}
